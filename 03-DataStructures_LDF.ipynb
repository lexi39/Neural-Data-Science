{
 "cells": [
  {
   "cell_type": "markdown",
   "metadata": {
    "slideshow": {
     "slide_type": "slide"
    }
   },
   "source": [
    "# Programming Fundamentals II\n",
    "### Data Structures\n",
    "\n",
    "In this notebook, we'll explore different types of data structures that Python can use to store information, namely **lists, tuples, and dictionaries.**"
   ]
  },
  {
   "cell_type": "markdown",
   "metadata": {
    "slideshow": {
     "slide_type": "slide"
    }
   },
   "source": [
    "\n",
    "## At the end of this notebook, you'll be able to:\n",
    "* Recognize & create lists, tuples, and dictionaries in Python\n",
    "* Index, slice, cast, and mutate lists\n",
    "* Understand the implications of mutability and object-oriented programming"
   ]
  },
  {
   "cell_type": "markdown",
   "metadata": {
    "slideshow": {
     "slide_type": "slide"
    }
   },
   "source": [
    "## A _list_ is a mutable collection of ordered items, that can be of mixed type.\n",
    "\n",
    "**Mutable** means that individual items in the object can be changed. Lists are mutable. Tuples and strings are not -- they're **immutable**.\n",
    "\n",
    "Lists are created using square brackets, and individual elements are separated by commas.\n",
    "\n",
    "-mixed type with strings, text, etc.\n",
    "-create lists with square brackets"
   ]
  },
  {
   "cell_type": "code",
   "execution_count": 6,
   "metadata": {
    "scrolled": true,
    "slideshow": {
     "slide_type": "fragment"
    }
   },
   "outputs": [
    {
     "name": "stdout",
     "output_type": "stream",
     "text": [
      "['apple', 'banana', 'mango', 'strawberry']\n"
     ]
    }
   ],
   "source": [
    "# Create a list of fruits\n",
    "fruits = ['apple','banana', 'mango','strawberry']\n",
    "print(fruits)\n",
    "len(fruits)\n",
    "fruits.sort()"
   ]
  },
  {
   "cell_type": "markdown",
   "metadata": {
    "slideshow": {
     "slide_type": "slide"
    }
   },
   "source": [
    "### Useful list functions\n",
    "- Check the length of your list by using `len(my_list)`\n",
    "- Use `my_list.append()` to add elements to a list\n",
    "- Remove elements by index using `del my_list[index]`\n",
    "- Remove elements by value by using `my_list.remove(‘value’)`\n",
    "- Sort by using `my_list.sort()`"
   ]
  },
  {
   "cell_type": "code",
   "execution_count": 10,
   "metadata": {
    "scrolled": true,
    "slideshow": {
     "slide_type": "fragment"
    }
   },
   "outputs": [
    {
     "name": "stdout",
     "output_type": "stream",
     "text": [
      "['apple', 'banana', 'mango', 'strawberry', 'raspberry']\n"
     ]
    }
   ],
   "source": [
    "# Create a list of fruits\n",
    "fruits = ['apple','banana', 'mango','strawberry']\n",
    "fruits.append('raspberry')\n",
    "print(fruits)"
   ]
  },
  {
   "cell_type": "markdown",
   "metadata": {
    "slideshow": {
     "slide_type": "slide"
    }
   },
   "source": [
    "### List indexing & slicing\n",
    "**Indexing** refers to selecting an item from within a collection (e.g., lists, tuples, and strings). Indexing is done with square brackets."
   ]
  },
  {
   "cell_type": "code",
   "execution_count": 11,
   "metadata": {
    "scrolled": true,
    "slideshow": {
     "slide_type": "fragment"
    }
   },
   "outputs": [
    {
     "data": {
      "text/plain": [
       "'apple'"
      ]
     },
     "execution_count": 11,
     "metadata": {},
     "output_type": "execute_result"
    }
   ],
   "source": [
    "fruits[0]"
   ]
  },
  {
   "cell_type": "markdown",
   "metadata": {
    "slideshow": {
     "slide_type": "slide"
    }
   },
   "source": [
    "### If we want multiple items, we can **slice** the list.\n",
    "\n",
    "There are a few ways to slice:\n",
    "\n",
    "1. We can **slice** a part of a list using the syntax `[start:stop]`, which extracts characters between index start and stop (-1).\n",
    "\n",
    "**Notes**\n",
    "- `start` is __included__ then every element __until__ `stop` is included.\n",
    "- Negative values count backwards through the list."
   ]
  },
  {
   "cell_type": "code",
   "execution_count": 12,
   "metadata": {},
   "outputs": [
    {
     "data": {
      "text/plain": [
       "['apple', 'banana', 'mango']"
      ]
     },
     "execution_count": 12,
     "metadata": {},
     "output_type": "execute_result"
    }
   ],
   "source": [
    "fruits[0:3]"
   ]
  },
  {
   "cell_type": "markdown",
   "metadata": {
    "slideshow": {
     "slide_type": "slide"
    }
   },
   "source": [
    "2. If we omit either (or both) of start or stop from `[start:stop]`, the default is the beginning and the end of the string, respectively, e.g. `[:3]`\n",
    "3. We can also define the step size (instead of default 1) using the syntax `[start:stop:step]`"
   ]
  },
  {
   "cell_type": "code",
   "execution_count": 13,
   "metadata": {},
   "outputs": [
    {
     "data": {
      "text/plain": [
       "['apple', 'banana', 'mango']"
      ]
     },
     "execution_count": 13,
     "metadata": {},
     "output_type": "execute_result"
    }
   ],
   "source": [
    "fruits[:3]"
   ]
  },
  {
   "cell_type": "code",
   "execution_count": 14,
   "metadata": {},
   "outputs": [
    {
     "data": {
      "text/plain": [
       "['apple', 'mango']"
      ]
     },
     "execution_count": 14,
     "metadata": {},
     "output_type": "execute_result"
    }
   ],
   "source": [
    "fruits[0:4:2]"
   ]
  },
  {
   "cell_type": "markdown",
   "metadata": {
    "slideshow": {
     "slide_type": "slide"
    }
   },
   "source": [
    "### Reminders\n",
    "- Python is zero-based (The first index is '0')\n",
    "- Negative indices index backwards through a collection\n",
    "\n",
    "![](http://www.nltk.org/images/string-slicing.png)"
   ]
  },
  {
   "cell_type": "markdown",
   "metadata": {
    "slideshow": {
     "slide_type": "slide"
    }
   },
   "source": [
    "<div class=\"alert alert-success\"><b>Task:</b> For our list of fruits, create three different slices, and save them as different variables:\n",
    "    1. A slice of the first two fruits.\n",
    "    2. A slice of the middle three fruits.\n",
    "    3. A slice of the last fruit. </div>"
   ]
  },
  {
   "cell_type": "code",
   "execution_count": 21,
   "metadata": {
    "scrolled": true,
    "slideshow": {
     "slide_type": "fragment"
    }
   },
   "outputs": [
    {
     "name": "stdout",
     "output_type": "stream",
     "text": [
      "['strawberry', 'mango']\n",
      "['mango', 'dragonfruit', 'papaya']\n",
      "coconut\n"
     ]
    }
   ],
   "source": [
    "# Your code here!\n",
    "taskfruits = ['strawberry','mango','dragonfruit','papaya', 'coconut']\n",
    "first_two = taskfruits[0:2]\n",
    "middle_three = taskfruits[1:4]\n",
    "last_fruit = taskfruits[-1]\n",
    "print(first_two)\n",
    "print(middle_three)\n",
    "print(last_fruit)"
   ]
  },
  {
   "cell_type": "markdown",
   "metadata": {
    "slideshow": {
     "slide_type": "slide"
    }
   },
   "source": [
    "### Checking length\n",
    "We can use the function `len( )` to check the length of lists.\n",
    "\n",
    "**Note**: We can also use this to get the number of characters in a string!"
   ]
  },
  {
   "cell_type": "code",
   "execution_count": 22,
   "metadata": {
    "scrolled": true,
    "slideshow": {
     "slide_type": "fragment"
    }
   },
   "outputs": [
    {
     "data": {
      "text/plain": [
       "7"
      ]
     },
     "execution_count": 22,
     "metadata": {},
     "output_type": "execute_result"
    }
   ],
   "source": [
    "len(last_fruit) #gives number of characters in the string "
   ]
  },
  {
   "cell_type": "markdown",
   "metadata": {
    "slideshow": {
     "slide_type": "slide"
    }
   },
   "source": [
    "### Checking membership\n",
    "We can use `in` to see if an item exists in a list. The `in` operator checks whether an element is present in a collection, and can be negated with `not`. _(More on operators in the next lecture)_"
   ]
  },
  {
   "cell_type": "code",
   "execution_count": 23,
   "metadata": {
    "scrolled": true,
    "slideshow": {
     "slide_type": "fragment"
    }
   },
   "outputs": [
    {
     "data": {
      "text/plain": [
       "False"
      ]
     },
     "execution_count": 23,
     "metadata": {},
     "output_type": "execute_result"
    }
   ],
   "source": [
    " 'orange' in taskfruits"
   ]
  },
  {
   "cell_type": "markdown",
   "metadata": {
    "slideshow": {
     "slide_type": "slide"
    }
   },
   "source": [
    "### Mutating lists\n",
    "After definition, we can update members of our list _because lists are mutable!_"
   ]
  },
  {
   "cell_type": "code",
   "execution_count": 24,
   "metadata": {
    "scrolled": true,
    "slideshow": {
     "slide_type": "fragment"
    }
   },
   "outputs": [
    {
     "name": "stdout",
     "output_type": "stream",
     "text": [
      "['strawberry', 'mango', 'dragonfruit', 'papaya', 'oranges']\n"
     ]
    }
   ],
   "source": [
    "taskfruits[-1] = 'oranges'\n",
    "print(taskfruits)"
   ]
  },
  {
   "cell_type": "markdown",
   "metadata": {
    "slideshow": {
     "slide_type": "slide"
    }
   },
   "source": [
    "### Creating lists of lists\n",
    "Sometimes, it's useful to create lists of lists. Often, if we import big datasets as lists, this is how it will be organized.\n",
    "\n",
    "![](https://media.giphy.com/media/z1meXneq0oUh2/giphy.gif)"
   ]
  },
  {
   "cell_type": "code",
   "execution_count": 25,
   "metadata": {
    "scrolled": true,
    "slideshow": {
     "slide_type": "slide"
    }
   },
   "outputs": [
    {
     "name": "stdout",
     "output_type": "stream",
     "text": [
      "0.55\n"
     ]
    },
    {
     "data": {
      "text/plain": [
       "[['gene1', 0.48, 0.55], ['gene2', 0.38, 0.85], ['gene3', 0.21, 0.81]]"
      ]
     },
     "execution_count": 25,
     "metadata": {},
     "output_type": "execute_result"
    }
   ],
   "source": [
    "gene_1 = ['gene1',0.48,0.55] #name of gene, then expression level \n",
    "gene_2 = ['gene2',0.38,0.85]\n",
    "gene_3 = ['gene3',0.21,0.81]\n",
    "all_genes = [gene_1, gene_2, gene_3] #will create a giant dataset \n",
    "\n",
    "# We can use this syntax to get a specific value\n",
    "print(all_genes[0][-1]) #outputs the last value of the first list \n",
    "\n",
    "all_genes"
   ]
  },
  {
   "cell_type": "markdown",
   "metadata": {
    "slideshow": {
     "slide_type": "slide"
    }
   },
   "source": [
    "## A _tuple_ is an **immutable** collection of ordered items, that can be of mixed type.\n",
    "\n",
    "* Tuples are created using parentheses.\n",
    "* Indexing works similar to lists."
   ]
  },
  {
   "cell_type": "code",
   "execution_count": 28,
   "metadata": {
    "scrolled": true,
    "slideshow": {
     "slide_type": "fragment"
    }
   },
   "outputs": [
    {
     "data": {
      "text/plain": [
       "'b'"
      ]
     },
     "execution_count": 28,
     "metadata": {},
     "output_type": "execute_result"
    }
   ],
   "source": [
    "# Define a tuple\n",
    "tup = (2, 'b', False)\n",
    "tup[1]"
   ]
  },
  {
   "cell_type": "markdown",
   "metadata": {
    "slideshow": {
     "slide_type": "slide"
    }
   },
   "source": [
    "**Question**: What will be printed out from running this code?"
   ]
  },
  {
   "cell_type": "code",
   "execution_count": 31,
   "metadata": {
    "scrolled": true,
    "slideshow": {
     "slide_type": "fragment"
    }
   },
   "outputs": [
    {
     "name": "stdout",
     "output_type": "stream",
     "text": [
      "Overlap\n"
     ]
    }
   ],
   "source": [
    "lst = ['a', 'b', 'c']\n",
    "tup = ('b', 'c', 'd')\n",
    "if lst[-1] == tup[-1]:\n",
    "    print('EndMatch')\n",
    "elif tup[1] in lst:\n",
    "    print('Overlap')\n",
    "elif len(lst) == tup:\n",
    "    print('Length')\n",
    "else:\n",
    "    print('None')"
   ]
  },
  {
   "cell_type": "markdown",
   "metadata": {
    "slideshow": {
     "slide_type": "skip"
    }
   },
   "source": [
    "<pre>A) EndMatch   B) Overlap   C) Length   D) Overlap & Match   E) None</pre>"
   ]
  },
  {
   "cell_type": "markdown",
   "metadata": {
    "slideshow": {
     "slide_type": "slide"
    }
   },
   "source": [
    "## Casting between variable types\n",
    "We can use `list( )` or `tuple( )` to convert variables into different types. This is called **casting**.\n",
    "\n",
    "This is particularly useful when we use an operator like `range( )` which generates a range, but in the form of an **iterator**."
   ]
  },
  {
   "cell_type": "code",
   "execution_count": 32,
   "metadata": {},
   "outputs": [
    {
     "name": "stdout",
     "output_type": "stream",
     "text": [
      "['b', 'c', 'd']\n"
     ]
    }
   ],
   "source": [
    "tup_into_list = list(tup)\n",
    "print(tup_into_list) #can tell that the output is a list cuz of the square brackets"
   ]
  },
  {
   "cell_type": "markdown",
   "metadata": {
    "slideshow": {
     "slide_type": "slide"
    }
   },
   "source": [
    "**Note**: `range`, like indexing, is defined with `start`,`stop`, and `step`, but commas in between each. Remember that you can always use `?range` or `help(range)` to get details on how a function works. "
   ]
  },
  {
   "cell_type": "code",
   "execution_count": 36,
   "metadata": {
    "scrolled": true,
    "slideshow": {
     "slide_type": "fragment"
    }
   },
   "outputs": [
    {
     "data": {
      "text/plain": [
       "[1, 2, 3, 4, 5, 6, 7, 8, 9]"
      ]
     },
     "execution_count": 36,
     "metadata": {},
     "output_type": "execute_result"
    }
   ],
   "source": [
    "this_range = range(1,10) #can also do range(1,10,2) to do everyother number\n",
    "type(this_range)\n",
    "list(this_range)"
   ]
  },
  {
   "cell_type": "markdown",
   "metadata": {
    "slideshow": {
     "slide_type": "slide"
    }
   },
   "source": [
    "## Circling back to aliases\n",
    "<b>Reminder</b>: Aliases are copies of the same variable."
   ]
  },
  {
   "cell_type": "code",
   "execution_count": 37,
   "metadata": {
    "scrolled": true,
    "slideshow": {
     "slide_type": "fragment"
    }
   },
   "outputs": [
    {
     "name": "stdout",
     "output_type": "stream",
     "text": [
      "2\n",
      "1\n"
     ]
    }
   ],
   "source": [
    "# Make a variable & an alias\n",
    "# change value of original variable\n",
    "a = 1\n",
    "b = a\n",
    "a = 2\n",
    "\n",
    "print(a)\n",
    "print(b)"
   ]
  },
  {
   "cell_type": "markdown",
   "metadata": {
    "slideshow": {
     "slide_type": "slide"
    }
   },
   "source": [
    "### What happens if we make an alias of a **mutable** variable, like a list?"
   ]
  },
  {
   "cell_type": "code",
   "execution_count": 38,
   "metadata": {
    "scrolled": true,
    "slideshow": {
     "slide_type": "fragment"
    }
   },
   "outputs": [
    {
     "data": {
      "text/plain": [
       "[1, 2, 3, 4]"
      ]
     },
     "execution_count": 38,
     "metadata": {},
     "output_type": "execute_result"
    }
   ],
   "source": [
    "first_list = [1, 2, 3, 4]\n",
    "alias_list = first_list\n",
    "alias_list"
   ]
  },
  {
   "cell_type": "code",
   "execution_count": 39,
   "metadata": {
    "scrolled": true,
    "slideshow": {
     "slide_type": "fragment"
    }
   },
   "outputs": [
    {
     "data": {
      "text/plain": [
       "[1, 29, 3, 4]"
      ]
     },
     "execution_count": 39,
     "metadata": {},
     "output_type": "execute_result"
    }
   ],
   "source": [
    "#change second value of first_list\n",
    "first_list[1] = 29\n",
    "first_list"
   ]
  },
  {
   "cell_type": "code",
   "execution_count": 40,
   "metadata": {
    "scrolled": true,
    "slideshow": {
     "slide_type": "fragment"
    }
   },
   "outputs": [
    {
     "data": {
      "text/plain": [
       "[1, 29, 3, 4]"
      ]
     },
     "execution_count": 40,
     "metadata": {},
     "output_type": "execute_result"
    }
   ],
   "source": [
    "# check alias_list, would have expected that the list would not be changed but the alias actually was updated \n",
    "#so Python will update alias lists but won't change alias variables\n",
    "alias_list"
   ]
  },
  {
   "cell_type": "code",
   "execution_count": null,
   "metadata": {},
   "outputs": [],
   "source": [
    "#tuple alias example\n",
    "first_tup = (1,2,3,4)\n",
    "alias_tup = first_tup\n",
    "alias_tup"
   ]
  },
  {
   "cell_type": "markdown",
   "metadata": {
    "slideshow": {
     "slide_type": "slide"
    }
   },
   "source": [
    "**Takeaway**: For *mutable* type variables, when you change one, both change.\n",
    "\n",
    "### Why allow aliasing? \n",
    "\n",
    "Aliasing can get confusing and be difficult to track, so why does Python allow it?\n",
    "\n",
    "Well, it's more efficient to point to an alias than to make an entirely new copy of a a very large variable storing a lot of data. \n",
    "\n",
    "Python allows for the confusion, in favor of being more efficient."
   ]
  },
  {
   "cell_type": "markdown",
   "metadata": {
    "slideshow": {
     "slide_type": "slide"
    }
   },
   "source": [
    "# Dictionaries\n",
    "Dictionaries are also like lists, except that each element is a key-value pair. The syntax for dictionaries is `{key1 : value1, ...}:`\n",
    "\n",
    "In the cell below, create a dictionary for three countries and capitals (`{country:capital,...`}). Remember that strings still need parentheses!\n",
    "\n",
    "dictionaries are useful when you don't know the indexing of the list, so instead you can call a specific word to get the stored value"
   ]
  },
  {
   "cell_type": "code",
   "execution_count": 1,
   "metadata": {
    "scrolled": true,
    "slideshow": {
     "slide_type": "fragment"
    }
   },
   "outputs": [],
   "source": [
    "capitals = ({'France':'Paris', 'United Kingdom':'London'})"
   ]
  },
  {
   "cell_type": "markdown",
   "metadata": {
    "slideshow": {
     "slide_type": "slide"
    }
   },
   "source": [
    "### What would the following code produce?"
   ]
  },
  {
   "cell_type": "code",
   "execution_count": 4,
   "metadata": {},
   "outputs": [
    {
     "name": "stdout",
     "output_type": "stream",
     "text": [
      "{'France': 'Paris', 'United Kingdom': 'London', 'US': 'DC', 'U': 'S', 'D': 'C'}\n"
     ]
    }
   ],
   "source": [
    "x='US'\n",
    "y='DC'\n",
    "updates = ({x})\n",
    "capitals.update(updates)\n",
    "print(capitals)"
   ]
  },
  {
   "cell_type": "code",
   "execution_count": 5,
   "metadata": {},
   "outputs": [
    {
     "name": "stdout",
     "output_type": "stream",
     "text": [
      "Object `items` not found.\n"
     ]
    }
   ],
   "source": [
    ".items?\n"
   ]
  },
  {
   "cell_type": "code",
   "execution_count": null,
   "metadata": {},
   "outputs": [],
   "source": [
    ".items"
   ]
  },
  {
   "cell_type": "code",
   "execution_count": 2,
   "metadata": {
    "scrolled": true,
    "slideshow": {
     "slide_type": "fragment"
    }
   },
   "outputs": [
    {
     "name": "stdout",
     "output_type": "stream",
     "text": [
      "{'France': 'Paris', 'United Kingdom': 'London', 'US': 'DC'}\n"
     ]
    }
   ],
   "source": [
    "capitals['United Kingdom']\n",
    "x='US'\n",
    "y='DC'\n",
    "morecapitals = ({'US':'DC'})\n",
    "capitals.update(morecapitals)\n",
    "print(capitals)"
   ]
  },
  {
   "cell_type": "markdown",
   "metadata": {
    "slideshow": {
     "slide_type": "fragment"
    }
   },
   "source": [
    "### What happens if we look for a key that doesn't exist?"
   ]
  },
  {
   "cell_type": "markdown",
   "metadata": {
    "slideshow": {
     "slide_type": "slide"
    }
   },
   "source": [
    "### Additional dictionary functionality\n",
    "- Use `capitals.update(morecapitals)` to add another dictionary entry\n",
    "- Use `del capitals['US']` to delete entries\n",
    "- Loop by key or values, or both"
   ]
  },
  {
   "cell_type": "markdown",
   "metadata": {
    "slideshow": {
     "slide_type": "slide"
    }
   },
   "source": [
    "### When dictionaries are useful\n",
    "1. Flexible & efficient way to associate labels with heterogeneous data\n",
    "2. Use where data items have, or can be given, labels\n",
    "3. Appropriate for collecting data of different kinds (e.g., name, addresses, ages)"
   ]
  },
  {
   "cell_type": "markdown",
   "metadata": {
    "slideshow": {
     "slide_type": "slide"
    }
   },
   "source": [
    "# References\n",
    "<a href=\"https://swcarpentry.github.io/python-novice-gapminder/11-lists/index.html\">Software Carpentries Lists</a>\n",
    "\n",
    "<a href=\"https://python101.pythonlibrary.org/chapter3_lists_dicts.html\">Python 101: Lists, Tuples, and Dictionaries</a>\n",
    "\n",
    "<a href=\"https://github.com/jakevdp/WhirlwindTourOfPython/blob/6f1daf714fe52a8dde6a288674ba46a7feed8816/06-Built-in-Data-Structures.ipynb\">Whirlwind Tour of Python: Built-In Data Structures</a>\n"
   ]
  },
  {
   "cell_type": "markdown",
   "metadata": {
    "slideshow": {
     "slide_type": "slide"
    }
   },
   "source": [
    "# About this notebook\n",
    "This notebook is largely derived from UCSD COGS18 Materials, created by Tom Donoghue & Shannon Ellis, as well as the <a href=\"https://github.com/jrjohansson/scientific-python-lectures/blob/master/Lecture-1-Introduction-to-Python-Programming.ipynb\">Scientific Python Lecture</a> by J.R. Johansson.\n",
    "\n",
    "Want to run this notebook as a slideshow? If you have Python (or Anaconda) follow <a href=\"http://www.blog.pythonlibrary.org/2018/09/25/creating-presentations-with-jupyter-notebook/\">these instructions</a> to setup your computer with the RISE plugin."
   ]
  }
 ],
 "metadata": {
  "celltoolbar": "Slideshow",
  "kernelspec": {
   "display_name": "Python 3",
   "language": "python",
   "name": "python3"
  },
  "language_info": {
   "codemirror_mode": {
    "name": "ipython",
    "version": 3
   },
   "file_extension": ".py",
   "mimetype": "text/x-python",
   "name": "python",
   "nbconvert_exporter": "python",
   "pygments_lexer": "ipython3",
   "version": "3.6.7"
  },
  "rise": {
   "theme": "serif"
  }
 },
 "nbformat": 4,
 "nbformat_minor": 2
}
