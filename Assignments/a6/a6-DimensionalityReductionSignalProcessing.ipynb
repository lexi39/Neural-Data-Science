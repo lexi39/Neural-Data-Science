{
 "cells": [
  {
   "cell_type": "markdown",
   "metadata": {
    "deletable": false,
    "editable": false,
    "nbgrader": {
     "cell_type": "markdown",
     "checksum": "edf179455ff263bbcdf47af1e3ffbddc",
     "grade": false,
     "grade_id": "cell-7add9d3562f5e6ac",
     "locked": true,
     "schema_version": 3,
     "solution": false,
     "task": false
    }
   },
   "source": [
    "# Assignment 6: _Dimensionality Reduction and Signal Processing_\n",
    "\n",
    "This assignment will explore: _i)_ reducing the complexity of data analyses by reducing high-dimensional data to something more workable, and _ii)_ processing time-series signal data, such as that obtained from intracranial recordings.\n",
    "\n",
    "This assignment is worth 5 points (5% of your grade). \n",
    "\n",
    "**PLEASE DO NOT CHANGE THE NAME OF THIS FILE.**\n",
    "\n",
    "**PLEASE DO NOT COPY & PASTE OR DELETE CELLS INCLUDED IN THE ASSIGNMENT.**\n",
    "\n",
    "_**PLEASE MAKE SURE ALL PLOTS ARE VISIBLE IN YOUR SUBMITTED ASSIGNMENT**_\n",
    "\n",
    "## How to complete assignments\n",
    "\n",
    "Whenever you see:\n",
    "\n",
    "```\n",
    "# YOUR CODE HERE\n",
    "raise NotImplementedError()\n",
    "```\n",
    "\n",
    "You need to **replace (meaning, delete) these lines of code with code that answers the questions** and meets the specified criteria. Make sure you remove the 'raise' line when you do this (or your notebook will raise an error, regardless of any other code, and thus fail the grading tests).\n",
    "\n",
    "You should write the answer to the questions in those cells (the ones with `# YOUR CODE HERE`), but you can also add extra cells to explore / investigate things if you need / want to. \n",
    "\n",
    "Any cell with `assert` statements in it is a test cell. You should not try to change or delete these cells. Note that there might be more than one assert that tests a particular question. \n",
    "\n",
    "If a test does fail, reading the error that is printed out should let you know which test failed, which may be useful for fixing it.\n",
    "\n",
    "Note that some cells, including the test cells, may be read only, which means they won't let you edit them. If you cannot edit a cell - that is normal, and you shouldn't need to edit that cell.\n",
    "\n",
    "\n",
    "## Tips & Tricks\n",
    "\n",
    "The following are a couple tips & tricks that may help you if you get stuck on anything.\n",
    "\n",
    "#### Printing Variables\n",
    "You can (and should) print and check variables as you go. This allows you to check what values they hold, and fix things if anything unexpected happens.\n",
    "\n",
    "#### Restarting the Kernel\n",
    "- If you run cells out of order, you can end up overwriting things in your namespace. \n",
    "- If things seem to go weird, a good first step is to restart the kernel, which you can do from the kernel menu above.\n",
    "- Even if everything seems to be working, it's a nice check to 'Restart & Run All', to make sure everything runs properly in order."
   ]
  },
  {
   "cell_type": "code",
   "execution_count": 33,
   "metadata": {
    "deletable": false,
    "editable": false,
    "nbgrader": {
     "cell_type": "code",
     "checksum": "5eaadcf4ea29b5507269bba8a507f298",
     "grade": false,
     "grade_id": "cell-66ae512250787b27",
     "locked": true,
     "schema_version": 3,
     "solution": false,
     "task": false
    }
   },
   "outputs": [],
   "source": [
    "# We're going to need a number of packages/modules for this assignment\n",
    "import matplotlib as mpl\n",
    "import matplotlib.pyplot as plt\n",
    "\n",
    "%matplotlib inline\n",
    "import seaborn as sns\n",
    "\n",
    "import pandas as pd\n",
    "import numpy as np\n",
    "from scipy import stats"
   ]
  },
  {
   "cell_type": "markdown",
   "metadata": {
    "deletable": false,
    "editable": false,
    "nbgrader": {
     "cell_type": "markdown",
     "checksum": "37a1d2e3bbd8590c6b5f44e8fa065b6a",
     "grade": false,
     "grade_id": "cell-4ff9a1b4c28b6c46",
     "locked": true,
     "schema_version": 3,
     "solution": false,
     "task": false
    }
   },
   "source": [
    "## Part I: _Dimensionality Reduction_\n",
    "\n",
    "### Q1: _Load in electrophysiology data_ (2 pts)\n",
    " \n",
    "Using `ctc`'s `get_ephys_features` method, retrieve some electrophysiological data (no need to specify any species), save it as a `DataFrame` called `ephys_df`, and set its index to the `'specimen_id'`"
   ]
  },
  {
   "cell_type": "code",
   "execution_count": 34,
   "metadata": {
    "deletable": false,
    "nbgrader": {
     "cell_type": "code",
     "checksum": "6671aef89398e1a5d463a28fd8d11960",
     "grade": false,
     "grade_id": "cell-686aa5a7bb2ed3c0",
     "locked": false,
     "schema_version": 3,
     "solution": true,
     "task": false
    }
   },
   "outputs": [
    {
     "data": {
      "text/html": [
       "<div>\n",
       "<style scoped>\n",
       "    .dataframe tbody tr th:only-of-type {\n",
       "        vertical-align: middle;\n",
       "    }\n",
       "\n",
       "    .dataframe tbody tr th {\n",
       "        vertical-align: top;\n",
       "    }\n",
       "\n",
       "    .dataframe thead th {\n",
       "        text-align: right;\n",
       "    }\n",
       "</style>\n",
       "<table border=\"1\" class=\"dataframe\">\n",
       "  <thead>\n",
       "    <tr style=\"text-align: right;\">\n",
       "      <th></th>\n",
       "      <th>adaptation</th>\n",
       "      <th>avg_isi</th>\n",
       "      <th>electrode_0_pa</th>\n",
       "      <th>f_i_curve_slope</th>\n",
       "      <th>fast_trough_t_long_square</th>\n",
       "      <th>fast_trough_t_ramp</th>\n",
       "      <th>fast_trough_t_short_square</th>\n",
       "      <th>fast_trough_v_long_square</th>\n",
       "      <th>fast_trough_v_ramp</th>\n",
       "      <th>fast_trough_v_short_square</th>\n",
       "      <th>...</th>\n",
       "      <th>trough_t_ramp</th>\n",
       "      <th>trough_t_short_square</th>\n",
       "      <th>trough_v_long_square</th>\n",
       "      <th>trough_v_ramp</th>\n",
       "      <th>trough_v_short_square</th>\n",
       "      <th>upstroke_downstroke_ratio_long_square</th>\n",
       "      <th>upstroke_downstroke_ratio_ramp</th>\n",
       "      <th>upstroke_downstroke_ratio_short_square</th>\n",
       "      <th>vm_for_sag</th>\n",
       "      <th>vrest</th>\n",
       "    </tr>\n",
       "    <tr>\n",
       "      <th>specimen_id</th>\n",
       "      <th></th>\n",
       "      <th></th>\n",
       "      <th></th>\n",
       "      <th></th>\n",
       "      <th></th>\n",
       "      <th></th>\n",
       "      <th></th>\n",
       "      <th></th>\n",
       "      <th></th>\n",
       "      <th></th>\n",
       "      <th></th>\n",
       "      <th></th>\n",
       "      <th></th>\n",
       "      <th></th>\n",
       "      <th></th>\n",
       "      <th></th>\n",
       "      <th></th>\n",
       "      <th></th>\n",
       "      <th></th>\n",
       "      <th></th>\n",
       "      <th></th>\n",
       "    </tr>\n",
       "  </thead>\n",
       "  <tbody>\n",
       "    <tr>\n",
       "      <th>529878215</th>\n",
       "      <td>NaN</td>\n",
       "      <td>134.700000</td>\n",
       "      <td>22.697498</td>\n",
       "      <td>8.335459e-02</td>\n",
       "      <td>1.187680</td>\n",
       "      <td>13.295200</td>\n",
       "      <td>1.025916</td>\n",
       "      <td>-56.375004</td>\n",
       "      <td>-57.385420</td>\n",
       "      <td>-57.431251</td>\n",
       "      <td>...</td>\n",
       "      <td>13.295680</td>\n",
       "      <td>1.134780</td>\n",
       "      <td>-56.593754</td>\n",
       "      <td>-57.739586</td>\n",
       "      <td>-74.143753</td>\n",
       "      <td>3.029695</td>\n",
       "      <td>3.061646</td>\n",
       "      <td>2.969821</td>\n",
       "      <td>-80.468750</td>\n",
       "      <td>-73.553391</td>\n",
       "    </tr>\n",
       "    <tr>\n",
       "      <th>548459652</th>\n",
       "      <td>NaN</td>\n",
       "      <td>NaN</td>\n",
       "      <td>-24.887498</td>\n",
       "      <td>-3.913630e-19</td>\n",
       "      <td>1.099840</td>\n",
       "      <td>20.650105</td>\n",
       "      <td>1.025460</td>\n",
       "      <td>-54.000000</td>\n",
       "      <td>-54.828129</td>\n",
       "      <td>-54.656254</td>\n",
       "      <td>...</td>\n",
       "      <td>20.650735</td>\n",
       "      <td>1.160940</td>\n",
       "      <td>-55.406254</td>\n",
       "      <td>-55.242191</td>\n",
       "      <td>-73.500000</td>\n",
       "      <td>2.441895</td>\n",
       "      <td>2.245653</td>\n",
       "      <td>2.231575</td>\n",
       "      <td>-84.406258</td>\n",
       "      <td>-73.056595</td>\n",
       "    </tr>\n",
       "    <tr>\n",
       "      <th>579978640</th>\n",
       "      <td>0.009770</td>\n",
       "      <td>39.044800</td>\n",
       "      <td>-46.765002</td>\n",
       "      <td>5.267857e-01</td>\n",
       "      <td>1.157840</td>\n",
       "      <td>2.551310</td>\n",
       "      <td>1.025387</td>\n",
       "      <td>-59.500000</td>\n",
       "      <td>-58.234378</td>\n",
       "      <td>-59.940975</td>\n",
       "      <td>...</td>\n",
       "      <td>2.551960</td>\n",
       "      <td>1.089851</td>\n",
       "      <td>-60.062500</td>\n",
       "      <td>-58.570314</td>\n",
       "      <td>-61.371531</td>\n",
       "      <td>2.023762</td>\n",
       "      <td>2.162878</td>\n",
       "      <td>2.006406</td>\n",
       "      <td>-93.375008</td>\n",
       "      <td>-60.277321</td>\n",
       "    </tr>\n",
       "    <tr>\n",
       "      <th>439024551</th>\n",
       "      <td>-0.007898</td>\n",
       "      <td>117.816429</td>\n",
       "      <td>5.996250</td>\n",
       "      <td>1.542553e-01</td>\n",
       "      <td>1.989165</td>\n",
       "      <td>9.572025</td>\n",
       "      <td>1.028733</td>\n",
       "      <td>-47.531250</td>\n",
       "      <td>-50.359375</td>\n",
       "      <td>-65.500000</td>\n",
       "      <td>...</td>\n",
       "      <td>9.576308</td>\n",
       "      <td>1.423229</td>\n",
       "      <td>-49.406254</td>\n",
       "      <td>-52.718752</td>\n",
       "      <td>-75.273443</td>\n",
       "      <td>3.105931</td>\n",
       "      <td>3.491663</td>\n",
       "      <td>1.733896</td>\n",
       "      <td>-87.656250</td>\n",
       "      <td>-75.205559</td>\n",
       "    </tr>\n",
       "    <tr>\n",
       "      <th>515188639</th>\n",
       "      <td>0.022842</td>\n",
       "      <td>68.321429</td>\n",
       "      <td>14.910000</td>\n",
       "      <td>1.714041e-01</td>\n",
       "      <td>1.081980</td>\n",
       "      <td>2.462880</td>\n",
       "      <td>1.025620</td>\n",
       "      <td>-48.437504</td>\n",
       "      <td>-46.520837</td>\n",
       "      <td>-51.406253</td>\n",
       "      <td>...</td>\n",
       "      <td>2.490433</td>\n",
       "      <td>1.479690</td>\n",
       "      <td>-53.000004</td>\n",
       "      <td>-54.645837</td>\n",
       "      <td>-64.250003</td>\n",
       "      <td>3.285760</td>\n",
       "      <td>3.363504</td>\n",
       "      <td>4.234701</td>\n",
       "      <td>-81.625008</td>\n",
       "      <td>-63.474991</td>\n",
       "    </tr>\n",
       "  </tbody>\n",
       "</table>\n",
       "<p>5 rows × 55 columns</p>\n",
       "</div>"
      ],
      "text/plain": [
       "             adaptation     avg_isi  electrode_0_pa  f_i_curve_slope  \\\n",
       "specimen_id                                                            \n",
       "529878215           NaN  134.700000       22.697498     8.335459e-02   \n",
       "548459652           NaN         NaN      -24.887498    -3.913630e-19   \n",
       "579978640      0.009770   39.044800      -46.765002     5.267857e-01   \n",
       "439024551     -0.007898  117.816429        5.996250     1.542553e-01   \n",
       "515188639      0.022842   68.321429       14.910000     1.714041e-01   \n",
       "\n",
       "             fast_trough_t_long_square  fast_trough_t_ramp  \\\n",
       "specimen_id                                                  \n",
       "529878215                     1.187680           13.295200   \n",
       "548459652                     1.099840           20.650105   \n",
       "579978640                     1.157840            2.551310   \n",
       "439024551                     1.989165            9.572025   \n",
       "515188639                     1.081980            2.462880   \n",
       "\n",
       "             fast_trough_t_short_square  fast_trough_v_long_square  \\\n",
       "specimen_id                                                          \n",
       "529878215                      1.025916                 -56.375004   \n",
       "548459652                      1.025460                 -54.000000   \n",
       "579978640                      1.025387                 -59.500000   \n",
       "439024551                      1.028733                 -47.531250   \n",
       "515188639                      1.025620                 -48.437504   \n",
       "\n",
       "             fast_trough_v_ramp  fast_trough_v_short_square  ...  \\\n",
       "specimen_id                                                  ...   \n",
       "529878215            -57.385420                  -57.431251  ...   \n",
       "548459652            -54.828129                  -54.656254  ...   \n",
       "579978640            -58.234378                  -59.940975  ...   \n",
       "439024551            -50.359375                  -65.500000  ...   \n",
       "515188639            -46.520837                  -51.406253  ...   \n",
       "\n",
       "             trough_t_ramp  trough_t_short_square  trough_v_long_square  \\\n",
       "specimen_id                                                               \n",
       "529878215        13.295680               1.134780            -56.593754   \n",
       "548459652        20.650735               1.160940            -55.406254   \n",
       "579978640         2.551960               1.089851            -60.062500   \n",
       "439024551         9.576308               1.423229            -49.406254   \n",
       "515188639         2.490433               1.479690            -53.000004   \n",
       "\n",
       "             trough_v_ramp  trough_v_short_square  \\\n",
       "specimen_id                                         \n",
       "529878215       -57.739586             -74.143753   \n",
       "548459652       -55.242191             -73.500000   \n",
       "579978640       -58.570314             -61.371531   \n",
       "439024551       -52.718752             -75.273443   \n",
       "515188639       -54.645837             -64.250003   \n",
       "\n",
       "             upstroke_downstroke_ratio_long_square  \\\n",
       "specimen_id                                          \n",
       "529878215                                 3.029695   \n",
       "548459652                                 2.441895   \n",
       "579978640                                 2.023762   \n",
       "439024551                                 3.105931   \n",
       "515188639                                 3.285760   \n",
       "\n",
       "             upstroke_downstroke_ratio_ramp  \\\n",
       "specimen_id                                   \n",
       "529878215                          3.061646   \n",
       "548459652                          2.245653   \n",
       "579978640                          2.162878   \n",
       "439024551                          3.491663   \n",
       "515188639                          3.363504   \n",
       "\n",
       "             upstroke_downstroke_ratio_short_square  vm_for_sag      vrest  \n",
       "specimen_id                                                                 \n",
       "529878215                                  2.969821  -80.468750 -73.553391  \n",
       "548459652                                  2.231575  -84.406258 -73.056595  \n",
       "579978640                                  2.006406  -93.375008 -60.277321  \n",
       "439024551                                  1.733896  -87.656250 -75.205559  \n",
       "515188639                                  4.234701  -81.625008 -63.474991  \n",
       "\n",
       "[5 rows x 55 columns]"
      ]
     },
     "execution_count": 34,
     "metadata": {},
     "output_type": "execute_result"
    }
   ],
   "source": [
    "from allensdk.core.cell_types_cache import CellTypesCache\n",
    "\n",
    "ctc = CellTypesCache(manifest_file='cell_types/manifest.json')\n",
    "\n",
    "# YOUR CODE HERE\n",
    "ephys_df = pd.DataFrame(ctc.get_ephys_features()).set_index('specimen_id')\n",
    "ephys_df.head()"
   ]
  },
  {
   "cell_type": "code",
   "execution_count": 35,
   "metadata": {
    "deletable": false,
    "editable": false,
    "nbgrader": {
     "cell_type": "code",
     "checksum": "fced56d2adf73089300802c9c9971d1c",
     "grade": true,
     "grade_id": "cell-0c0caf33bfc2751e",
     "locked": true,
     "points": 1,
     "schema_version": 3,
     "solution": false,
     "task": false
    }
   },
   "outputs": [],
   "source": [
    "# Q1 tests\n",
    "assert isinstance(ephys_df, pd.DataFrame)"
   ]
  },
  {
   "cell_type": "code",
   "execution_count": 36,
   "metadata": {
    "deletable": false,
    "editable": false,
    "nbgrader": {
     "cell_type": "code",
     "checksum": "ac9f504216f3a81570b0cfd02b55df6d",
     "grade": true,
     "grade_id": "cell-3c47bb9d1b276a6e",
     "locked": true,
     "points": 1,
     "schema_version": 3,
     "solution": false,
     "task": false
    }
   },
   "outputs": [],
   "source": [
    "# Hidden tests for Q1"
   ]
  },
  {
   "cell_type": "markdown",
   "metadata": {
    "deletable": false,
    "editable": false,
    "nbgrader": {
     "cell_type": "markdown",
     "checksum": "02ee1539df4d0e212a5365217a1cee9e",
     "grade": false,
     "grade_id": "cell-29033ca30f358086",
     "locked": true,
     "schema_version": 3,
     "solution": false,
     "task": false
    }
   },
   "source": [
    "### Q2: _Plot histogram of cell adaptation_ (2 pts)\n",
    "\n",
    "- Plot a histogram of the `'adaptation'` column.\n",
    "- Label the x-axis `'Adaptation'`\n",
    "- Does the histogram of this variable suggest that multiple clusters are present?"
   ]
  },
  {
   "cell_type": "code",
   "execution_count": 37,
   "metadata": {
    "deletable": false,
    "nbgrader": {
     "cell_type": "code",
     "checksum": "a1b98258473007dc0e8739a2ae5add2c",
     "grade": false,
     "grade_id": "cell-4763099c1254012b",
     "locked": false,
     "schema_version": 3,
     "solution": true,
     "task": false
    }
   },
   "outputs": [
    {
     "name": "stderr",
     "output_type": "stream",
     "text": [
      "/opt/conda/lib/python3.6/site-packages/numpy/lib/histograms.py:829: RuntimeWarning: invalid value encountered in greater_equal\n",
      "  keep = (tmp_a >= first_edge)\n",
      "/opt/conda/lib/python3.6/site-packages/numpy/lib/histograms.py:830: RuntimeWarning: invalid value encountered in less_equal\n",
      "  keep &= (tmp_a <= last_edge)\n"
     ]
    },
    {
     "data": {
      "image/png": "[encoded data removed]",
      "text/plain": [
       "<Figure size 432x288 with 1 Axes>"
      ]
     },
     "metadata": {
      "needs_background": "light"
     },
     "output_type": "display_data"
    },
    {
     "name": "stdout",
     "output_type": "stream",
     "text": [
      "The history saving thread hit an unexpected error (OperationalError('unable to open database file',)).History will not be written to the database.\n"
     ]
    }
   ],
   "source": [
    "fig = plt.figure()\n",
    "\n",
    "# YOUR CODE HERE\n",
    "plt.hist(ephys_df['adaptation'])\n",
    "plt.xlabel('Adaptation')\n",
    "plt.show()\n"
   ]
  },
  {
   "cell_type": "code",
   "execution_count": 38,
   "metadata": {
    "deletable": false,
    "editable": false,
    "nbgrader": {
     "cell_type": "code",
     "checksum": "dbb33b79a6101ebe7460162112d524bf",
     "grade": true,
     "grade_id": "cell-122ed46042d2bfcf",
     "locked": true,
     "points": 1,
     "schema_version": 3,
     "solution": false,
     "task": false
    }
   },
   "outputs": [],
   "source": [
    "# Q2 tests\n",
    "assert fig.axes[0]._visible"
   ]
  },
  {
   "cell_type": "code",
   "execution_count": 39,
   "metadata": {
    "deletable": false,
    "editable": false,
    "nbgrader": {
     "cell_type": "code",
     "checksum": "df377513c6b0d8d491318bc473f3c16d",
     "grade": true,
     "grade_id": "cell-c7fb298c6cd79237",
     "locked": true,
     "points": 1,
     "schema_version": 3,
     "solution": false,
     "task": false
    }
   },
   "outputs": [],
   "source": [
    "# Hidden tests for Q2"
   ]
  },
  {
   "cell_type": "markdown",
   "metadata": {
    "deletable": false,
    "editable": false,
    "nbgrader": {
     "cell_type": "markdown",
     "checksum": "b523016f500507c86d95fa200f4b99b0",
     "grade": false,
     "grade_id": "cell-a759e5a67bcbc31b",
     "locked": true,
     "schema_version": 3,
     "solution": false,
     "task": false
    }
   },
   "source": [
    "### Q3: _Create a subset with numeric columns only, drop rows and columns with `NA`s_ (2 pts)\n",
    "\n",
    "- Assign the **number of rows** of `ephys_subset` to a variable called `subset_rows`.\n",
    "- Assign the **number of columns** of `ephys_subset` to a variable called `subset_rows`."
   ]
  },
  {
   "cell_type": "code",
   "execution_count": 40,
   "metadata": {
    "deletable": false,
    "nbgrader": {
     "cell_type": "code",
     "checksum": "ff9654d51d2a24333de1eff358133de6",
     "grade": false,
     "grade_id": "cell-0a12625265ee61e1",
     "locked": false,
     "schema_version": 3,
     "solution": true,
     "task": false
    }
   },
   "outputs": [
    {
     "data": {
      "text/html": [
       "<div>\n",
       "<style scoped>\n",
       "    .dataframe tbody tr th:only-of-type {\n",
       "        vertical-align: middle;\n",
       "    }\n",
       "\n",
       "    .dataframe tbody tr th {\n",
       "        vertical-align: top;\n",
       "    }\n",
       "\n",
       "    .dataframe thead th {\n",
       "        text-align: right;\n",
       "    }\n",
       "</style>\n",
       "<table border=\"1\" class=\"dataframe\">\n",
       "  <thead>\n",
       "    <tr style=\"text-align: right;\">\n",
       "      <th></th>\n",
       "      <th>adaptation</th>\n",
       "      <th>avg_isi</th>\n",
       "      <th>electrode_0_pa</th>\n",
       "      <th>f_i_curve_slope</th>\n",
       "      <th>fast_trough_t_long_square</th>\n",
       "      <th>fast_trough_t_ramp</th>\n",
       "      <th>fast_trough_t_short_square</th>\n",
       "      <th>fast_trough_v_long_square</th>\n",
       "      <th>fast_trough_v_ramp</th>\n",
       "      <th>fast_trough_v_short_square</th>\n",
       "      <th>...</th>\n",
       "      <th>trough_t_ramp</th>\n",
       "      <th>trough_t_short_square</th>\n",
       "      <th>trough_v_long_square</th>\n",
       "      <th>trough_v_ramp</th>\n",
       "      <th>trough_v_short_square</th>\n",
       "      <th>upstroke_downstroke_ratio_long_square</th>\n",
       "      <th>upstroke_downstroke_ratio_ramp</th>\n",
       "      <th>upstroke_downstroke_ratio_short_square</th>\n",
       "      <th>vm_for_sag</th>\n",
       "      <th>vrest</th>\n",
       "    </tr>\n",
       "    <tr>\n",
       "      <th>specimen_id</th>\n",
       "      <th></th>\n",
       "      <th></th>\n",
       "      <th></th>\n",
       "      <th></th>\n",
       "      <th></th>\n",
       "      <th></th>\n",
       "      <th></th>\n",
       "      <th></th>\n",
       "      <th></th>\n",
       "      <th></th>\n",
       "      <th></th>\n",
       "      <th></th>\n",
       "      <th></th>\n",
       "      <th></th>\n",
       "      <th></th>\n",
       "      <th></th>\n",
       "      <th></th>\n",
       "      <th></th>\n",
       "      <th></th>\n",
       "      <th></th>\n",
       "      <th></th>\n",
       "    </tr>\n",
       "  </thead>\n",
       "  <tbody>\n",
       "    <tr>\n",
       "      <th>479013100</th>\n",
       "      <td>0.044825</td>\n",
       "      <td>91.322222</td>\n",
       "      <td>-46.761876</td>\n",
       "      <td>0.223864</td>\n",
       "      <td>1.190240</td>\n",
       "      <td>3.826338</td>\n",
       "      <td>1.025363</td>\n",
       "      <td>-44.937504</td>\n",
       "      <td>-43.635419</td>\n",
       "      <td>-47.395833</td>\n",
       "      <td>...</td>\n",
       "      <td>3.862007</td>\n",
       "      <td>1.806510</td>\n",
       "      <td>-50.875000</td>\n",
       "      <td>-50.989586</td>\n",
       "      <td>-76.791669</td>\n",
       "      <td>2.992793</td>\n",
       "      <td>2.817856</td>\n",
       "      <td>2.706951</td>\n",
       "      <td>-96.906250</td>\n",
       "      <td>-75.320374</td>\n",
       "    </tr>\n",
       "    <tr>\n",
       "      <th>501566512</th>\n",
       "      <td>0.542358</td>\n",
       "      <td>307.100000</td>\n",
       "      <td>9.275000</td>\n",
       "      <td>0.155347</td>\n",
       "      <td>1.085160</td>\n",
       "      <td>8.536707</td>\n",
       "      <td>1.025427</td>\n",
       "      <td>-47.000000</td>\n",
       "      <td>-46.927086</td>\n",
       "      <td>-55.093753</td>\n",
       "      <td>...</td>\n",
       "      <td>8.553967</td>\n",
       "      <td>1.130500</td>\n",
       "      <td>-47.875004</td>\n",
       "      <td>-49.729168</td>\n",
       "      <td>-81.250005</td>\n",
       "      <td>2.718901</td>\n",
       "      <td>2.528137</td>\n",
       "      <td>3.060707</td>\n",
       "      <td>-95.500008</td>\n",
       "      <td>-80.050621</td>\n",
       "    </tr>\n",
       "    <tr>\n",
       "      <th>385492488</th>\n",
       "      <td>0.026335</td>\n",
       "      <td>57.290937</td>\n",
       "      <td>-2.252500</td>\n",
       "      <td>0.230118</td>\n",
       "      <td>1.220605</td>\n",
       "      <td>3.909120</td>\n",
       "      <td>1.025012</td>\n",
       "      <td>-48.718750</td>\n",
       "      <td>-49.625001</td>\n",
       "      <td>-50.287501</td>\n",
       "      <td>...</td>\n",
       "      <td>3.935860</td>\n",
       "      <td>1.418688</td>\n",
       "      <td>-57.562500</td>\n",
       "      <td>-55.854167</td>\n",
       "      <td>-76.443752</td>\n",
       "      <td>3.237865</td>\n",
       "      <td>3.761957</td>\n",
       "      <td>3.683673</td>\n",
       "      <td>-98.250000</td>\n",
       "      <td>-75.684387</td>\n",
       "    </tr>\n",
       "    <tr>\n",
       "      <th>490789494</th>\n",
       "      <td>0.014082</td>\n",
       "      <td>51.684722</td>\n",
       "      <td>16.169373</td>\n",
       "      <td>0.329911</td>\n",
       "      <td>1.189230</td>\n",
       "      <td>3.006398</td>\n",
       "      <td>1.024180</td>\n",
       "      <td>-63.062504</td>\n",
       "      <td>-62.156253</td>\n",
       "      <td>-64.671879</td>\n",
       "      <td>...</td>\n",
       "      <td>3.006433</td>\n",
       "      <td>1.250334</td>\n",
       "      <td>-63.156254</td>\n",
       "      <td>-62.270835</td>\n",
       "      <td>-66.820312</td>\n",
       "      <td>1.749210</td>\n",
       "      <td>1.692778</td>\n",
       "      <td>1.834847</td>\n",
       "      <td>-94.875008</td>\n",
       "      <td>-65.863571</td>\n",
       "    </tr>\n",
       "    <tr>\n",
       "      <th>486146828</th>\n",
       "      <td>0.023807</td>\n",
       "      <td>64.810714</td>\n",
       "      <td>-44.851872</td>\n",
       "      <td>0.245966</td>\n",
       "      <td>1.232415</td>\n",
       "      <td>3.425218</td>\n",
       "      <td>1.025796</td>\n",
       "      <td>-46.687504</td>\n",
       "      <td>-46.520836</td>\n",
       "      <td>-49.987504</td>\n",
       "      <td>...</td>\n",
       "      <td>3.473617</td>\n",
       "      <td>1.343680</td>\n",
       "      <td>-56.562504</td>\n",
       "      <td>-55.302086</td>\n",
       "      <td>-82.462502</td>\n",
       "      <td>4.462798</td>\n",
       "      <td>4.657636</td>\n",
       "      <td>3.995201</td>\n",
       "      <td>-99.593750</td>\n",
       "      <td>-81.016342</td>\n",
       "    </tr>\n",
       "  </tbody>\n",
       "</table>\n",
       "<p>5 rows × 52 columns</p>\n",
       "</div>"
      ],
      "text/plain": [
       "             adaptation     avg_isi  electrode_0_pa  f_i_curve_slope  \\\n",
       "specimen_id                                                            \n",
       "479013100      0.044825   91.322222      -46.761876         0.223864   \n",
       "501566512      0.542358  307.100000        9.275000         0.155347   \n",
       "385492488      0.026335   57.290937       -2.252500         0.230118   \n",
       "490789494      0.014082   51.684722       16.169373         0.329911   \n",
       "486146828      0.023807   64.810714      -44.851872         0.245966   \n",
       "\n",
       "             fast_trough_t_long_square  fast_trough_t_ramp  \\\n",
       "specimen_id                                                  \n",
       "479013100                     1.190240            3.826338   \n",
       "501566512                     1.085160            8.536707   \n",
       "385492488                     1.220605            3.909120   \n",
       "490789494                     1.189230            3.006398   \n",
       "486146828                     1.232415            3.425218   \n",
       "\n",
       "             fast_trough_t_short_square  fast_trough_v_long_square  \\\n",
       "specimen_id                                                          \n",
       "479013100                      1.025363                 -44.937504   \n",
       "501566512                      1.025427                 -47.000000   \n",
       "385492488                      1.025012                 -48.718750   \n",
       "490789494                      1.024180                 -63.062504   \n",
       "486146828                      1.025796                 -46.687504   \n",
       "\n",
       "             fast_trough_v_ramp  fast_trough_v_short_square  ...  \\\n",
       "specimen_id                                                  ...   \n",
       "479013100            -43.635419                  -47.395833  ...   \n",
       "501566512            -46.927086                  -55.093753  ...   \n",
       "385492488            -49.625001                  -50.287501  ...   \n",
       "490789494            -62.156253                  -64.671879  ...   \n",
       "486146828            -46.520836                  -49.987504  ...   \n",
       "\n",
       "             trough_t_ramp  trough_t_short_square  trough_v_long_square  \\\n",
       "specimen_id                                                               \n",
       "479013100         3.862007               1.806510            -50.875000   \n",
       "501566512         8.553967               1.130500            -47.875004   \n",
       "385492488         3.935860               1.418688            -57.562500   \n",
       "490789494         3.006433               1.250334            -63.156254   \n",
       "486146828         3.473617               1.343680            -56.562504   \n",
       "\n",
       "             trough_v_ramp  trough_v_short_square  \\\n",
       "specimen_id                                         \n",
       "479013100       -50.989586             -76.791669   \n",
       "501566512       -49.729168             -81.250005   \n",
       "385492488       -55.854167             -76.443752   \n",
       "490789494       -62.270835             -66.820312   \n",
       "486146828       -55.302086             -82.462502   \n",
       "\n",
       "             upstroke_downstroke_ratio_long_square  \\\n",
       "specimen_id                                          \n",
       "479013100                                 2.992793   \n",
       "501566512                                 2.718901   \n",
       "385492488                                 3.237865   \n",
       "490789494                                 1.749210   \n",
       "486146828                                 4.462798   \n",
       "\n",
       "             upstroke_downstroke_ratio_ramp  \\\n",
       "specimen_id                                   \n",
       "479013100                          2.817856   \n",
       "501566512                          2.528137   \n",
       "385492488                          3.761957   \n",
       "490789494                          1.692778   \n",
       "486146828                          4.657636   \n",
       "\n",
       "             upstroke_downstroke_ratio_short_square  vm_for_sag      vrest  \n",
       "specimen_id                                                                 \n",
       "479013100                                  2.706951  -96.906250 -75.320374  \n",
       "501566512                                  3.060707  -95.500008 -80.050621  \n",
       "385492488                                  3.683673  -98.250000 -75.684387  \n",
       "490789494                                  1.834847  -94.875008 -65.863571  \n",
       "486146828                                  3.995201  -99.593750 -81.016342  \n",
       "\n",
       "[5 rows x 52 columns]"
      ]
     },
     "execution_count": 40,
     "metadata": {},
     "output_type": "execute_result"
    }
   ],
   "source": [
    "numerics = ['int16', 'int32', 'int64', 'float16', 'float32', 'float64']\n",
    "ephys_subset = ephys_df.select_dtypes(include=numerics)\n",
    "ephys_subset = ephys_subset.dropna(axis=0).dropna(axis=1)\n",
    "\n",
    "# YOUR CODE HERE\n",
    "ephys_subset.shape\n",
    "subset_rows = 601\n",
    "subset_columns = 52\n",
    "ephys_subset.head()"
   ]
  },
  {
   "cell_type": "code",
   "execution_count": 41,
   "metadata": {
    "deletable": false,
    "editable": false,
    "nbgrader": {
     "cell_type": "code",
     "checksum": "1e532dd55139e37b5af6ee88399a89e9",
     "grade": true,
     "grade_id": "cell-b366392c4a042c8f",
     "locked": true,
     "points": 1,
     "schema_version": 3,
     "solution": false,
     "task": false
    }
   },
   "outputs": [],
   "source": [
    "# Q3 tests\n",
    "assert isinstance(subset_rows, int)\n",
    "assert isinstance(subset_columns, int)"
   ]
  },
  {
   "cell_type": "code",
   "execution_count": 42,
   "metadata": {
    "deletable": false,
    "editable": false,
    "nbgrader": {
     "cell_type": "code",
     "checksum": "9545b073c3a6541bb1eef20557473131",
     "grade": true,
     "grade_id": "cell-823b7ca95f7f9e49",
     "locked": true,
     "points": 1,
     "schema_version": 3,
     "solution": false,
     "task": false
    }
   },
   "outputs": [],
   "source": [
    "# Hidden tests for Q3"
   ]
  },
  {
   "cell_type": "markdown",
   "metadata": {
    "deletable": false,
    "editable": false,
    "nbgrader": {
     "cell_type": "markdown",
     "checksum": "8280faae4a2c40ae3b56aa6d8b4d79d5",
     "grade": false,
     "grade_id": "cell-4c8815fa65887bbc",
     "locked": true,
     "schema_version": 3,
     "solution": false,
     "task": false
    }
   },
   "source": [
    "### Q4: _Add a column to separate fast- and slow-adapting specimens_ (4 pts)\n",
    "\n",
    "- An empty column in `ephys_subset` (`ephys_subset['adaptation_type']`) is created below, fill in this column as follows:\n",
    "    - Assign the rows for which `ephys_subset.adaptation` is **below its mean** the value `'slow'`\n",
    "    - Assign the rows for which `ephys_subset.adaptation` is **greater than or equal to its mean** the value `'fast'`\n",
    "    - _Hint:_ each the two operations can be accomplished along the lines of `df.loc[some_condition, 'column_name'] = 'value'`"
   ]
  },
  {
   "cell_type": "code",
   "execution_count": 43,
   "metadata": {
    "deletable": false,
    "nbgrader": {
     "cell_type": "code",
     "checksum": "4b7cd9133d79568c22ba34d8c8606ea6",
     "grade": false,
     "grade_id": "cell-a83aec6fd24808ef",
     "locked": false,
     "schema_version": 3,
     "solution": true,
     "task": false
    }
   },
   "outputs": [
    {
     "data": {
      "text/html": [
       "<div>\n",
       "<style scoped>\n",
       "    .dataframe tbody tr th:only-of-type {\n",
       "        vertical-align: middle;\n",
       "    }\n",
       "\n",
       "    .dataframe tbody tr th {\n",
       "        vertical-align: top;\n",
       "    }\n",
       "\n",
       "    .dataframe thead th {\n",
       "        text-align: right;\n",
       "    }\n",
       "</style>\n",
       "<table border=\"1\" class=\"dataframe\">\n",
       "  <thead>\n",
       "    <tr style=\"text-align: right;\">\n",
       "      <th></th>\n",
       "      <th>adaptation</th>\n",
       "      <th>avg_isi</th>\n",
       "      <th>electrode_0_pa</th>\n",
       "      <th>f_i_curve_slope</th>\n",
       "      <th>fast_trough_t_long_square</th>\n",
       "      <th>fast_trough_t_ramp</th>\n",
       "      <th>fast_trough_t_short_square</th>\n",
       "      <th>fast_trough_v_long_square</th>\n",
       "      <th>fast_trough_v_ramp</th>\n",
       "      <th>fast_trough_v_short_square</th>\n",
       "      <th>...</th>\n",
       "      <th>trough_t_short_square</th>\n",
       "      <th>trough_v_long_square</th>\n",
       "      <th>trough_v_ramp</th>\n",
       "      <th>trough_v_short_square</th>\n",
       "      <th>upstroke_downstroke_ratio_long_square</th>\n",
       "      <th>upstroke_downstroke_ratio_ramp</th>\n",
       "      <th>upstroke_downstroke_ratio_short_square</th>\n",
       "      <th>vm_for_sag</th>\n",
       "      <th>vrest</th>\n",
       "      <th>adaptation_type</th>\n",
       "    </tr>\n",
       "    <tr>\n",
       "      <th>specimen_id</th>\n",
       "      <th></th>\n",
       "      <th></th>\n",
       "      <th></th>\n",
       "      <th></th>\n",
       "      <th></th>\n",
       "      <th></th>\n",
       "      <th></th>\n",
       "      <th></th>\n",
       "      <th></th>\n",
       "      <th></th>\n",
       "      <th></th>\n",
       "      <th></th>\n",
       "      <th></th>\n",
       "      <th></th>\n",
       "      <th></th>\n",
       "      <th></th>\n",
       "      <th></th>\n",
       "      <th></th>\n",
       "      <th></th>\n",
       "      <th></th>\n",
       "      <th></th>\n",
       "    </tr>\n",
       "  </thead>\n",
       "  <tbody>\n",
       "    <tr>\n",
       "      <th>479013100</th>\n",
       "      <td>0.044825</td>\n",
       "      <td>91.322222</td>\n",
       "      <td>-46.761876</td>\n",
       "      <td>0.223864</td>\n",
       "      <td>1.190240</td>\n",
       "      <td>3.826338</td>\n",
       "      <td>1.025363</td>\n",
       "      <td>-44.937504</td>\n",
       "      <td>-43.635419</td>\n",
       "      <td>-47.395833</td>\n",
       "      <td>...</td>\n",
       "      <td>1.806510</td>\n",
       "      <td>-50.875000</td>\n",
       "      <td>-50.989586</td>\n",
       "      <td>-76.791669</td>\n",
       "      <td>2.992793</td>\n",
       "      <td>2.817856</td>\n",
       "      <td>2.706951</td>\n",
       "      <td>-96.906250</td>\n",
       "      <td>-75.320374</td>\n",
       "      <td>slow</td>\n",
       "    </tr>\n",
       "    <tr>\n",
       "      <th>501566512</th>\n",
       "      <td>0.542358</td>\n",
       "      <td>307.100000</td>\n",
       "      <td>9.275000</td>\n",
       "      <td>0.155347</td>\n",
       "      <td>1.085160</td>\n",
       "      <td>8.536707</td>\n",
       "      <td>1.025427</td>\n",
       "      <td>-47.000000</td>\n",
       "      <td>-46.927086</td>\n",
       "      <td>-55.093753</td>\n",
       "      <td>...</td>\n",
       "      <td>1.130500</td>\n",
       "      <td>-47.875004</td>\n",
       "      <td>-49.729168</td>\n",
       "      <td>-81.250005</td>\n",
       "      <td>2.718901</td>\n",
       "      <td>2.528137</td>\n",
       "      <td>3.060707</td>\n",
       "      <td>-95.500008</td>\n",
       "      <td>-80.050621</td>\n",
       "      <td>fast</td>\n",
       "    </tr>\n",
       "    <tr>\n",
       "      <th>385492488</th>\n",
       "      <td>0.026335</td>\n",
       "      <td>57.290937</td>\n",
       "      <td>-2.252500</td>\n",
       "      <td>0.230118</td>\n",
       "      <td>1.220605</td>\n",
       "      <td>3.909120</td>\n",
       "      <td>1.025012</td>\n",
       "      <td>-48.718750</td>\n",
       "      <td>-49.625001</td>\n",
       "      <td>-50.287501</td>\n",
       "      <td>...</td>\n",
       "      <td>1.418688</td>\n",
       "      <td>-57.562500</td>\n",
       "      <td>-55.854167</td>\n",
       "      <td>-76.443752</td>\n",
       "      <td>3.237865</td>\n",
       "      <td>3.761957</td>\n",
       "      <td>3.683673</td>\n",
       "      <td>-98.250000</td>\n",
       "      <td>-75.684387</td>\n",
       "      <td>slow</td>\n",
       "    </tr>\n",
       "    <tr>\n",
       "      <th>490789494</th>\n",
       "      <td>0.014082</td>\n",
       "      <td>51.684722</td>\n",
       "      <td>16.169373</td>\n",
       "      <td>0.329911</td>\n",
       "      <td>1.189230</td>\n",
       "      <td>3.006398</td>\n",
       "      <td>1.024180</td>\n",
       "      <td>-63.062504</td>\n",
       "      <td>-62.156253</td>\n",
       "      <td>-64.671879</td>\n",
       "      <td>...</td>\n",
       "      <td>1.250334</td>\n",
       "      <td>-63.156254</td>\n",
       "      <td>-62.270835</td>\n",
       "      <td>-66.820312</td>\n",
       "      <td>1.749210</td>\n",
       "      <td>1.692778</td>\n",
       "      <td>1.834847</td>\n",
       "      <td>-94.875008</td>\n",
       "      <td>-65.863571</td>\n",
       "      <td>slow</td>\n",
       "    </tr>\n",
       "    <tr>\n",
       "      <th>486146828</th>\n",
       "      <td>0.023807</td>\n",
       "      <td>64.810714</td>\n",
       "      <td>-44.851872</td>\n",
       "      <td>0.245966</td>\n",
       "      <td>1.232415</td>\n",
       "      <td>3.425218</td>\n",
       "      <td>1.025796</td>\n",
       "      <td>-46.687504</td>\n",
       "      <td>-46.520836</td>\n",
       "      <td>-49.987504</td>\n",
       "      <td>...</td>\n",
       "      <td>1.343680</td>\n",
       "      <td>-56.562504</td>\n",
       "      <td>-55.302086</td>\n",
       "      <td>-82.462502</td>\n",
       "      <td>4.462798</td>\n",
       "      <td>4.657636</td>\n",
       "      <td>3.995201</td>\n",
       "      <td>-99.593750</td>\n",
       "      <td>-81.016342</td>\n",
       "      <td>slow</td>\n",
       "    </tr>\n",
       "  </tbody>\n",
       "</table>\n",
       "<p>5 rows × 53 columns</p>\n",
       "</div>"
      ],
      "text/plain": [
       "             adaptation     avg_isi  electrode_0_pa  f_i_curve_slope  \\\n",
       "specimen_id                                                            \n",
       "479013100      0.044825   91.322222      -46.761876         0.223864   \n",
       "501566512      0.542358  307.100000        9.275000         0.155347   \n",
       "385492488      0.026335   57.290937       -2.252500         0.230118   \n",
       "490789494      0.014082   51.684722       16.169373         0.329911   \n",
       "486146828      0.023807   64.810714      -44.851872         0.245966   \n",
       "\n",
       "             fast_trough_t_long_square  fast_trough_t_ramp  \\\n",
       "specimen_id                                                  \n",
       "479013100                     1.190240            3.826338   \n",
       "501566512                     1.085160            8.536707   \n",
       "385492488                     1.220605            3.909120   \n",
       "490789494                     1.189230            3.006398   \n",
       "486146828                     1.232415            3.425218   \n",
       "\n",
       "             fast_trough_t_short_square  fast_trough_v_long_square  \\\n",
       "specimen_id                                                          \n",
       "479013100                      1.025363                 -44.937504   \n",
       "501566512                      1.025427                 -47.000000   \n",
       "385492488                      1.025012                 -48.718750   \n",
       "490789494                      1.024180                 -63.062504   \n",
       "486146828                      1.025796                 -46.687504   \n",
       "\n",
       "             fast_trough_v_ramp  fast_trough_v_short_square  ...  \\\n",
       "specimen_id                                                  ...   \n",
       "479013100            -43.635419                  -47.395833  ...   \n",
       "501566512            -46.927086                  -55.093753  ...   \n",
       "385492488            -49.625001                  -50.287501  ...   \n",
       "490789494            -62.156253                  -64.671879  ...   \n",
       "486146828            -46.520836                  -49.987504  ...   \n",
       "\n",
       "             trough_t_short_square  trough_v_long_square  trough_v_ramp  \\\n",
       "specimen_id                                                               \n",
       "479013100                 1.806510            -50.875000     -50.989586   \n",
       "501566512                 1.130500            -47.875004     -49.729168   \n",
       "385492488                 1.418688            -57.562500     -55.854167   \n",
       "490789494                 1.250334            -63.156254     -62.270835   \n",
       "486146828                 1.343680            -56.562504     -55.302086   \n",
       "\n",
       "             trough_v_short_square  upstroke_downstroke_ratio_long_square  \\\n",
       "specimen_id                                                                 \n",
       "479013100               -76.791669                               2.992793   \n",
       "501566512               -81.250005                               2.718901   \n",
       "385492488               -76.443752                               3.237865   \n",
       "490789494               -66.820312                               1.749210   \n",
       "486146828               -82.462502                               4.462798   \n",
       "\n",
       "             upstroke_downstroke_ratio_ramp  \\\n",
       "specimen_id                                   \n",
       "479013100                          2.817856   \n",
       "501566512                          2.528137   \n",
       "385492488                          3.761957   \n",
       "490789494                          1.692778   \n",
       "486146828                          4.657636   \n",
       "\n",
       "             upstroke_downstroke_ratio_short_square  vm_for_sag      vrest  \\\n",
       "specimen_id                                                                  \n",
       "479013100                                  2.706951  -96.906250 -75.320374   \n",
       "501566512                                  3.060707  -95.500008 -80.050621   \n",
       "385492488                                  3.683673  -98.250000 -75.684387   \n",
       "490789494                                  1.834847  -94.875008 -65.863571   \n",
       "486146828                                  3.995201  -99.593750 -81.016342   \n",
       "\n",
       "             adaptation_type  \n",
       "specimen_id                   \n",
       "479013100               slow  \n",
       "501566512               fast  \n",
       "385492488               slow  \n",
       "490789494               slow  \n",
       "486146828               slow  \n",
       "\n",
       "[5 rows x 53 columns]"
      ]
     },
     "execution_count": 43,
     "metadata": {},
     "output_type": "execute_result"
    }
   ],
   "source": [
    "ephys_subset['adaptation_type'] = pd.Series(index=ephys_subset.index)\n",
    "\n",
    "# YOUR CODE HERE\n",
    "#ephys_subset.adaptation.mean()\n",
    "\n",
    "#ephys_subset['adaptation_type'].loc[(ephys_subset['adaptation'] < ephys_subset['adaptation'].mean()), 'adaptation_type' = 'slow']\n",
    "\n",
    "#if ephys_subset['adaptation'] < ephys_subset['adaptation'].mean():\n",
    "    #ephys_subset['adaptation_type'] == 'slow'\n",
    "    \n",
    "#else:\n",
    "    #ephys_subset['adaptation_type'] = 'fast'\n",
    "\n",
    "\n",
    "\n",
    "ephys_subset.loc[(ephys_subset['adaptation'] < ephys_subset['adaptation'].mean()), 'adaptation_type'] = 'slow'\n",
    "ephys_subset.loc[(ephys_subset['adaptation'] >= ephys_subset['adaptation'].mean()), 'adaptation_type'] = 'fast'\n",
    "\n",
    "ephys_subset.head()\n",
    "\n",
    "\n"
   ]
  },
  {
   "cell_type": "code",
   "execution_count": 44,
   "metadata": {
    "deletable": false,
    "editable": false,
    "nbgrader": {
     "cell_type": "code",
     "checksum": "fadd944887f5d2ca3e145928af2d68a5",
     "grade": true,
     "grade_id": "cell-78c6e3a507d9f6d5",
     "locked": true,
     "points": 1,
     "schema_version": 3,
     "solution": false,
     "task": false
    }
   },
   "outputs": [],
   "source": [
    "# Q4 tests\n",
    "assert not ephys_subset.adaptation_type.isna().any() "
   ]
  },
  {
   "cell_type": "code",
   "execution_count": 45,
   "metadata": {
    "deletable": false,
    "editable": false,
    "nbgrader": {
     "cell_type": "code",
     "checksum": "12cd24b5cf90a5a8b1bc713eeb28332f",
     "grade": true,
     "grade_id": "cell-69f63e4c6b69eb18",
     "locked": true,
     "points": 3,
     "schema_version": 3,
     "solution": false,
     "task": false
    }
   },
   "outputs": [],
   "source": [
    "# Hidden tests for Q4"
   ]
  },
  {
   "cell_type": "markdown",
   "metadata": {
    "deletable": false,
    "editable": false,
    "nbgrader": {
     "cell_type": "markdown",
     "checksum": "1288f2f9476fbebd04dba3b087a0e448",
     "grade": false,
     "grade_id": "cell-d1e4d993e8af5933",
     "locked": true,
     "schema_version": 3,
     "solution": false,
     "task": false
    }
   },
   "source": [
    "### Q5: _Normalize the subsetted data_ (4 pts)\n",
    "\n",
    "- A new dataframe, `ephys_norm` is a copy of `ephys_subset` with the `'adaptation_type'` column dropped\n",
    "- Normalize the data in this dataframe, the assign it back into `ephys_norm`"
   ]
  },
  {
   "cell_type": "code",
   "execution_count": 46,
   "metadata": {
    "deletable": false,
    "nbgrader": {
     "cell_type": "code",
     "checksum": "3ecaedcb6dd671ee92011227333b6443",
     "grade": false,
     "grade_id": "cell-bfd843ee2686e84b",
     "locked": false,
     "schema_version": 3,
     "solution": true,
     "task": false
    }
   },
   "outputs": [
    {
     "data": {
      "text/html": [
       "<div>\n",
       "<style scoped>\n",
       "    .dataframe tbody tr th:only-of-type {\n",
       "        vertical-align: middle;\n",
       "    }\n",
       "\n",
       "    .dataframe tbody tr th {\n",
       "        vertical-align: top;\n",
       "    }\n",
       "\n",
       "    .dataframe thead th {\n",
       "        text-align: right;\n",
       "    }\n",
       "</style>\n",
       "<table border=\"1\" class=\"dataframe\">\n",
       "  <thead>\n",
       "    <tr style=\"text-align: right;\">\n",
       "      <th></th>\n",
       "      <th>0</th>\n",
       "      <th>1</th>\n",
       "      <th>2</th>\n",
       "      <th>3</th>\n",
       "      <th>4</th>\n",
       "      <th>5</th>\n",
       "      <th>6</th>\n",
       "      <th>7</th>\n",
       "      <th>8</th>\n",
       "      <th>9</th>\n",
       "      <th>...</th>\n",
       "      <th>42</th>\n",
       "      <th>43</th>\n",
       "      <th>44</th>\n",
       "      <th>45</th>\n",
       "      <th>46</th>\n",
       "      <th>47</th>\n",
       "      <th>48</th>\n",
       "      <th>49</th>\n",
       "      <th>50</th>\n",
       "      <th>51</th>\n",
       "    </tr>\n",
       "  </thead>\n",
       "  <tbody>\n",
       "    <tr>\n",
       "      <th>0</th>\n",
       "      <td>-0.187544</td>\n",
       "      <td>0.277569</td>\n",
       "      <td>-1.230825</td>\n",
       "      <td>0.208953</td>\n",
       "      <td>-0.161354</td>\n",
       "      <td>-0.463745</td>\n",
       "      <td>-0.123280</td>\n",
       "      <td>0.963829</td>\n",
       "      <td>1.434628</td>\n",
       "      <td>1.431777</td>\n",
       "      <td>...</td>\n",
       "      <td>-0.398394</td>\n",
       "      <td>1.464881</td>\n",
       "      <td>0.981714</td>\n",
       "      <td>1.203211</td>\n",
       "      <td>-0.532268</td>\n",
       "      <td>-0.436009</td>\n",
       "      <td>-0.656997</td>\n",
       "      <td>-0.802168</td>\n",
       "      <td>-0.741693</td>\n",
       "      <td>-0.394732</td>\n",
       "    </tr>\n",
       "    <tr>\n",
       "      <th>1</th>\n",
       "      <td>5.851790</td>\n",
       "      <td>5.937935</td>\n",
       "      <td>0.409348</td>\n",
       "      <td>-0.416651</td>\n",
       "      <td>-0.716591</td>\n",
       "      <td>1.750994</td>\n",
       "      <td>-0.071621</td>\n",
       "      <td>0.485784</td>\n",
       "      <td>0.597141</td>\n",
       "      <td>-0.400333</td>\n",
       "      <td>...</td>\n",
       "      <td>1.361264</td>\n",
       "      <td>-1.475897</td>\n",
       "      <td>1.781240</td>\n",
       "      <td>1.588216</td>\n",
       "      <td>-1.387606</td>\n",
       "      <td>-0.799888</td>\n",
       "      <td>-1.025520</td>\n",
       "      <td>-0.352181</td>\n",
       "      <td>-0.513859</td>\n",
       "      <td>-1.273932</td>\n",
       "    </tr>\n",
       "    <tr>\n",
       "      <th>2</th>\n",
       "      <td>-0.411981</td>\n",
       "      <td>-0.615152</td>\n",
       "      <td>0.071943</td>\n",
       "      <td>0.266060</td>\n",
       "      <td>-0.000907</td>\n",
       "      <td>-0.424822</td>\n",
       "      <td>-0.409853</td>\n",
       "      <td>0.087412</td>\n",
       "      <td>-0.089279</td>\n",
       "      <td>0.743558</td>\n",
       "      <td>...</td>\n",
       "      <td>-0.370697</td>\n",
       "      <td>-0.222222</td>\n",
       "      <td>-0.800566</td>\n",
       "      <td>-0.282719</td>\n",
       "      <td>-0.465519</td>\n",
       "      <td>-0.110417</td>\n",
       "      <td>0.543899</td>\n",
       "      <td>0.440246</td>\n",
       "      <td>-0.959403</td>\n",
       "      <td>-0.462391</td>\n",
       "    </tr>\n",
       "    <tr>\n",
       "      <th>3</th>\n",
       "      <td>-0.560717</td>\n",
       "      <td>-0.762217</td>\n",
       "      <td>0.611143</td>\n",
       "      <td>1.177229</td>\n",
       "      <td>-0.166691</td>\n",
       "      <td>-0.849267</td>\n",
       "      <td>-1.088493</td>\n",
       "      <td>-3.237180</td>\n",
       "      <td>-3.277557</td>\n",
       "      <td>-2.679934</td>\n",
       "      <td>...</td>\n",
       "      <td>-0.719266</td>\n",
       "      <td>-0.954596</td>\n",
       "      <td>-2.291353</td>\n",
       "      <td>-2.242748</td>\n",
       "      <td>1.380750</td>\n",
       "      <td>-2.088177</td>\n",
       "      <td>-2.088098</td>\n",
       "      <td>-1.911506</td>\n",
       "      <td>-0.412598</td>\n",
       "      <td>1.362980</td>\n",
       "    </tr>\n",
       "    <tr>\n",
       "      <th>4</th>\n",
       "      <td>-0.442662</td>\n",
       "      <td>-0.417891</td>\n",
       "      <td>-1.174920</td>\n",
       "      <td>0.410758</td>\n",
       "      <td>0.061496</td>\n",
       "      <td>-0.652345</td>\n",
       "      <td>0.229634</td>\n",
       "      <td>0.558214</td>\n",
       "      <td>0.700502</td>\n",
       "      <td>0.814958</td>\n",
       "      <td>...</td>\n",
       "      <td>-0.544055</td>\n",
       "      <td>-0.548522</td>\n",
       "      <td>-0.534058</td>\n",
       "      <td>-0.114081</td>\n",
       "      <td>-1.620225</td>\n",
       "      <td>1.516974</td>\n",
       "      <td>1.683204</td>\n",
       "      <td>0.836518</td>\n",
       "      <td>-1.177112</td>\n",
       "      <td>-1.453428</td>\n",
       "    </tr>\n",
       "  </tbody>\n",
       "</table>\n",
       "<p>5 rows × 52 columns</p>\n",
       "</div>"
      ],
      "text/plain": [
       "         0         1         2         3         4         5         6   \\\n",
       "0 -0.187544  0.277569 -1.230825  0.208953 -0.161354 -0.463745 -0.123280   \n",
       "1  5.851790  5.937935  0.409348 -0.416651 -0.716591  1.750994 -0.071621   \n",
       "2 -0.411981 -0.615152  0.071943  0.266060 -0.000907 -0.424822 -0.409853   \n",
       "3 -0.560717 -0.762217  0.611143  1.177229 -0.166691 -0.849267 -1.088493   \n",
       "4 -0.442662 -0.417891 -1.174920  0.410758  0.061496 -0.652345  0.229634   \n",
       "\n",
       "         7         8         9   ...        42        43        44        45  \\\n",
       "0  0.963829  1.434628  1.431777  ... -0.398394  1.464881  0.981714  1.203211   \n",
       "1  0.485784  0.597141 -0.400333  ...  1.361264 -1.475897  1.781240  1.588216   \n",
       "2  0.087412 -0.089279  0.743558  ... -0.370697 -0.222222 -0.800566 -0.282719   \n",
       "3 -3.237180 -3.277557 -2.679934  ... -0.719266 -0.954596 -2.291353 -2.242748   \n",
       "4  0.558214  0.700502  0.814958  ... -0.544055 -0.548522 -0.534058 -0.114081   \n",
       "\n",
       "         46        47        48        49        50        51  \n",
       "0 -0.532268 -0.436009 -0.656997 -0.802168 -0.741693 -0.394732  \n",
       "1 -1.387606 -0.799888 -1.025520 -0.352181 -0.513859 -1.273932  \n",
       "2 -0.465519 -0.110417  0.543899  0.440246 -0.959403 -0.462391  \n",
       "3  1.380750 -2.088177 -2.088098 -1.911506 -0.412598  1.362980  \n",
       "4 -1.620225  1.516974  1.683204  0.836518 -1.177112 -1.453428  \n",
       "\n",
       "[5 rows x 52 columns]"
      ]
     },
     "execution_count": 46,
     "metadata": {},
     "output_type": "execute_result"
    }
   ],
   "source": [
    "ephys_norm = ephys_subset.drop('adaptation_type', axis=1)\n",
    "# YOUR CODE HERE\n",
    "#ephys_norm = (ephys_subset - ephys_subset.mean())/ephys_subset.std()\n",
    "\n",
    "ephys_norm = pd.DataFrame(stats.zscore(ephys_norm))\n",
    "ephys_norm.head()"
   ]
  },
  {
   "cell_type": "code",
   "execution_count": 47,
   "metadata": {
    "deletable": false,
    "editable": false,
    "nbgrader": {
     "cell_type": "code",
     "checksum": "31d00030678e47795569dea58c87e9e9",
     "grade": true,
     "grade_id": "cell-ac80203f304d3c41",
     "locked": true,
     "points": 2,
     "schema_version": 3,
     "solution": false,
     "task": false
    }
   },
   "outputs": [],
   "source": [
    "# Q5 tests\n",
    "assert 'adaptation_type' not in ephys_norm.columns\n",
    "assert ephys_norm.shape[0] == ephys_subset.shape[0]\n",
    "assert ephys_norm.shape[1] == (ephys_subset.shape[1] - 1)"
   ]
  },
  {
   "cell_type": "code",
   "execution_count": 48,
   "metadata": {
    "deletable": false,
    "editable": false,
    "nbgrader": {
     "cell_type": "code",
     "checksum": "edd285af49198cda275c4cc68a3839f9",
     "grade": true,
     "grade_id": "cell-aaef96fc47c80bdb",
     "locked": true,
     "points": 2,
     "schema_version": 3,
     "solution": false,
     "task": false
    }
   },
   "outputs": [],
   "source": [
    "# Hidden tests for Q5"
   ]
  },
  {
   "cell_type": "markdown",
   "metadata": {
    "deletable": false,
    "editable": false,
    "nbgrader": {
     "cell_type": "markdown",
     "checksum": "a610412508e39740fcf07016fa8ea71d",
     "grade": false,
     "grade_id": "cell-3368ad0e8ba8f303",
     "locked": true,
     "schema_version": 3,
     "solution": false,
     "task": false
    }
   },
   "source": [
    "### Q6: _Covariance matrix_ (2 pts)\n",
    "\n",
    "- Compute the covariance matrix for `ephys_norm`, store it in a variable called `ephys_cov`\n",
    "- Plot this covariance matrix (using `plt.imshow()`)"
   ]
  },
  {
   "cell_type": "code",
   "execution_count": 49,
   "metadata": {
    "deletable": false,
    "nbgrader": {
     "cell_type": "code",
     "checksum": "44144ccf95042cab4ab7edf6546c064a",
     "grade": false,
     "grade_id": "cell-a7ea53e30884385c",
     "locked": false,
     "schema_version": 3,
     "solution": true,
     "task": false
    }
   },
   "outputs": [
    {
     "data": {
      "image/png": "[encoded data removed]",
      "text/plain": [
       "<Figure size 432x288 with 2 Axes>"
      ]
     },
     "metadata": {
      "needs_background": "light"
     },
     "output_type": "display_data"
    }
   ],
   "source": [
    "# YOUR CODE HERE\n",
    "ephys_cov = ephys_norm.cov()\n",
    "\n",
    "plt.imshow(ephys_cov)\n",
    "plt.colorbar()\n",
    "plt.title('Covariance Matrix (\\u03A3)')\n",
    "plt.show()"
   ]
  },
  {
   "cell_type": "code",
   "execution_count": 50,
   "metadata": {
    "deletable": false,
    "editable": false,
    "nbgrader": {
     "cell_type": "code",
     "checksum": "ca038872a6dcc85182aeb61f11faf9c5",
     "grade": true,
     "grade_id": "cell-737e143ee2db0715",
     "locked": true,
     "points": 1,
     "schema_version": 3,
     "solution": false,
     "task": false
    }
   },
   "outputs": [],
   "source": [
    "# Q6 tests\n",
    "assert ephys_cov.shape == (52, 52)"
   ]
  },
  {
   "cell_type": "code",
   "execution_count": 51,
   "metadata": {
    "deletable": false,
    "editable": false,
    "nbgrader": {
     "cell_type": "code",
     "checksum": "1611dfac2d9f3a93ee62ccef0d279b6a",
     "grade": true,
     "grade_id": "cell-06ef3b2657abc495",
     "locked": true,
     "points": 1,
     "schema_version": 3,
     "solution": false,
     "task": false
    }
   },
   "outputs": [],
   "source": [
    "# Hidden tests for Q6"
   ]
  },
  {
   "cell_type": "markdown",
   "metadata": {
    "deletable": false,
    "editable": false,
    "nbgrader": {
     "cell_type": "markdown",
     "checksum": "9d3e9eae4271618d7d7aa41087cdf460",
     "grade": false,
     "grade_id": "cell-6c3b6983dac9eb80",
     "locked": true,
     "schema_version": 3,
     "solution": false,
     "task": false
    }
   },
   "source": [
    "### Q7: _Compute principal components_ (4 pts)\n",
    "\n",
    "- Initialize a PCA with 5 components, store it in a variable called `pca`\n",
    "- Fit this `pca` with the `ephys_norm` data\n",
    "- Transform `ephys_norm` using this `pca`, and store it in a variable called `ephys_2D`"
   ]
  },
  {
   "cell_type": "code",
   "execution_count": 52,
   "metadata": {
    "deletable": false,
    "nbgrader": {
     "cell_type": "code",
     "checksum": "262d9022707be5cc6724af45ecdfc0e1",
     "grade": false,
     "grade_id": "cell-01660bc6d6994f55",
     "locked": false,
     "schema_version": 3,
     "solution": true,
     "task": false
    }
   },
   "outputs": [],
   "source": [
    "from sklearn.decomposition import PCA\n",
    "\n",
    "# YOUR CODE HERE  \n",
    "pca = PCA(n_components = 5) \n",
    "pca.fit(ephys_norm)\n",
    "ephys_2D = pca.transform(ephys_norm) "
   ]
  },
  {
   "cell_type": "code",
   "execution_count": 53,
   "metadata": {
    "deletable": false,
    "editable": false,
    "nbgrader": {
     "cell_type": "code",
     "checksum": "f1b308d0162afef886f36c7084677587",
     "grade": true,
     "grade_id": "cell-980d5644dd340295",
     "locked": true,
     "points": 2,
     "schema_version": 3,
     "solution": false,
     "task": false
    }
   },
   "outputs": [],
   "source": [
    "# Q7 tests\n",
    "assert pca.n_components == 5"
   ]
  },
  {
   "cell_type": "code",
   "execution_count": 54,
   "metadata": {
    "deletable": false,
    "editable": false,
    "nbgrader": {
     "cell_type": "code",
     "checksum": "7fea37d15c82e313b66045c26f9a0700",
     "grade": true,
     "grade_id": "cell-e272d4af581e7562",
     "locked": true,
     "points": 2,
     "schema_version": 3,
     "solution": false,
     "task": false
    }
   },
   "outputs": [],
   "source": [
    "# Hidden tests for Q7"
   ]
  },
  {
   "cell_type": "markdown",
   "metadata": {
    "deletable": false,
    "editable": false,
    "nbgrader": {
     "cell_type": "markdown",
     "checksum": "4ace33179e3b62e1afb40662ea62109e",
     "grade": false,
     "grade_id": "cell-935997c0709728e0",
     "locked": true,
     "schema_version": 3,
     "solution": false,
     "task": false
    }
   },
   "source": [
    "### Q8: _Add PCs to original ephys data subset dataframe_ (2 pts)\n",
    "\n",
    "- Assign the first principal component to a column of `ephys_subset` called `'PC1'`\n",
    "- Assign each of the other 4 to `ephys_subset['PC2']`, `ephys_subset['PC3']`, etc."
   ]
  },
  {
   "cell_type": "code",
   "execution_count": 55,
   "metadata": {
    "deletable": false,
    "nbgrader": {
     "cell_type": "code",
     "checksum": "d698e831a4c5be71f1ad073ae03135fe",
     "grade": false,
     "grade_id": "cell-543bdadd48fbe197",
     "locked": false,
     "schema_version": 3,
     "solution": true,
     "task": false
    }
   },
   "outputs": [],
   "source": [
    "# YOUR CODE HERE\n",
    "ephys_subset['PC1'] = ephys_2D[:, 0]\n",
    "ephys_subset['PC2'] = ephys_2D[:, 1]\n",
    "ephys_subset['PC3'] = ephys_2D[:, 2]\n",
    "ephys_subset['PC4'] = ephys_2D[:, 3]\n",
    "ephys_subset['PC5'] = ephys_2D[:, 4]"
   ]
  },
  {
   "cell_type": "code",
   "execution_count": 56,
   "metadata": {
    "deletable": false,
    "editable": false,
    "nbgrader": {
     "cell_type": "code",
     "checksum": "84423ca0232a912ef38e6e3c6cc66f56",
     "grade": true,
     "grade_id": "cell-6b3625766ac94268",
     "locked": true,
     "points": 1,
     "schema_version": 3,
     "solution": false,
     "task": false
    }
   },
   "outputs": [],
   "source": [
    "# Q8 tests\n",
    "assert 'PC1' in ephys_subset.columns\n",
    "assert 'PC2' in ephys_subset.columns\n",
    "assert 'PC3' in ephys_subset.columns\n",
    "assert 'PC4' in ephys_subset.columns\n",
    "assert 'PC5' in ephys_subset.columns"
   ]
  },
  {
   "cell_type": "code",
   "execution_count": 57,
   "metadata": {
    "deletable": false,
    "editable": false,
    "nbgrader": {
     "cell_type": "code",
     "checksum": "c10aaad4f20a3e1e5c08e5e5ac1676a0",
     "grade": true,
     "grade_id": "cell-cc1a24bf090f5b99",
     "locked": true,
     "points": 1,
     "schema_version": 3,
     "solution": false,
     "task": false
    }
   },
   "outputs": [],
   "source": [
    "# Hidden tests for Q8"
   ]
  },
  {
   "cell_type": "markdown",
   "metadata": {
    "deletable": false,
    "editable": false,
    "nbgrader": {
     "cell_type": "markdown",
     "checksum": "a5af91c0fa5e5297bf5c57ca136670d5",
     "grade": false,
     "grade_id": "cell-31403c28e53dc467",
     "locked": true,
     "schema_version": 3,
     "solution": false,
     "task": false
    }
   },
   "source": [
    "### Q9: _Plot PC2 vs. PC1, coloring by adaptation type_ (2 pts)\n",
    "\n",
    "- Create plot using `sns.lmplot()`\n",
    "- Do the two adaptation types _fully segregate_ by the first 2 PCs? Answer yes/no by assigning either _`True`_ or _`False`_ to a variable called `answer`."
   ]
  },
  {
   "cell_type": "code",
   "execution_count": 58,
   "metadata": {
    "deletable": false,
    "nbgrader": {
     "cell_type": "code",
     "checksum": "6bdb2206031b0fa58f1cebd2dcc4fbd2",
     "grade": false,
     "grade_id": "cell-adcaa8ff9923b50e",
     "locked": false,
     "schema_version": 3,
     "solution": true,
     "task": false
    }
   },
   "outputs": [
    {
     "data": {
      "text/plain": [
       "<seaborn.axisgrid.FacetGrid at 0x7f77200a34e0>"
      ]
     },
     "execution_count": 58,
     "metadata": {},
     "output_type": "execute_result"
    },
    {
     "data": {
      "image/png": "[encoded data removed]",
      "text/plain": [
       "<Figure size 449.125x360 with 1 Axes>"
      ]
     },
     "metadata": {
      "needs_background": "light"
     },
     "output_type": "display_data"
    }
   ],
   "source": [
    "answer = False \n",
    "\n",
    "# YOUR CODE HERE\n",
    "sns.lmplot(\"PC1\", \"PC2\", data=ephys_subset, fit_reg=False, hue = 'adaptation_type')"
   ]
  },
  {
   "cell_type": "code",
   "execution_count": 59,
   "metadata": {
    "deletable": false,
    "editable": false,
    "nbgrader": {
     "cell_type": "code",
     "checksum": "952dfb90fb64532a75297bc7d671627f",
     "grade": true,
     "grade_id": "cell-853b78061215333e",
     "locked": true,
     "points": 1,
     "schema_version": 3,
     "solution": false,
     "task": false
    }
   },
   "outputs": [],
   "source": [
    "# Q9 tests\n",
    "assert isinstance(answer, bool)"
   ]
  },
  {
   "cell_type": "code",
   "execution_count": 60,
   "metadata": {
    "deletable": false,
    "editable": false,
    "nbgrader": {
     "cell_type": "code",
     "checksum": "21ffa43ce300124d2695f1cea93e5985",
     "grade": true,
     "grade_id": "cell-6b38281224f1b81e",
     "locked": true,
     "points": 1,
     "schema_version": 3,
     "solution": false,
     "task": false
    }
   },
   "outputs": [],
   "source": [
    "# Hidden tests for Q9"
   ]
  },
  {
   "cell_type": "markdown",
   "metadata": {
    "deletable": false,
    "editable": false,
    "nbgrader": {
     "cell_type": "markdown",
     "checksum": "53e8ce4101b7fdcc3d32b1fa97ef8ca1",
     "grade": false,
     "grade_id": "cell-3653a866f031b76a",
     "locked": true,
     "schema_version": 3,
     "solution": false,
     "task": false
    }
   },
   "source": [
    "### Q10: _Compute K-means clusters for k = 2_ (4 pts)\n",
    "\n",
    "- Initialize a _k-means_ clustering analysis with **2** clusters, assign this to a variable called `kmeans`\n",
    "- Fit `kmeans` with the data in `ephys_2D`\n",
    "- Assign the resulting clusters to a column called `'kmeans_2'` in the `ephys_subset` dataframe\n",
    "- Do you think this data is a good use case for _k_-means clustering?"
   ]
  },
  {
   "cell_type": "code",
   "execution_count": 61,
   "metadata": {
    "deletable": false,
    "nbgrader": {
     "cell_type": "code",
     "checksum": "a8fcc86a833bfa96822ce3e2bf56573a",
     "grade": false,
     "grade_id": "cell-b6da2b312e4eadd8",
     "locked": false,
     "schema_version": 3,
     "solution": true,
     "task": false
    }
   },
   "outputs": [],
   "source": [
    "from sklearn.cluster import KMeans\n",
    "\n",
    "# YOUR CODE HERE\n",
    "kmeans = KMeans(n_clusters=2) \n",
    "\n",
    "kmeans.fit(ephys_2D) \n",
    "#kmeans = kmeans.predict(ephys_2D) \n",
    "\n",
    "ephys_subset['kmeans_2'] = kmeans.predict(ephys_2D)"
   ]
  },
  {
   "cell_type": "code",
   "execution_count": 62,
   "metadata": {
    "deletable": false,
    "editable": false,
    "nbgrader": {
     "cell_type": "code",
     "checksum": "124dd85f5e042e303470aed829c0141e",
     "grade": true,
     "grade_id": "cell-6c3dead250896680",
     "locked": true,
     "points": 2,
     "schema_version": 3,
     "solution": false,
     "task": false
    }
   },
   "outputs": [],
   "source": [
    "# Q10 tests\n",
    "assert kmeans.n_clusters == 2\n",
    "assert 'kmeans_2' in ephys_subset.columns"
   ]
  },
  {
   "cell_type": "code",
   "execution_count": 63,
   "metadata": {
    "deletable": false,
    "editable": false,
    "nbgrader": {
     "cell_type": "code",
     "checksum": "9d7e15f2887625d2fbc6d3059b78774d",
     "grade": true,
     "grade_id": "cell-c6b12fc59768a6fc",
     "locked": true,
     "points": 2,
     "schema_version": 3,
     "solution": false,
     "task": false
    }
   },
   "outputs": [],
   "source": [
    "# Hidden tests for Q10"
   ]
  },
  {
   "cell_type": "markdown",
   "metadata": {
    "deletable": false,
    "editable": false,
    "nbgrader": {
     "cell_type": "markdown",
     "checksum": "83c48b31500b2fcc57b3b05a0c360b1b",
     "grade": false,
     "grade_id": "cell-4e785538fff1137d",
     "locked": true,
     "schema_version": 3,
     "solution": false,
     "task": false
    }
   },
   "source": [
    "### Q11: _Plot PC2 vs. PC1 by K-means cluster for k = 2_ (2 pts)\n",
    "\n",
    "- Create this plot using `sns.lmplot()` with the `ephys_subset` as data, using the `'kmeans_2'` for the hue\n",
    "- Assign the cluster centers from `kmeans` to a variable called `centers`\n",
    "- Add the `centers` to the plot using `plt.scatter()`\n",
    "- Do these clusters resemble the groupings by adaptation type, why or why not? \n",
    "    - Store your answer (_`True`_ or _`False`_) in a variable called `answer`\n",
    "    - and a short explanation (<=1 sentence, in the form of a string) in a variable called `explanation`"
   ]
  },
  {
   "cell_type": "code",
   "execution_count": 64,
   "metadata": {
    "deletable": false,
    "nbgrader": {
     "cell_type": "code",
     "checksum": "b98e811122d5335c6190aa67964f653d",
     "grade": false,
     "grade_id": "cell-75df41be850249e3",
     "locked": false,
     "schema_version": 3,
     "solution": true,
     "task": false
    }
   },
   "outputs": [
    {
     "data": {
      "image/png": "[encoded data removed]",
      "text/plain": [
       "<Figure size 418.625x360 with 1 Axes>"
      ]
     },
     "metadata": {
      "needs_background": "light"
     },
     "output_type": "display_data"
    }
   ],
   "source": [
    "answer = False\n",
    "explanation = 'These clusters do not represent the grouping displayed in the graph above. '\n",
    "\n",
    "# YOUR CODE HERE\n",
    "sns.lmplot(\"PC1\", \"PC2\", hue='kmeans_2', data=ephys_subset, fit_reg=False)\n",
    "centers = kmeans.cluster_centers_\n",
    "plt.scatter(centers[:, 0], centers[:, 1], c='black', s=200, alpha=0.5)\n",
    "plt.show()\n"
   ]
  },
  {
   "cell_type": "code",
   "execution_count": 65,
   "metadata": {
    "deletable": false,
    "editable": false,
    "nbgrader": {
     "cell_type": "code",
     "checksum": "ec3add278281b3759cf15a6b05615d02",
     "grade": true,
     "grade_id": "cell-c88e4e683def8dfa",
     "locked": true,
     "points": 1,
     "schema_version": 3,
     "solution": false,
     "task": false
    }
   },
   "outputs": [],
   "source": [
    "# Q11 tests\n",
    "assert centers.shape == (2, 5)\n",
    "assert isinstance(answer, bool)\n",
    "assert isinstance(explanation, str)"
   ]
  },
  {
   "cell_type": "code",
   "execution_count": 66,
   "metadata": {
    "deletable": false,
    "editable": false,
    "nbgrader": {
     "cell_type": "code",
     "checksum": "d6922195c214450f0eb4c426190ef671",
     "grade": true,
     "grade_id": "cell-22ce28595ed41baf",
     "locked": true,
     "points": 1,
     "schema_version": 3,
     "solution": false,
     "task": false
    }
   },
   "outputs": [],
   "source": [
    "# Hidden tests for Q11"
   ]
  },
  {
   "cell_type": "markdown",
   "metadata": {
    "deletable": false,
    "editable": false,
    "nbgrader": {
     "cell_type": "markdown",
     "checksum": "91ea9a6b54054da0ebc1f0e7c569e7db",
     "grade": false,
     "grade_id": "cell-3746342a05243703",
     "locked": true,
     "schema_version": 3,
     "solution": false,
     "task": false
    }
   },
   "source": [
    "## Part II: _Signal Processing_\n",
    "\n",
    "- First, we will download some ECoG (electrocorticography, recordings made by placing electrodes directly on the surface of the cortex) data. The cell below will download and unzip the data for you, but if you have any trouble, you can download the data [here](http://neurotycho.brain.riken.jp/download/2015/20150120F1_Auditory+Oddball_Fr_Misako+Komatsu-Kana+Takaura_mat_ECoG32-Event-BrainMap.zip) and upload it to the same folder as this assignment. *Make sure the entire file downloads (it is ~40 MB).*\n",
    "- These data are from marmosets, provided courtesy of [NeuroTycho](http://neurotycho.org)\n",
    "    - Reference: [Komatsu, M., Takaura, K., & Fujii, N. (2015). \"Mismatch negativity in common marmosets: Whole-cortical recordings with multi-channel electrocorticograms.\" Scientific Reports, 5, 15006.](http://www.nature.com/articles/srep15006)\n",
    "- The following cell will download and unzip the data, saving within the folder containing this notebook\n",
    "\n",
    "(_All you need to do is run the following cell without modifications._)"
   ]
  },
  {
   "cell_type": "code",
   "execution_count": 67,
   "metadata": {
    "deletable": false,
    "editable": false,
    "nbgrader": {
     "cell_type": "code",
     "checksum": "ce1715417a31dedf0b03c4b5579f7bc7",
     "grade": false,
     "grade_id": "cell-21907fc3c11ce8f0",
     "locked": true,
     "schema_version": 3,
     "solution": false,
     "task": false
    }
   },
   "outputs": [
    {
     "ename": "OSError",
     "evalue": "[Errno 122] Disk quota exceeded: './ecog.zip'",
     "output_type": "error",
     "traceback": [
      "\u001b[0;31m---------------------------------------------------------------------------\u001b[0m",
      "\u001b[0;31mOSError\u001b[0m                                   Traceback (most recent call last)",
      "\u001b[0;32m<ipython-input-67-6244ddc7a664>\u001b[0m in \u001b[0;36m<module>\u001b[0;34m\u001b[0m\n\u001b[1;32m      6\u001b[0m \u001b[0;34m\u001b[0m\u001b[0m\n\u001b[1;32m      7\u001b[0m \u001b[0;31m# retrieve the data from the url\u001b[0m\u001b[0;34m\u001b[0m\u001b[0;34m\u001b[0m\u001b[0;34m\u001b[0m\u001b[0m\n\u001b[0;32m----> 8\u001b[0;31m \u001b[0mlocal_filename\u001b[0m\u001b[0;34m,\u001b[0m \u001b[0mheaders\u001b[0m \u001b[0;34m=\u001b[0m \u001b[0murllib\u001b[0m\u001b[0;34m.\u001b[0m\u001b[0mrequest\u001b[0m\u001b[0;34m.\u001b[0m\u001b[0murlretrieve\u001b[0m\u001b[0;34m(\u001b[0m\u001b[0mdata_url\u001b[0m\u001b[0;34m,\u001b[0m \u001b[0;34m'./ecog.zip'\u001b[0m\u001b[0;34m)\u001b[0m\u001b[0;34m\u001b[0m\u001b[0;34m\u001b[0m\u001b[0m\n\u001b[0m\u001b[1;32m      9\u001b[0m \u001b[0;34m\u001b[0m\u001b[0m\n\u001b[1;32m     10\u001b[0m \u001b[0;31m# unzip the data\u001b[0m\u001b[0;34m\u001b[0m\u001b[0;34m\u001b[0m\u001b[0;34m\u001b[0m\u001b[0m\n",
      "\u001b[0;32m/opt/conda/lib/python3.6/urllib/request.py\u001b[0m in \u001b[0;36murlretrieve\u001b[0;34m(url, filename, reporthook, data)\u001b[0m\n\u001b[1;32m    256\u001b[0m         \u001b[0;31m# Handle temporary file setup.\u001b[0m\u001b[0;34m\u001b[0m\u001b[0;34m\u001b[0m\u001b[0;34m\u001b[0m\u001b[0m\n\u001b[1;32m    257\u001b[0m         \u001b[0;32mif\u001b[0m \u001b[0mfilename\u001b[0m\u001b[0;34m:\u001b[0m\u001b[0;34m\u001b[0m\u001b[0;34m\u001b[0m\u001b[0m\n\u001b[0;32m--> 258\u001b[0;31m             \u001b[0mtfp\u001b[0m \u001b[0;34m=\u001b[0m \u001b[0mopen\u001b[0m\u001b[0;34m(\u001b[0m\u001b[0mfilename\u001b[0m\u001b[0;34m,\u001b[0m \u001b[0;34m'wb'\u001b[0m\u001b[0;34m)\u001b[0m\u001b[0;34m\u001b[0m\u001b[0;34m\u001b[0m\u001b[0m\n\u001b[0m\u001b[1;32m    259\u001b[0m         \u001b[0;32melse\u001b[0m\u001b[0;34m:\u001b[0m\u001b[0;34m\u001b[0m\u001b[0;34m\u001b[0m\u001b[0m\n\u001b[1;32m    260\u001b[0m             \u001b[0mtfp\u001b[0m \u001b[0;34m=\u001b[0m \u001b[0mtempfile\u001b[0m\u001b[0;34m.\u001b[0m\u001b[0mNamedTemporaryFile\u001b[0m\u001b[0;34m(\u001b[0m\u001b[0mdelete\u001b[0m\u001b[0;34m=\u001b[0m\u001b[0;32mFalse\u001b[0m\u001b[0;34m)\u001b[0m\u001b[0;34m\u001b[0m\u001b[0;34m\u001b[0m\u001b[0m\n",
      "\u001b[0;31mOSError\u001b[0m: [Errno 122] Disk quota exceeded: './ecog.zip'"
     ]
    }
   ],
   "source": [
    "import urllib.request\n",
    "import zipfile \n",
    "\n",
    "# URL of data to download\n",
    "data_url = \"http://neurotycho.brain.riken.jp/download/2015/20150120F1_Auditory+Oddball_Fr_Misako+Komatsu-Kana+Takaura_mat_ECoG32-Event-BrainMap.zip\"\n",
    "\n",
    "# retrieve the data from the url\n",
    "local_filename, headers = urllib.request.urlretrieve(data_url, './ecog.zip')\n",
    "\n",
    "# unzip the data\n",
    "with zipfile.ZipFile(local_filename, 'r') as zip_ref:\n",
    "    zip_ref.extractall('.')"
   ]
  },
  {
   "cell_type": "markdown",
   "metadata": {
    "deletable": false,
    "editable": false,
    "nbgrader": {
     "cell_type": "markdown",
     "checksum": "7948fa1e0adae37969366d165d4ca2fc",
     "grade": false,
     "grade_id": "cell-0f635fd87f469173",
     "locked": true,
     "schema_version": 3,
     "solution": false,
     "task": false
    }
   },
   "source": [
    "- Next, we will load the ECoG data, saved as separate `.mat` files for each channel, into an array called `ecog_data`\n",
    "\n",
    "(_All you need to do is run the following cell without modifications._)"
   ]
  },
  {
   "cell_type": "code",
   "execution_count": 68,
   "metadata": {
    "deletable": false,
    "editable": false,
    "nbgrader": {
     "cell_type": "code",
     "checksum": "34df66d479a7c740708673e4efbc7285",
     "grade": false,
     "grade_id": "cell-7bc698edaf2a2e97",
     "locked": true,
     "schema_version": 3,
     "solution": false,
     "task": false
    }
   },
   "outputs": [
    {
     "name": "stdout",
     "output_type": "stream",
     "text": [
      "loading ./20150120F1_Auditory+Oddball_Fr_Misako+Komatsu-Kana+Takaura_mat_ECoG32-Event-BrainMap/ECoG_ch1.mat...\n",
      "loading ./20150120F1_Auditory+Oddball_Fr_Misako+Komatsu-Kana+Takaura_mat_ECoG32-Event-BrainMap/ECoG_ch2.mat...\n",
      "loading ./20150120F1_Auditory+Oddball_Fr_Misako+Komatsu-Kana+Takaura_mat_ECoG32-Event-BrainMap/ECoG_ch3.mat...\n",
      "loading ./20150120F1_Auditory+Oddball_Fr_Misako+Komatsu-Kana+Takaura_mat_ECoG32-Event-BrainMap/ECoG_ch4.mat...\n",
      "loading ./20150120F1_Auditory+Oddball_Fr_Misako+Komatsu-Kana+Takaura_mat_ECoG32-Event-BrainMap/ECoG_ch5.mat...\n",
      "loading ./20150120F1_Auditory+Oddball_Fr_Misako+Komatsu-Kana+Takaura_mat_ECoG32-Event-BrainMap/ECoG_ch6.mat...\n",
      "loading ./20150120F1_Auditory+Oddball_Fr_Misako+Komatsu-Kana+Takaura_mat_ECoG32-Event-BrainMap/ECoG_ch7.mat...\n",
      "loading ./20150120F1_Auditory+Oddball_Fr_Misako+Komatsu-Kana+Takaura_mat_ECoG32-Event-BrainMap/ECoG_ch8.mat...\n",
      "loading ./20150120F1_Auditory+Oddball_Fr_Misako+Komatsu-Kana+Takaura_mat_ECoG32-Event-BrainMap/ECoG_ch9.mat...\n",
      "loading ./20150120F1_Auditory+Oddball_Fr_Misako+Komatsu-Kana+Takaura_mat_ECoG32-Event-BrainMap/ECoG_ch10.mat...\n",
      "loading ./20150120F1_Auditory+Oddball_Fr_Misako+Komatsu-Kana+Takaura_mat_ECoG32-Event-BrainMap/ECoG_ch11.mat...\n",
      "loading ./20150120F1_Auditory+Oddball_Fr_Misako+Komatsu-Kana+Takaura_mat_ECoG32-Event-BrainMap/ECoG_ch12.mat...\n",
      "loading ./20150120F1_Auditory+Oddball_Fr_Misako+Komatsu-Kana+Takaura_mat_ECoG32-Event-BrainMap/ECoG_ch13.mat...\n",
      "loading ./20150120F1_Auditory+Oddball_Fr_Misako+Komatsu-Kana+Takaura_mat_ECoG32-Event-BrainMap/ECoG_ch14.mat...\n",
      "loading ./20150120F1_Auditory+Oddball_Fr_Misako+Komatsu-Kana+Takaura_mat_ECoG32-Event-BrainMap/ECoG_ch15.mat...\n",
      "loading ./20150120F1_Auditory+Oddball_Fr_Misako+Komatsu-Kana+Takaura_mat_ECoG32-Event-BrainMap/ECoG_ch16.mat...\n",
      "loading ./20150120F1_Auditory+Oddball_Fr_Misako+Komatsu-Kana+Takaura_mat_ECoG32-Event-BrainMap/ECoG_ch17.mat...\n",
      "loading ./20150120F1_Auditory+Oddball_Fr_Misako+Komatsu-Kana+Takaura_mat_ECoG32-Event-BrainMap/ECoG_ch18.mat...\n",
      "loading ./20150120F1_Auditory+Oddball_Fr_Misako+Komatsu-Kana+Takaura_mat_ECoG32-Event-BrainMap/ECoG_ch19.mat...\n",
      "loading ./20150120F1_Auditory+Oddball_Fr_Misako+Komatsu-Kana+Takaura_mat_ECoG32-Event-BrainMap/ECoG_ch20.mat...\n",
      "loading ./20150120F1_Auditory+Oddball_Fr_Misako+Komatsu-Kana+Takaura_mat_ECoG32-Event-BrainMap/ECoG_ch21.mat...\n",
      "loading ./20150120F1_Auditory+Oddball_Fr_Misako+Komatsu-Kana+Takaura_mat_ECoG32-Event-BrainMap/ECoG_ch22.mat...\n",
      "loading ./20150120F1_Auditory+Oddball_Fr_Misako+Komatsu-Kana+Takaura_mat_ECoG32-Event-BrainMap/ECoG_ch23.mat...\n",
      "loading ./20150120F1_Auditory+Oddball_Fr_Misako+Komatsu-Kana+Takaura_mat_ECoG32-Event-BrainMap/ECoG_ch24.mat...\n",
      "loading ./20150120F1_Auditory+Oddball_Fr_Misako+Komatsu-Kana+Takaura_mat_ECoG32-Event-BrainMap/ECoG_ch25.mat...\n",
      "loading ./20150120F1_Auditory+Oddball_Fr_Misako+Komatsu-Kana+Takaura_mat_ECoG32-Event-BrainMap/ECoG_ch26.mat...\n",
      "loading ./20150120F1_Auditory+Oddball_Fr_Misako+Komatsu-Kana+Takaura_mat_ECoG32-Event-BrainMap/ECoG_ch27.mat...\n",
      "loading ./20150120F1_Auditory+Oddball_Fr_Misako+Komatsu-Kana+Takaura_mat_ECoG32-Event-BrainMap/ECoG_ch28.mat...\n",
      "loading ./20150120F1_Auditory+Oddball_Fr_Misako+Komatsu-Kana+Takaura_mat_ECoG32-Event-BrainMap/ECoG_ch29.mat...\n",
      "loading ./20150120F1_Auditory+Oddball_Fr_Misako+Komatsu-Kana+Takaura_mat_ECoG32-Event-BrainMap/ECoG_ch30.mat...\n",
      "loading ./20150120F1_Auditory+Oddball_Fr_Misako+Komatsu-Kana+Takaura_mat_ECoG32-Event-BrainMap/ECoG_ch31.mat...\n",
      "loading ./20150120F1_Auditory+Oddball_Fr_Misako+Komatsu-Kana+Takaura_mat_ECoG32-Event-BrainMap/ECoG_ch32.mat...\n",
      "(32, 914765)\n"
     ]
    }
   ],
   "source": [
    "import scipy.io\n",
    "\n",
    "ecog_data = []\n",
    "data_directory = \"./20150120F1_Auditory+Oddball_Fr_Misako+Komatsu-Kana+Takaura_mat_ECoG32-Event-BrainMap\" \n",
    "n_channels = 32\n",
    "channels = list(range(1, n_channels + 1))\n",
    "\n",
    "for channel in channels:\n",
    "    channel_mat_path = \"{}/ECoG_ch{}.mat\".format(data_directory, channel)\n",
    "    print(\"loading {}...\".format(channel_mat_path))\n",
    "    channel_mat = scipy.io.loadmat(channel_mat_path)\n",
    "    channel_name = \"ECoGData_ch{}\".format(channel)\n",
    "    ecog_data.append(channel_mat[channel_name][0])\n",
    "\n",
    "ecog_data = np.array(ecog_data)\n",
    "print(ecog_data.shape)"
   ]
  },
  {
   "cell_type": "code",
   "execution_count": 69,
   "metadata": {},
   "outputs": [
    {
     "data": {
      "text/plain": [
       "array([[ 298,  290,  330, ..., -160, -169, -154],\n",
       "       [ 127,  131,  178, ..., -180, -177, -143],\n",
       "       [  84,   74,  107, ..., -187, -166, -147],\n",
       "       ...,\n",
       "       [   0,   -2,   55, ..., -194, -166, -162],\n",
       "       [ -53,  -81,  -31, ..., -397, -384, -388],\n",
       "       [ -33,  -56,   39, ..., -273, -285, -283]], dtype=int16)"
      ]
     },
     "execution_count": 69,
     "metadata": {},
     "output_type": "execute_result"
    }
   ],
   "source": [
    "ecog_data"
   ]
  },
  {
   "cell_type": "markdown",
   "metadata": {
    "deletable": false,
    "editable": false,
    "nbgrader": {
     "cell_type": "markdown",
     "checksum": "55414d265f0ea22e9f9d7379261c05c7",
     "grade": false,
     "grade_id": "cell-f05655add2c9f056",
     "locked": true,
     "schema_version": 3,
     "solution": false,
     "task": false
    }
   },
   "source": [
    "- Finally, we will load the information on each of the ECoG array channels in a dataframe called `channels_df`\n",
    "\n",
    "(_All you need to do is run the following cell without modifications._)"
   ]
  },
  {
   "cell_type": "code",
   "execution_count": 70,
   "metadata": {
    "deletable": false,
    "editable": false,
    "nbgrader": {
     "cell_type": "code",
     "checksum": "b43e6a144f47d7a5bd3dad23a7b9e5fe",
     "grade": false,
     "grade_id": "cell-528e291a4160b1b3",
     "locked": true,
     "schema_version": 3,
     "solution": false,
     "task": false
    }
   },
   "outputs": [
    {
     "data": {
      "text/html": [
       "<div>\n",
       "<style scoped>\n",
       "    .dataframe tbody tr th:only-of-type {\n",
       "        vertical-align: middle;\n",
       "    }\n",
       "\n",
       "    .dataframe tbody tr th {\n",
       "        vertical-align: top;\n",
       "    }\n",
       "\n",
       "    .dataframe thead th {\n",
       "        text-align: right;\n",
       "    }\n",
       "</style>\n",
       "<table border=\"1\" class=\"dataframe\">\n",
       "  <thead>\n",
       "    <tr style=\"text-align: right;\">\n",
       "      <th></th>\n",
       "      <th>channel</th>\n",
       "      <th>X</th>\n",
       "      <th>Y</th>\n",
       "    </tr>\n",
       "  </thead>\n",
       "  <tbody>\n",
       "    <tr>\n",
       "      <th>0</th>\n",
       "      <td>1</td>\n",
       "      <td>573</td>\n",
       "      <td>331</td>\n",
       "    </tr>\n",
       "    <tr>\n",
       "      <th>1</th>\n",
       "      <td>2</td>\n",
       "      <td>477</td>\n",
       "      <td>333</td>\n",
       "    </tr>\n",
       "    <tr>\n",
       "      <th>2</th>\n",
       "      <td>3</td>\n",
       "      <td>395</td>\n",
       "      <td>341</td>\n",
       "    </tr>\n",
       "    <tr>\n",
       "      <th>3</th>\n",
       "      <td>4</td>\n",
       "      <td>291</td>\n",
       "      <td>335</td>\n",
       "    </tr>\n",
       "    <tr>\n",
       "      <th>4</th>\n",
       "      <td>5</td>\n",
       "      <td>209</td>\n",
       "      <td>345</td>\n",
       "    </tr>\n",
       "    <tr>\n",
       "      <th>5</th>\n",
       "      <td>6</td>\n",
       "      <td>592</td>\n",
       "      <td>270</td>\n",
       "    </tr>\n",
       "    <tr>\n",
       "      <th>6</th>\n",
       "      <td>7</td>\n",
       "      <td>508</td>\n",
       "      <td>264</td>\n",
       "    </tr>\n",
       "    <tr>\n",
       "      <th>7</th>\n",
       "      <td>8</td>\n",
       "      <td>429</td>\n",
       "      <td>249</td>\n",
       "    </tr>\n",
       "    <tr>\n",
       "      <th>8</th>\n",
       "      <td>9</td>\n",
       "      <td>351</td>\n",
       "      <td>249</td>\n",
       "    </tr>\n",
       "    <tr>\n",
       "      <th>9</th>\n",
       "      <td>10</td>\n",
       "      <td>270</td>\n",
       "      <td>274</td>\n",
       "    </tr>\n",
       "    <tr>\n",
       "      <th>10</th>\n",
       "      <td>11</td>\n",
       "      <td>201</td>\n",
       "      <td>301</td>\n",
       "    </tr>\n",
       "    <tr>\n",
       "      <th>11</th>\n",
       "      <td>12</td>\n",
       "      <td>154</td>\n",
       "      <td>347</td>\n",
       "    </tr>\n",
       "    <tr>\n",
       "      <th>12</th>\n",
       "      <td>13</td>\n",
       "      <td>311</td>\n",
       "      <td>203</td>\n",
       "    </tr>\n",
       "    <tr>\n",
       "      <th>13</th>\n",
       "      <td>14</td>\n",
       "      <td>251</td>\n",
       "      <td>220</td>\n",
       "    </tr>\n",
       "    <tr>\n",
       "      <th>14</th>\n",
       "      <td>15</td>\n",
       "      <td>200</td>\n",
       "      <td>251</td>\n",
       "    </tr>\n",
       "    <tr>\n",
       "      <th>15</th>\n",
       "      <td>16</td>\n",
       "      <td>157</td>\n",
       "      <td>280</td>\n",
       "    </tr>\n",
       "    <tr>\n",
       "      <th>16</th>\n",
       "      <td>17</td>\n",
       "      <td>734</td>\n",
       "      <td>345</td>\n",
       "    </tr>\n",
       "    <tr>\n",
       "      <th>17</th>\n",
       "      <td>18</td>\n",
       "      <td>655</td>\n",
       "      <td>337</td>\n",
       "    </tr>\n",
       "    <tr>\n",
       "      <th>18</th>\n",
       "      <td>19</td>\n",
       "      <td>812</td>\n",
       "      <td>448</td>\n",
       "    </tr>\n",
       "    <tr>\n",
       "      <th>19</th>\n",
       "      <td>20</td>\n",
       "      <td>759</td>\n",
       "      <td>456</td>\n",
       "    </tr>\n",
       "    <tr>\n",
       "      <th>20</th>\n",
       "      <td>21</td>\n",
       "      <td>684</td>\n",
       "      <td>460</td>\n",
       "    </tr>\n",
       "    <tr>\n",
       "      <th>21</th>\n",
       "      <td>22</td>\n",
       "      <td>607</td>\n",
       "      <td>515</td>\n",
       "    </tr>\n",
       "    <tr>\n",
       "      <th>22</th>\n",
       "      <td>23</td>\n",
       "      <td>552</td>\n",
       "      <td>517</td>\n",
       "    </tr>\n",
       "    <tr>\n",
       "      <th>23</th>\n",
       "      <td>24</td>\n",
       "      <td>492</td>\n",
       "      <td>508</td>\n",
       "    </tr>\n",
       "    <tr>\n",
       "      <th>24</th>\n",
       "      <td>25</td>\n",
       "      <td>424</td>\n",
       "      <td>488</td>\n",
       "    </tr>\n",
       "    <tr>\n",
       "      <th>25</th>\n",
       "      <td>26</td>\n",
       "      <td>370</td>\n",
       "      <td>467</td>\n",
       "    </tr>\n",
       "    <tr>\n",
       "      <th>26</th>\n",
       "      <td>27</td>\n",
       "      <td>307</td>\n",
       "      <td>446</td>\n",
       "    </tr>\n",
       "    <tr>\n",
       "      <th>27</th>\n",
       "      <td>28</td>\n",
       "      <td>563</td>\n",
       "      <td>441</td>\n",
       "    </tr>\n",
       "    <tr>\n",
       "      <th>28</th>\n",
       "      <td>29</td>\n",
       "      <td>487</td>\n",
       "      <td>433</td>\n",
       "    </tr>\n",
       "    <tr>\n",
       "      <th>29</th>\n",
       "      <td>30</td>\n",
       "      <td>404</td>\n",
       "      <td>429</td>\n",
       "    </tr>\n",
       "    <tr>\n",
       "      <th>30</th>\n",
       "      <td>31</td>\n",
       "      <td>339</td>\n",
       "      <td>423</td>\n",
       "    </tr>\n",
       "    <tr>\n",
       "      <th>31</th>\n",
       "      <td>32</td>\n",
       "      <td>272</td>\n",
       "      <td>400</td>\n",
       "    </tr>\n",
       "  </tbody>\n",
       "</table>\n",
       "</div>"
      ],
      "text/plain": [
       "    channel    X    Y\n",
       "0         1  573  331\n",
       "1         2  477  333\n",
       "2         3  395  341\n",
       "3         4  291  335\n",
       "4         5  209  345\n",
       "5         6  592  270\n",
       "6         7  508  264\n",
       "7         8  429  249\n",
       "8         9  351  249\n",
       "9        10  270  274\n",
       "10       11  201  301\n",
       "11       12  154  347\n",
       "12       13  311  203\n",
       "13       14  251  220\n",
       "14       15  200  251\n",
       "15       16  157  280\n",
       "16       17  734  345\n",
       "17       18  655  337\n",
       "18       19  812  448\n",
       "19       20  759  456\n",
       "20       21  684  460\n",
       "21       22  607  515\n",
       "22       23  552  517\n",
       "23       24  492  508\n",
       "24       25  424  488\n",
       "25       26  370  467\n",
       "26       27  307  446\n",
       "27       28  563  441\n",
       "28       29  487  433\n",
       "29       30  404  429\n",
       "30       31  339  423\n",
       "31       32  272  400"
      ]
     },
     "execution_count": 70,
     "metadata": {},
     "output_type": "execute_result"
    }
   ],
   "source": [
    "ElectrodesFr = scipy.io.loadmat(\"{}/ElectrodesFr.mat\".format(data_directory))\n",
    "channels_df = pd.DataFrame(np.array([np.array(channels), ElectrodesFr['X'][0], ElectrodesFr['Y'][0]]).T, columns=['channel', 'X', 'Y'])\n",
    "channels_df"
   ]
  },
  {
   "cell_type": "markdown",
   "metadata": {
    "deletable": false,
    "editable": false,
    "nbgrader": {
     "cell_type": "markdown",
     "checksum": "6531e2ec2c76b344e56c912cd88145ea",
     "grade": false,
     "grade_id": "cell-78e04c902f4705eb",
     "locked": true,
     "schema_version": 3,
     "solution": false,
     "task": false
    }
   },
   "source": [
    "### Q12: _Plot ECoG array electrode positions_ (2 pts)\n",
    "\n",
    "- Create a scatterplot of the channels, with their x-coordinates (`channels_df.X`) on the x-axis, and their y-coordinates (`channels_df.Y`) on the y-axis\n",
    "- Label the x-axis `'x-coordinate'` and the y-axis `'y-coordinate'`\n",
    "- What do you notice about the pattern of electrodes?"
   ]
  },
  {
   "cell_type": "code",
   "execution_count": 71,
   "metadata": {
    "deletable": false,
    "nbgrader": {
     "cell_type": "code",
     "checksum": "3bfbb0f52794bea2a15ed3b9acb0250f",
     "grade": false,
     "grade_id": "cell-c3d2d40f9bb082bf",
     "locked": false,
     "schema_version": 3,
     "solution": true,
     "task": false
    }
   },
   "outputs": [
    {
     "data": {
      "text/plain": [
       "Text(0, 0.5, 'y-coordinate')"
      ]
     },
     "execution_count": 71,
     "metadata": {},
     "output_type": "execute_result"
    },
    {
     "data": {
      "image/png": "[encoded data removed]",
      "text/plain": [
       "<Figure size 432x288 with 1 Axes>"
      ]
     },
     "metadata": {
      "needs_background": "light"
     },
     "output_type": "display_data"
    }
   ],
   "source": [
    "fig = plt.figure()\n",
    "\n",
    "# YOUR CODE HERE\n",
    "plt.scatter(channels_df.X, channels_df.Y)\n",
    "plt.xlabel('x-coordinate')\n",
    "plt.ylabel('y-coordinate')"
   ]
  },
  {
   "cell_type": "code",
   "execution_count": 72,
   "metadata": {
    "deletable": false,
    "editable": false,
    "nbgrader": {
     "cell_type": "code",
     "checksum": "645df56d25f9cdb08f31cfaf750aa377",
     "grade": true,
     "grade_id": "cell-3c9894f16ecc347c",
     "locked": true,
     "points": 1,
     "schema_version": 3,
     "solution": false,
     "task": false
    }
   },
   "outputs": [],
   "source": [
    "# Q12 tests\n",
    "assert fig.axes[0]._visible"
   ]
  },
  {
   "cell_type": "code",
   "execution_count": 73,
   "metadata": {
    "deletable": false,
    "editable": false,
    "nbgrader": {
     "cell_type": "code",
     "checksum": "3ef93c9aa9c5ddab2f543a0dfe049326",
     "grade": true,
     "grade_id": "cell-43bf653abbfb35ae",
     "locked": true,
     "points": 1,
     "schema_version": 3,
     "solution": false,
     "task": false
    }
   },
   "outputs": [],
   "source": [
    "# Hidden tests for Q12"
   ]
  },
  {
   "cell_type": "markdown",
   "metadata": {
    "deletable": false,
    "editable": false,
    "nbgrader": {
     "cell_type": "markdown",
     "checksum": "b0b49f4a93db0ac7696b7ac50c98c157",
     "grade": false,
     "grade_id": "cell-000079b116406648",
     "locked": true,
     "schema_version": 3,
     "solution": false,
     "task": false
    }
   },
   "source": [
    "### Q13: _View ECoG recording data_ (6 pts)\n",
    "\n",
    "- Create a loop going through each of the `channels`, adding each channel's data (remember the index in the `ecog_data` matrix is 1 less than the channel number) to the plot\n",
    "- In order to offset the traces so they don't all overlap, add the value of `y` to each channel's data, increasing `y` by `y_offset` with each loop iteration\n",
    "- There should be 32 total lines (this is worth points)\n",
    "- Label the x-axis `'Samples'`"
   ]
  },
  {
   "cell_type": "code",
   "execution_count": 74,
   "metadata": {
    "deletable": false,
    "nbgrader": {
     "cell_type": "code",
     "checksum": "8ea06bdd7ab7d43439fb555f42ea96dc",
     "grade": false,
     "grade_id": "cell-0407f8d25abfd5e8",
     "locked": false,
     "schema_version": 3,
     "solution": true,
     "task": false
    },
    "scrolled": true
   },
   "outputs": [
    {
     "data": {
      "image/png": "[encoded data removed]",
      "text/plain": [
       "<Figure size 1080x720 with 1 Axes>"
      ]
     },
     "metadata": {
      "needs_background": "light"
     },
     "output_type": "display_data"
    }
   ],
   "source": [
    "fig, ax = plt.subplots(figsize=(15,10))\n",
    "y = 0\n",
    "y_offset = 2000\n",
    "\n",
    "# YOUR CODE HERE\n",
    "for channel in channels:\n",
    "    plt.plot(ecog_data[channel-1,:] + y)\n",
    "    y = y + y_offset\n",
    "    \n",
    "plt.xlabel('Samples')\n",
    "plt.show()\n",
    "\n",
    "#channels goes from 1 to 32\n",
    "#ecog_data goes from 0 to 31"
   ]
  },
  {
   "cell_type": "code",
   "execution_count": 75,
   "metadata": {
    "deletable": false,
    "editable": false,
    "nbgrader": {
     "cell_type": "code",
     "checksum": "6c1c1403c3dbb1e01e1bca1c2ef031af",
     "grade": true,
     "grade_id": "cell-aafa052283871496",
     "locked": true,
     "points": 2,
     "schema_version": 3,
     "solution": false,
     "task": false
    }
   },
   "outputs": [],
   "source": [
    "# Q13 tests\n",
    "assert ax._visible"
   ]
  },
  {
   "cell_type": "code",
   "execution_count": 76,
   "metadata": {
    "deletable": false,
    "editable": false,
    "nbgrader": {
     "cell_type": "code",
     "checksum": "83a66c99493f87a2101f9d0dd1b376c8",
     "grade": true,
     "grade_id": "cell-33750ded3a0462d3",
     "locked": true,
     "points": 4,
     "schema_version": 3,
     "solution": false,
     "task": false
    }
   },
   "outputs": [],
   "source": [
    "# Hidden tests for Q13"
   ]
  },
  {
   "cell_type": "markdown",
   "metadata": {
    "deletable": false,
    "editable": false,
    "nbgrader": {
     "cell_type": "markdown",
     "checksum": "e1324ab89b898343129585309bb69a30",
     "grade": false,
     "grade_id": "cell-a5a9471077e28826",
     "locked": true,
     "schema_version": 3,
     "solution": false,
     "task": false
    }
   },
   "source": [
    "- Any signal can be decomposed into different frequency components\n",
    "- _Neural oscillations_ refer to particular bands (frequency ranges) within a neural signal, with certain brain states and phenomena being associated with particular ranges\n",
    "- We can examine the activity in a specified oscillatory band by computing a _band-pass_, which excludes any signal component outside the specified frequency ranges, but lets components within the range 'pass'\n",
    "- Some commonly cited oscillations are listed below with their approximate frequency ranges:\n",
    "    - [_alpha_](https://en.wikipedia.org/wiki/Alpha_wave) between 8 and 12 Hz\n",
    "    - [_beta_](https://en.wikipedia.org/wiki/Beta_wave) between 12.5 and 30 Hz\n",
    "    - [_gamma_](https://en.wikipedia.org/wiki/Gamma_wave) between 25 and 170 Hz\n",
    "        - 'high' _gamma_ above ~90 Hz (which is particularly associated with spiking activity)\n",
    "    - [_delta_](https://en.wikipedia.org/wiki/Delta_wave) between 0.4 and 4 Hz (often simply referred to as '_slow oscillations_')\n",
    "    - [_theta_](https://en.wikipedia.org/wiki/Theta_wave) between 4 and 8 Hz"
   ]
  },
  {
   "cell_type": "code",
   "execution_count": 77,
   "metadata": {
    "deletable": false,
    "editable": false,
    "nbgrader": {
     "cell_type": "code",
     "checksum": "b849bf5bd063f74193b8a1680fb752b0",
     "grade": false,
     "grade_id": "cell-4baf1c404abebe40",
     "locked": true,
     "schema_version": 3,
     "solution": false,
     "task": false
    }
   },
   "outputs": [],
   "source": [
    "from scipy import signal\n",
    "\n",
    "oscillations = {\n",
    "    'alpha': [8, 12],\n",
    "    'beta': [12.5, 30],\n",
    "    'gamma': [25, 170],\n",
    "    'high-gamma': [90, 170],\n",
    "    'delta': [0.5, 4],\n",
    "    'theta': [4, 8]\n",
    "}"
   ]
  },
  {
   "cell_type": "markdown",
   "metadata": {
    "deletable": false,
    "editable": false,
    "nbgrader": {
     "cell_type": "markdown",
     "checksum": "3c0b69b0a7dd353a7015c45cb1566b3a",
     "grade": false,
     "grade_id": "cell-943840a5d9657c67",
     "locked": true,
     "schema_version": 3,
     "solution": false,
     "task": false
    }
   },
   "source": [
    "### Q14: _Compute bandpasses for each oscillation for channel 1_ (6 pts)\n",
    "\n",
    "- We compute a bandpass by first applying a _low-pass filter_, followed by a _high-pass filter_ (or vice versa)\n",
    "- Signal filtration is usually accomplished in 2 steps\n",
    "    1. Design a _filter kernel_\n",
    "    2. Apply the filter kernel to the data\n",
    "- We will use a Butterworth filter\n",
    "    - We design the filter in Python using `scipy`'s `signal.butter` function\n",
    "        - It takes 3 arguments\n",
    "            1. The _filter order_ (we'll use a 4th order filter)\n",
    "            2. The _filter frequency_ (we must adjust for the sampling frequency, `f_s`, which is 1000 Hz for these data, i.e. 1000 data points were recorded per second)\n",
    "            3. The type of filter (`'lowpass'` or `'highpass'`)\n",
    "        - It returns 2 filter parameters, `a` and `b`\n",
    "- Then, the bandpass filter is applied using `signal.filtfilt`, which takes as its parameters `b`, `a`, and the signal to be processed\n",
    "- Below, an example bandpass computation is shown to extract the _alpha_ rhythm from the channel 1 data, the results are stored in a dictionary called `oscillations_filtered`, with the oscillation name (e.g. `'alpha'`) as the key\n",
    "- **Compute the bandpasses for each of the other oscillations included in `oscillations` and add them to `oscillations_filtered`** (try doing it with a loop!)\n",
    "- _(You may see a warning highlighted in pink, which you can ignore)_"
   ]
  },
  {
   "cell_type": "code",
   "execution_count": 78,
   "metadata": {
    "deletable": false,
    "nbgrader": {
     "cell_type": "code",
     "checksum": "72d68f6cf3e78818285e9322ae503331",
     "grade": false,
     "grade_id": "cell-db19588ce31c08cd",
     "locked": false,
     "schema_version": 3,
     "solution": true,
     "task": false
    }
   },
   "outputs": [
    {
     "name": "stdout",
     "output_type": "stream",
     "text": [
      "filtering between 8 and 12 Hz for alpha oscillation...\n",
      "filtering between 12.5 and 30 Hz for beta oscillation...\n",
      "filtering between 25 and 170 Hz for gamma oscillation...\n",
      "filtering between 90 and 170 Hz for high-gamma oscillation...\n",
      "filtering between 0.5 and 4 Hz for delta oscillation...\n",
      "filtering between 4 and 8 Hz for theta oscillation...\n"
     ]
    },
    {
     "name": "stderr",
     "output_type": "stream",
     "text": [
      "/opt/conda/lib/python3.6/site-packages/scipy/signal/_arraytools.py:45: FutureWarning: Using a non-tuple sequence for multidimensional indexing is deprecated; use `arr[tuple(seq)]` instead of `arr[seq]`. In the future this will be interpreted as an array index, `arr[np.array(seq)]`, which will result either in an error or a different result.\n",
      "  b = a[a_slice]\n"
     ]
    },
    {
     "data": {
      "text/plain": [
       "{'alpha': array([31.38842391, 33.67112177, 35.75553588, ..., 15.89841289,\n",
       "        16.25340434, 16.4226109 ]),\n",
       " 'beta': array([-16.73115622, -13.79351263, -10.4831542 , ...,   5.46731791,\n",
       "          0.36726843,  -4.85752212]),\n",
       " 'gamma': array([ 0.70142538, 12.19663849, 23.79537516, ..., -8.36383516,\n",
       "        -4.29776222, -0.07311174]),\n",
       " 'high-gamma': array([-0.45498207,  1.35602197,  4.81952958, ..., -6.48314998,\n",
       "        -3.56056455, -0.95046969]),\n",
       " 'delta': array([94.20593834, 92.50296575, 90.79916392, ..., -8.54105612,\n",
       "        -8.04212255, -7.54218895]),\n",
       " 'theta': array([45.57615847, 43.21494571, 40.75185332, ..., -2.54886995,\n",
       "        -1.94879871, -1.37459812])}"
      ]
     },
     "execution_count": 78,
     "metadata": {},
     "output_type": "execute_result"
    }
   ],
   "source": [
    "channel = 1\n",
    "data = ecog_data[channel-1, :]\n",
    "f_s = 1000 # sampling frequency\n",
    "\n",
    "oscillations_filtered = {}\n",
    "\n",
    "oscillation ='alpha'\n",
    "freqs = oscillations[oscillation]\n",
    "f_L, f_H = freqs\n",
    "print(\"filtering between {} and {} Hz for {} oscillation...\".format(f_L, f_H, oscillation))\n",
    "b, a = signal.butter(4, (f_H / (f_s / 2)), 'lowpass') # (f_H / (f_s / 2)) is to account for the sampling frequency\n",
    "lowpassed = signal.filtfilt(b, a, data)\n",
    "b, a = signal.butter(4, (f_L / (f_s / 2)), 'highpass')\n",
    "a_bandpassed = signal.filtfilt(b, a, lowpassed)\n",
    "oscillations_filtered[oscillation] = a_bandpassed\n",
    "\n",
    "# YOUR CODE HERE\n",
    "oscillation ='beta'\n",
    "freqs = oscillations[oscillation]\n",
    "f_L, f_H = freqs\n",
    "print(\"filtering between {} and {} Hz for {} oscillation...\".format(f_L, f_H, oscillation))\n",
    "b, a = signal.butter(4, (f_H / (f_s / 2)), 'lowpass') # (f_H / (f_s / 2)) is to account for the sampling frequency\n",
    "lowpassed = signal.filtfilt(b, a, data)\n",
    "b, a = signal.butter(4, (f_L / (f_s / 2)), 'highpass')\n",
    "b_bandpassed = signal.filtfilt(b, a, lowpassed)\n",
    "oscillations_filtered[oscillation] = b_bandpassed\n",
    "\n",
    "oscillation ='gamma'\n",
    "freqs = oscillations[oscillation]\n",
    "f_L, f_H = freqs\n",
    "print(\"filtering between {} and {} Hz for {} oscillation...\".format(f_L, f_H, oscillation))\n",
    "b, a = signal.butter(4, (f_H / (f_s / 2)), 'lowpass') # (f_H / (f_s / 2)) is to account for the sampling frequency\n",
    "lowpassed = signal.filtfilt(b, a, data)\n",
    "b, a = signal.butter(4, (f_L / (f_s / 2)), 'highpass')\n",
    "g_bandpassed = signal.filtfilt(b, a, lowpassed)\n",
    "oscillations_filtered[oscillation] = g_bandpassed\n",
    "\n",
    "oscillation ='high-gamma'\n",
    "freqs = oscillations[oscillation]\n",
    "f_L, f_H = freqs\n",
    "print(\"filtering between {} and {} Hz for {} oscillation...\".format(f_L, f_H, oscillation))\n",
    "b, a = signal.butter(4, (f_H / (f_s / 2)), 'lowpass') # (f_H / (f_s / 2)) is to account for the sampling frequency\n",
    "lowpassed = signal.filtfilt(b, a, data)\n",
    "b, a = signal.butter(4, (f_L / (f_s / 2)), 'highpass')\n",
    "hg_bandpassed = signal.filtfilt(b, a, lowpassed)\n",
    "oscillations_filtered[oscillation] = hg_bandpassed\n",
    "\n",
    "oscillation ='delta'\n",
    "freqs = oscillations[oscillation]\n",
    "f_L, f_H = freqs\n",
    "print(\"filtering between {} and {} Hz for {} oscillation...\".format(f_L, f_H, oscillation))\n",
    "b, a = signal.butter(4, (f_H / (f_s / 2)), 'lowpass') # (f_H / (f_s / 2)) is to account for the sampling frequency\n",
    "lowpassed = signal.filtfilt(b, a, data)\n",
    "b, a = signal.butter(4, (f_L / (f_s / 2)), 'highpass')\n",
    "d_bandpassed = signal.filtfilt(b, a, lowpassed)\n",
    "oscillations_filtered[oscillation] = d_bandpassed\n",
    "\n",
    "oscillation ='theta'\n",
    "freqs = oscillations[oscillation]\n",
    "f_L, f_H = freqs\n",
    "print(\"filtering between {} and {} Hz for {} oscillation...\".format(f_L, f_H, oscillation))\n",
    "b, a = signal.butter(4, (f_H / (f_s / 2)), 'lowpass') # (f_H / (f_s / 2)) is to account for the sampling frequency\n",
    "lowpassed = signal.filtfilt(b, a, data)\n",
    "b, a = signal.butter(4, (f_L / (f_s / 2)), 'highpass')\n",
    "t_bandpassed = signal.filtfilt(b, a, lowpassed)\n",
    "oscillations_filtered[oscillation] = t_bandpassed\n",
    "\n",
    "oscillations_filtered"
   ]
  },
  {
   "cell_type": "code",
   "execution_count": 79,
   "metadata": {
    "deletable": false,
    "editable": false,
    "nbgrader": {
     "cell_type": "code",
     "checksum": "3e39a5d48508796d18f2807f3d577887",
     "grade": true,
     "grade_id": "cell-af7f4bf6d162447e",
     "locked": true,
     "points": 2,
     "schema_version": 3,
     "solution": false,
     "task": false
    }
   },
   "outputs": [],
   "source": [
    "# Q14 tests\n",
    "assert 'alpha' in oscillations_filtered\n",
    "assert 'beta' in oscillations_filtered\n",
    "assert 'gamma' in oscillations_filtered\n",
    "assert 'high-gamma' in oscillations_filtered\n",
    "assert 'delta' in oscillations_filtered\n",
    "assert 'theta' in oscillations_filtered"
   ]
  },
  {
   "cell_type": "code",
   "execution_count": 80,
   "metadata": {
    "deletable": false,
    "editable": false,
    "nbgrader": {
     "cell_type": "code",
     "checksum": "50328afc589dba34235ffd45a1abd025",
     "grade": true,
     "grade_id": "cell-11258a0c3ed6bfc6",
     "locked": true,
     "points": 4,
     "schema_version": 3,
     "solution": false,
     "task": false
    }
   },
   "outputs": [],
   "source": [
    "# Hidden tests for Q14"
   ]
  },
  {
   "cell_type": "markdown",
   "metadata": {
    "deletable": false,
    "editable": false,
    "nbgrader": {
     "cell_type": "markdown",
     "checksum": "ea864c1db68ee4ffc0b5d546b9a08d16",
     "grade": false,
     "grade_id": "cell-54be96b2a90e84ba",
     "locked": true,
     "schema_version": 3,
     "solution": false,
     "task": false
    }
   },
   "source": [
    "### Q15: _Plot channel 1 data with bandpassed oscillations_ (6 pts)\n",
    "\n",
    "- Create a figure with 7 subplots (the raw ECoG data plus each of the bandpassed oscillations)\n",
    "- Entitle the first row `'Raw ECoG'`\n",
    "- Then, for each oscillation, entitle its subplot `'<oscillation> band'` (i.e. `oscilation + ' band'`, or equivalently `'{} band'.format(oscillation)`)\n",
    "- Label the x-axis `'Samples'` for the bottom row"
   ]
  },
  {
   "cell_type": "code",
   "execution_count": 81,
   "metadata": {},
   "outputs": [],
   "source": [
    "num_samples = len(ecog_data[channel]) # number of samples\n",
    "time_vector = np.arange(num_samples) / f_s # create a time vector"
   ]
  },
  {
   "cell_type": "code",
   "execution_count": 82,
   "metadata": {},
   "outputs": [
    {
     "data": {
      "text/plain": [
       "'theta'"
      ]
     },
     "execution_count": 82,
     "metadata": {},
     "output_type": "execute_result"
    }
   ],
   "source": [
    "oscillation"
   ]
  },
  {
   "cell_type": "code",
   "execution_count": 83,
   "metadata": {
    "deletable": false,
    "nbgrader": {
     "cell_type": "code",
     "checksum": "183cbd08b4dcfdec255f8093e5d52987",
     "grade": false,
     "grade_id": "cell-942529cc7890ef2b",
     "locked": false,
     "schema_version": 3,
     "solution": true,
     "task": false
    }
   },
   "outputs": [
    {
     "data": {
      "image/png": "[encoded data removed]",
      "text/plain": [
       "<Figure size 1080x720 with 7 Axes>"
      ]
     },
     "metadata": {
      "needs_background": "light"
     },
     "output_type": "display_data"
    }
   ],
   "source": [
    "fig, ax = plt.subplots(7, 1, figsize=(15,10), sharex=True)\n",
    "\n",
    "# YOUR CODE HERE\n",
    "\n",
    "\n",
    "\n",
    "# Plot our raw data\n",
    "ax[0].plot(time_vector,ecog_data[channel])\n",
    "ax[0].set_ylabel('Voltage')\n",
    "ax[0].set_title('Raw ECoG')\n",
    "\n",
    "# Plot the bandpassed data\n",
    "ax[1].plot(time_vector,a_bandpassed)\n",
    "ax[2].plot(time_vector, b_bandpassed)\n",
    "ax[3].plot(time_vector, g_bandpassed)\n",
    "ax[4].plot(time_vector, hg_bandpassed)\n",
    "ax[5].plot(time_vector, d_bandpassed)\n",
    "ax[6].plot(time_vector, t_bandpassed)\n",
    "\n",
    "# Let's programmatically set the title here, using {} format\n",
    "ax[1].set_title('alpha band')\n",
    "ax[2].set_title('beta band')\n",
    "ax[3].set_title('gamma band')\n",
    "ax[4].set_title('high-gamma band')\n",
    "ax[5].set_title('delta band')\n",
    "ax[6].set_title('theta band')\n",
    "\n",
    "plt.xlabel('Samples')\n",
    "plt.show()"
   ]
  },
  {
   "cell_type": "code",
   "execution_count": 84,
   "metadata": {
    "deletable": false,
    "editable": false,
    "nbgrader": {
     "cell_type": "code",
     "checksum": "3dc71c74aeef28429e1875370c13d9c8",
     "grade": true,
     "grade_id": "cell-6c3a6920d221746f",
     "locked": true,
     "points": 2,
     "schema_version": 3,
     "solution": false,
     "task": false
    }
   },
   "outputs": [],
   "source": [
    "# Q15 tests\n",
    "assert len(fig.axes) == 7"
   ]
  },
  {
   "cell_type": "code",
   "execution_count": 85,
   "metadata": {
    "deletable": false,
    "editable": false,
    "nbgrader": {
     "cell_type": "code",
     "checksum": "5cfc7d805244cea2b5b452e0b7e7197b",
     "grade": true,
     "grade_id": "cell-1524f81bd23ca083",
     "locked": true,
     "points": 4,
     "schema_version": 3,
     "solution": false,
     "task": false
    }
   },
   "outputs": [],
   "source": [
    "# Hidden tests for Q15"
   ]
  },
  {
   "cell_type": "markdown",
   "metadata": {},
   "source": [
    "### "
   ]
  }
 ],
 "metadata": {
  "kernelspec": {
   "display_name": "Python 3",
   "language": "python",
   "name": "python3"
  },
  "language_info": {
   "codemirror_mode": {
    "name": "ipython",
    "version": 3
   },
   "file_extension": ".py",
   "mimetype": "text/x-python",
   "name": "python",
   "nbconvert_exporter": "python",
   "pygments_lexer": "ipython3",
   "version": "3.6.7"
  }
 },
 "nbformat": 4,
 "nbformat_minor": 4
}
