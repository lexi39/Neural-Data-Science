{
 "cells": [
  {
   "cell_type": "markdown",
   "metadata": {
    "deletable": false,
    "editable": false,
    "nbgrader": {
     "cell_type": "markdown",
     "checksum": "1587a24cad1e07eae0da3c4449da7223",
     "grade": false,
     "grade_id": "cell-57b7f822335cb300",
     "locked": true,
     "schema_version": 3,
     "solution": false
    }
   },
   "source": [
    "# A2 Conditionally Expressed\n",
    "In this assignment, you'll apply what you learned about lists, conditionals, and for loops to interact with a microarray dataset from the Allen Brain Institute. We've already processed the raw data such that it is normalized and organized into a file arranged by gene names and brain areas (brainarea_vs_genes_exp_w_reannotations.tsv). Before you can begin this assignment, you need to download this dataset from datahub and upload it in the same folder as this assignment. We'll review this in class.\n",
    "\n",
    "This assignment is worth 50 points (5 points or 5% of your grade for the class).\n",
    "\n",
    "**PLEASE DO NOT CHANGE THE NAME OF THIS FILE.**\n",
    "\n",
    "**PLEASE DO NOT COPY & PASTE OR DELETE CELLS INCLUDED IN THE ASSIGNMENT.**\n",
    "\n",
    "\n",
    "## How to complete assignments\n",
    "\n",
    "Whenever you see:\n",
    "\n",
    "```\n",
    "# YOUR CODE HERE\n",
    "raise NotImplementedError()\n",
    "```\n",
    "\n",
    "You need to **replace (meaning, delete) these lines of code with code that answers the questions** and meets the specified criteria. Make sure you remove the 'raise' line when you do this (or your notebook will raise an error, regardless of any other code, and thus fail the grading tests).\n",
    "\n",
    "You should write the answer to the questions in those cells (the ones with `# YOUR CODE HERE`), but you can also add extra cells to explore / investigate things if you need / want to. \n",
    "\n",
    "Any cell with `assert` statements in it is a test cell. You should not try to change or delete these cells. Note that there might be more than one assert that tests a particular question. \n",
    "\n",
    "If a test does fail, reading the error that is printed out should let you know which test failed, which may be useful for fixing it.\n",
    "\n",
    "Note that some cells, including the test cells, may be read only, which means they won't let you edit them. If you cannot edit a cell - that is normal, and you shouldn't need to edit that cell.\n",
    "\n",
    "\n",
    "## Tips & Tricks\n",
    "\n",
    "The following are a couple tips & tricks that may help you if you get stuck on anything.\n",
    "\n",
    "#### Printing Variables\n",
    "You can (and should) print and check variables as you go. This allows you to check what values they hold, and fix things if anything unexpected happens.\n",
    "\n",
    "#### Restarting the Kernel\n",
    "- If you run cells out of order, you can end up overwriting things in your namespace. \n",
    "- If things seem to go weird, a good first step is to restart the kernel, which you can do from the kernel menu above.\n",
    "- Even if everything seems to be working, it's a nice check to 'Restart & Run All', to make sure everything runs properly in order."
   ]
  },
  {
   "cell_type": "markdown",
   "metadata": {
    "deletable": false,
    "editable": false,
    "nbgrader": {
     "cell_type": "markdown",
     "checksum": "c3c2cdb241e8fe78f2b31d56eead9915",
     "grade": false,
     "grade_id": "cell-4956678a3a7473e2",
     "locked": true,
     "schema_version": 3,
     "solution": false
    }
   },
   "source": [
    "### Loading in the data\n",
    "First, we'll take a few steps to load up the dataset. After you have uploaded the 'brainarea_vs_genes_exp_w_reannotations.tsv' file to your directory, simply run the code below -- you don't need to change anything."
   ]
  },
  {
   "cell_type": "code",
   "execution_count": 2,
   "metadata": {},
   "outputs": [],
   "source": [
    "# Import necessary packages\n",
    "from csv import reader\n",
    "\n",
    "# Open the tab-delimited file\n",
    "opened_file = open('brainarea_vs_genes_exp_w_reannotations.tsv')\n",
    "read_file = reader(opened_file, delimiter = '\\t')\n",
    "gene_data = list(read_file)"
   ]
  },
  {
   "cell_type": "markdown",
   "metadata": {
    "deletable": false,
    "editable": false,
    "nbgrader": {
     "cell_type": "markdown",
     "checksum": "7c032a002a3efb7ed01de04f3a1e68fb",
     "grade": false,
     "grade_id": "cell-056e8d30e5435480",
     "locked": true,
     "schema_version": 3,
     "solution": false
    }
   },
   "source": [
    "## Q1\n",
    "\n",
    "Above, the variable `gene_data` is a list of lists. The first list is a list of headers for the array, containing a first item 'gene_symbol', followed by a list of brain regions.\n",
    "\n",
    "In the cell below, assign the first list of `gene_data` to a variable called `brain_regions`. The first entry of the list, 'gene_symbol' isn't a brain region, but that's okay for this exercise. Leave it in the list."
   ]
  },
  {
   "cell_type": "code",
   "execution_count": 3,
   "metadata": {
    "deletable": false,
    "nbgrader": {
     "cell_type": "code",
     "checksum": "64abaeaf45c8dca4eeedd07d2502b9c6",
     "grade": false,
     "grade_id": "cell-e346d449861e6459",
     "locked": false,
     "schema_version": 3,
     "solution": true
    }
   },
   "outputs": [
    {
     "name": "stdout",
     "output_type": "stream",
     "text": [
      "['gene_symbol', 'CA1 field', 'CA2 field', 'CA3 field', 'CA4 field', 'Crus I, lateral hemisphere', 'Crus I, paravermis', 'Crus II, lateral hemisphere', 'Crus II, paravermis', 'Edinger-Westphal nucleus', \"Heschl's gyrus\", 'I-II', 'III', 'III, lateral hemisphere', 'III, paravermis', 'IV', 'IV, lateral hemisphere', 'IV, paravermis', 'IX', 'IX, lateral hemisphere', 'IX, paravermis', 'V', 'V, lateral hemisphere', 'V, paravermis', 'VI', 'VI, lateral hemisphere', 'VI, paravermis', 'VIIAf', 'VIIAt', 'VIIB', 'VIIB, lateral hemisphere', 'VIIB, paravermis', 'VIIIA', 'VIIIA, lateral hemisphere', 'VIIIA, paravermis', 'VIIIB', 'VIIIB, lateral hemisphere', 'VIIIB, paravermis', 'X', 'X, lateral hemisphere', 'X, paravermis', 'abducens nucleus', 'amygdalohippocampal transition zone', 'angular gyrus, inferior bank of gyrus', 'angular gyrus, superior bank of gyrus', 'anterior group of nuclei', 'anterior hypothalamic area', 'anterior orbital gyrus', 'arcuate nucleus of medulla', 'arcuate nucleus of the hypothalamus', 'basal nucleus of meynert', 'basolateral nucleus', 'basomedial nucleus', 'bed  nucleus of stria terminalis', 'body of caudate nucleus', 'caudal group of intralaminar nuclei', 'central glial substance', 'central gray of the pons', 'central gray substance of midbrain', 'central medullary reticular group', 'central nucleus', 'choroid plexus of the lateral ventricle', 'cingulate gyrus, frontal part, inferior bank of gyrus', 'cingulate gyrus, frontal part, superior bank of gyrus', 'cingulate gyrus, parietal part, inferior bank of gyrus', 'cingulate gyrus, parietal part, superior bank of gyrus', 'cingulate gyrus, retrosplenial part, inferior bank of gyrus', 'cingulate gyrus, retrosplenial part, superior bank of gyrus', 'cingulum bundle', 'claustrum', 'cochlear nuclei', 'corpus callosum', 'cortico-medial group', 'cuneate nucleus', 'cuneiform nucleus', 'cuneus, peristriate', 'cuneus, striate', 'dentate gyrus', 'dentate nucleus', 'dorsal lateral geniculate nucleus', 'dorsal motor nucleus of the vagus', 'dorsomedial hypothalamic nucleus', 'emboliform nucleus', 'facial motor nucleus', 'fastigial nucleus', 'frontal operculum', 'frontal pole, inferior aspect', 'frontal pole, medial aspect', 'frontal pole, superior aspect', 'fusiform gyrus, bank of cos', 'fusiform gyrus, bank of the its', 'fusiform gyrus, lateral bank of gyrus', 'gigantocellular group', 'globose nucleus', 'globus pallidus, external segment', 'globus pallidus, internal segment', 'gracile nucleus', 'gyrus rectus', 'head of caudate nucleus', 'hypoglossal nucleus', 'inferior colliculus', 'inferior frontal gyrus, opercular part', 'inferior frontal gyrus, orbital part', 'inferior frontal gyrus, triangular part', 'inferior occipital gyrus, inferior bank of gyrus', 'inferior occipital gyrus, superior bank of gyrus', 'inferior olivary complex', 'inferior rostral gyrus', 'inferior temporal gyrus, bank of mts', 'inferior temporal gyrus, bank of the its', 'inferior temporal gyrus, lateral bank of gyrus', 'interstitial nucleus of Cajal', 'lateral group of nuclei, dorsal division', 'lateral group of nuclei, ventral division', 'lateral habenular nucleus', 'lateral hypothalamic area, anterior region', 'lateral hypothalamic area, mammillary region', 'lateral hypothalamic area, tuberal region', 'lateral mammillary nucleus', 'lateral medullary reticular group', 'lateral nucleus', 'lateral orbital gyrus', 'lateral parabrachial nucleus', 'lateral tuberal nucleus', 'lingual gyrus, peristriate', 'lingual gyrus, striate', 'locus ceruleus', 'long insular gyri', 'mammillary body', 'medial geniculate complex', 'medial group of nuclei', 'medial habenular nucleus', 'medial mammillary nucleus', 'medial orbital gyrus', 'medial parabrachial nucleus', 'midbrain raphe nuclei', 'midbrain reticular formation', 'middle frontal gyrus, inferior bank of gyrus', 'middle frontal gyrus, superior bank of gyrus', 'middle temporal gyrus, inferior bank of gyrus', 'middle temporal gyrus, superior bank of gyrus', 'motor nucleus of trigeminal nerve', 'nucleus accumbens', 'nucleus of Darkschewitsch', 'nucleus of the diagonal band, horizontal division', 'nucleus of the diagonal band, vertical division', 'nucleus subceruleus', 'occipital pole, inferior aspect', 'occipital pole, lateral aspect', 'occipital pole, superior aspect', 'occipito-temporal gyrus, inferior bank of gyrus', 'occipito-temporal gyrus, superior bank of gyrus', 'oculomotor nuclear complex', 'olfactory tubercle', 'pallidohypothalamic nucleus', 'paracentral lobule, anterior part', 'paracentral lobule, anterior part, inferior bank of gyrus', 'paracentral lobule, anterior part, superior bank of gyrus', 'paracentral lobule, posterior part, bank of cingulate sulcus', 'paracentral lobule, posterior part, lateral bank of gyrus', 'parahippocampal gyrus, bank of the cos', 'parahippocampal gyrus, lateral bank of gyrus', 'paraterminal gyrus', 'paraventricular nuclei, left of thalamus', 'paraventricular nuclei, right of thalamus', 'paraventricular nucleus of the hypothalamus', 'parolfactory gyri', 'perifornical nucleus', 'pineal gland', 'piriform cortex', 'planum polare', 'planum temporale', 'pontine nuclei', 'pontine raphe nucleus', 'pontine reticular formation', 'postcentral gyrus, bank of the central sulcus', 'postcentral gyrus, bank of the posterior central sulcus', 'postcentral gyrus, inferior lateral aspect of gyrus', 'postcentral gyrus, superior lateral aspect of gyrus', 'posterior group of nuclei', 'posterior hypothalamic area', 'posterior orbital gyrus', 'precentral gyrus, bank of the central sulcus', 'precentral gyrus, bank of the precentral sulcus', 'precentral gyrus, inferior lateral aspect of gyrus', 'precentral gyrus, superior lateral aspect of gyrus', 'precuneus, inferior lateral bank of gyrus', 'precuneus, superior lateral bank of gyrus', 'preoptic region', 'pretectal region', 'principal sensory nucleus of trigeminal nerve', 'putamen', 'raphe nuclei of medulla', 'red nucleus', 'reticular nucleus of thalamus', 'rostral group of intralaminar nuclei', 'septal nuclei', 'short insular gyri', 'spinal trigeminal nucleus', 'subcallosal cingulate gyrus', 'subcuneiform nucleus', 'subiculum', 'substantia innominata', 'substantia nigra, pars compacta', 'substantia nigra, pars reticulata', 'subthalamic nucleus', 'superior colliculus', 'superior frontal gyrus', 'superior frontal gyrus, lateral bank of gyrus', 'superior frontal gyrus, medial bank of gyrus', 'superior occipital gyrus, inferior bank of gyrus', 'superior occipital gyrus, superior bank of gyrus', 'superior olivary complex', 'superior parietal lobule, inferior bank of gyrus', 'superior parietal lobule, superior bank of gyrus', 'superior rostral gyrus', 'superior temporal gyrus, inferior bank of gyrus', 'superior temporal gyrus, lateral bank of gyrus', 'supramammillary nucleus', 'supramarginal gyrus, inferior bank of gyrus', 'supramarginal gyrus, superior bank of gyrus', 'supraoptic nucleus', 'tail of caudate nucleus', 'temporal pole, inferior aspect', 'temporal pole, medial aspect', 'temporal pole, superior aspect', 'transverse gyri', 'trochlear nucleus', 'tuberomammillary nucleus', 'ventral tegmental area', 'ventromedial hypothalamic nucleus', 'vestibular nuclei', 'zona incerta']\n"
     ]
    }
   ],
   "source": [
    "# YOUR CODE HERE\n",
    "brain_regions = gene_data[0]\n",
    "print(brain_regions)"
   ]
  },
  {
   "cell_type": "code",
   "execution_count": 4,
   "metadata": {
    "deletable": false,
    "editable": false,
    "nbgrader": {
     "cell_type": "code",
     "checksum": "63e673e56a22bc4c185e44233c9ce885",
     "grade": true,
     "grade_id": "cell-ddeb4d2148b3eeaf",
     "locked": true,
     "points": 2.5,
     "schema_version": 3,
     "solution": false
    }
   },
   "outputs": [],
   "source": [
    "# Tests for Q1, worth 2.5 points total.\n",
    "assert isinstance(brain_regions,list)\n"
   ]
  },
  {
   "cell_type": "markdown",
   "metadata": {
    "deletable": false,
    "editable": false,
    "nbgrader": {
     "cell_type": "markdown",
     "checksum": "034c9e028906fa2e38406ffc79ad1a0d",
     "grade": false,
     "grade_id": "cell-18ac13ccc11b1e23",
     "locked": true,
     "schema_version": 3,
     "solution": false
    }
   },
   "source": [
    "## Q2\n",
    "\n",
    "For our study, we're interested in seeing if the superior colliculus and visual cortex have different gene expression. First, we need to know if they're in our list of brain regions.\n",
    "\n",
    "Write two statements to check if 'superior colliculus' and 'visual cortex' are in your list of brain regions (`brain_region`). Save the boolean outputs of these membership checks as `SC_bool` and `VC_bool`, respectively. Print the values of `SC_bool` and `VC_bool` so that you can see them."
   ]
  },
  {
   "cell_type": "code",
   "execution_count": 5,
   "metadata": {
    "deletable": false,
    "nbgrader": {
     "cell_type": "code",
     "checksum": "f9d6789ec61d37db509e386a997f6375",
     "grade": false,
     "grade_id": "cell-53f6aa85b1471c7a",
     "locked": false,
     "schema_version": 3,
     "solution": true
    }
   },
   "outputs": [
    {
     "name": "stdout",
     "output_type": "stream",
     "text": [
      "True\n",
      "False\n"
     ]
    }
   ],
   "source": [
    "# YOUR CODE HERE\n",
    "if 'superior colliculus' in brain_regions:\n",
    "    SC_bool = True \n",
    "else:\n",
    "    SC_bool = False      \n",
    "    \n",
    "if 'visual cortex' in brain_regions:\n",
    "    VC_bool = True \n",
    "else: \n",
    "    VC_bool = False \n",
    "\n",
    "print(SC_bool)\n",
    "print(VC_bool)"
   ]
  },
  {
   "cell_type": "code",
   "execution_count": 6,
   "metadata": {
    "deletable": false,
    "editable": false,
    "nbgrader": {
     "cell_type": "code",
     "checksum": "a69f20fd4249345ccb851117289098c0",
     "grade": true,
     "grade_id": "cell-de87506920bf04d6",
     "locked": true,
     "points": 2.5,
     "schema_version": 3,
     "solution": false
    }
   },
   "outputs": [],
   "source": [
    "# Tests for Q2\n",
    "assert isinstance(SC_bool,bool)\n",
    "assert isinstance(VC_bool,bool)\n"
   ]
  },
  {
   "cell_type": "markdown",
   "metadata": {
    "deletable": false,
    "editable": false,
    "nbgrader": {
     "cell_type": "markdown",
     "checksum": "4d45613c31f4c978cfbabda4bd956648",
     "grade": false,
     "grade_id": "cell-37e33325b012c9f0",
     "locked": true,
     "schema_version": 3,
     "solution": false
    }
   },
   "source": [
    "## Q3\n",
    "Hmm, looks like the data has superior colliculus but not visual cortex. In humans, visual cortex is often called \"striate cortex\", because of the appearance of a dense layer of myelinated fiber that runs through it, called the Line of Gennari (details <a href=\"https://webvision.med.utah.edu/book/part-ix-brain-visual-areas/the-primary-visual-cortex/\">here</a>, if you're curious). It's also a part of the occiptal lobe, and the gyri and sulci there are named accordingly.\n",
    "\n",
    "To get a sense of what possible visual regions are in our list, we can look for _striate_ and _occiptal_ in the strings for each brain region. \n",
    "\n",
    "1. Write a `for` loop that loops through the list of brain regions and looks for *either* \"striate\" or \"occipital\" within the string for each of the brain regions in your list. Save all of the possible matches to a list called `possible_regions`.\n",
    "2. Create a counter (called `counter` that shows you how many brain regions you have at the end. Save the output of this counter as a variable called `regions_message` that says \"There are X possible visual regions\" where \"X\" is the value of your counter.\n",
    "3. At the end, print your list of possible regions so that you can see what it includes."
   ]
  },
  {
   "cell_type": "code",
   "execution_count": 7,
   "metadata": {
    "deletable": false,
    "nbgrader": {
     "cell_type": "code",
     "checksum": "f8f7ab078c409f6ed24ebe3a7d4fa012",
     "grade": false,
     "grade_id": "cell-0902d4d0a438dc72",
     "locked": false,
     "schema_version": 3,
     "solution": true
    }
   },
   "outputs": [
    {
     "name": "stdout",
     "output_type": "stream",
     "text": [
      "There are 11 possible visual regions\n",
      "['cuneus, peristriate', 'cuneus, striate', 'inferior occipital gyrus, inferior bank of gyrus', 'inferior occipital gyrus, superior bank of gyrus', 'lingual gyrus, peristriate', 'lingual gyrus, striate', 'occipital pole, inferior aspect', 'occipital pole, lateral aspect', 'occipital pole, superior aspect', 'superior occipital gyrus, inferior bank of gyrus', 'superior occipital gyrus, superior bank of gyrus']\n"
     ]
    }
   ],
   "source": [
    "# YOUR CODE HERE\n",
    "possible_regions = []\n",
    "counter = 0\n",
    "for region in brain_regions:\n",
    "    if 'striate' in region or 'occipital' in region:\n",
    "        possible_regions.append(region)\n",
    "        counter+=1\n",
    "    \n",
    "regions_message = 'There are ' + str(counter) + ' possible visual regions'\n",
    "print(regions_message)\n",
    "print(possible_regions)"
   ]
  },
  {
   "cell_type": "code",
   "execution_count": 8,
   "metadata": {
    "deletable": false,
    "editable": false,
    "nbgrader": {
     "cell_type": "code",
     "checksum": "e1fe7387d6873d14512e2ea29e2b7fa7",
     "grade": true,
     "grade_id": "cell-114195085a27e773",
     "locked": true,
     "points": 5,
     "schema_version": 3,
     "solution": false
    }
   },
   "outputs": [],
   "source": [
    "# Tests for Q3, worth 5 points.\n",
    "# Tests for Q3 \n",
    "assert isinstance(possible_regions,list)\n",
    "assert isinstance(counter,int)\n",
    "assert isinstance(regions_message,str)"
   ]
  },
  {
   "cell_type": "code",
   "execution_count": 9,
   "metadata": {
    "deletable": false,
    "editable": false,
    "nbgrader": {
     "cell_type": "code",
     "checksum": "cf2c27e5349ef0614099dcbf637fc497",
     "grade": true,
     "grade_id": "cell-899c2fba6b4f87d6",
     "locked": true,
     "points": 2.5,
     "schema_version": 3,
     "solution": false
    }
   },
   "outputs": [],
   "source": [
    "# Hidden Tests for Q3, worth 2.5 points."
   ]
  },
  {
   "cell_type": "code",
   "execution_count": 10,
   "metadata": {
    "deletable": false,
    "editable": false,
    "nbgrader": {
     "cell_type": "code",
     "checksum": "df7d740e16f86da8879b517fef5764d9",
     "grade": true,
     "grade_id": "cell-ca841ab91098c3e5",
     "locked": true,
     "points": 2.5,
     "schema_version": 3,
     "solution": false,
     "task": false
    }
   },
   "outputs": [],
   "source": [
    "# Hidden Tests for Q3, worth 2.5 points."
   ]
  },
  {
   "cell_type": "code",
   "execution_count": 11,
   "metadata": {
    "deletable": false,
    "editable": false,
    "nbgrader": {
     "cell_type": "code",
     "checksum": "fcc6af252d55d6f41c860d0237e5b846",
     "grade": true,
     "grade_id": "cell-a17ceae571b65b88",
     "locked": true,
     "points": 2.5,
     "schema_version": 3,
     "solution": false
    }
   },
   "outputs": [],
   "source": [
    "# Hidden Tests for Q3, worth 2.5 points."
   ]
  },
  {
   "cell_type": "markdown",
   "metadata": {
    "deletable": false,
    "editable": false,
    "nbgrader": {
     "cell_type": "markdown",
     "checksum": "017fc74c50fe9a9af19222d4a2e8f9c1",
     "grade": false,
     "grade_id": "cell-172df9c06825b8b0",
     "locked": true,
     "schema_version": 3,
     "solution": false
    }
   },
   "source": [
    "## Q4\n",
    "\n",
    "![](https://resource.loni.usc.edu/wp-content/uploads/2012/06/LINGUAL01.jpg)\n",
    "\n",
    "Let's go with '_lingual gyrus, striate_' -- that's a nice chunk of brain that encompasses visual cortex in humans (see the pink area above, details <a href=\"https://resource.loni.usc.edu/resources/downloads/research-protocols/masking-regions/lingual-gyrus/\">here</a>.\n",
    "\n",
    "Now that we know that 'lingual gyrus, striate' and 'superior colliculus' are both in our list, we need to know their index so that we can look for their corresponding values in the lists for each gene. For that, we can use the `index` method on our list (see the help for Index, or <a href=\"https://www.programiz.com/python-programming/methods/list/index\">this tutorial.</a>)\n",
    "\n",
    "Find the index of the 'lingual gyrus, striate' and 'superior colliculus' and save them as `LG_index` and `SC_index`, respectively."
   ]
  },
  {
   "cell_type": "code",
   "execution_count": 12,
   "metadata": {
    "deletable": false,
    "nbgrader": {
     "cell_type": "code",
     "checksum": "5c8c1f53cf489b10dec7eaf552f5c494",
     "grade": false,
     "grade_id": "cell-b07a5394f196fcde",
     "locked": false,
     "schema_version": 3,
     "solution": true
    }
   },
   "outputs": [
    {
     "name": "stdout",
     "output_type": "stream",
     "text": [
      "125\n",
      "206\n"
     ]
    }
   ],
   "source": [
    "# YOUR CODE HERE\n",
    "LG_index = brain_regions.index('lingual gyrus, striate')\n",
    "SC_index = brain_regions.index('superior colliculus')\n",
    "print(LG_index)\n",
    "print(SC_index)"
   ]
  },
  {
   "cell_type": "code",
   "execution_count": 13,
   "metadata": {
    "deletable": false,
    "editable": false,
    "nbgrader": {
     "cell_type": "code",
     "checksum": "18c899d0035e8b5f152aae952864fa7a",
     "grade": true,
     "grade_id": "cell-fc9f2f9bc2c73a33",
     "locked": true,
     "points": 2.5,
     "schema_version": 3,
     "solution": false
    }
   },
   "outputs": [],
   "source": [
    "# Tests for Q4, worth 2.5 points.\n",
    "assert isinstance(LG_index,int)\n",
    "assert isinstance(SC_index,int)"
   ]
  },
  {
   "cell_type": "code",
   "execution_count": 14,
   "metadata": {
    "deletable": false,
    "editable": false,
    "nbgrader": {
     "cell_type": "code",
     "checksum": "930b9172aa1cdfb1dce70b3788e01315",
     "grade": true,
     "grade_id": "cell-17dfde6eb2fac9b0",
     "locked": true,
     "points": 2.5,
     "schema_version": 3,
     "solution": false,
     "task": false
    }
   },
   "outputs": [],
   "source": [
    "# Hidden Tests for Q4, worth 2.5 points."
   ]
  },
  {
   "cell_type": "markdown",
   "metadata": {
    "deletable": false,
    "editable": false,
    "nbgrader": {
     "cell_type": "markdown",
     "checksum": "0db2fca31ae66933344dfb1e79c7d8f7",
     "grade": false,
     "grade_id": "cell-bb0a2625852847bf",
     "locked": true,
     "schema_version": 3,
     "solution": false
    }
   },
   "source": [
    "## Q5\n",
    "\n",
    "Searching for our gene in this dataset is a little tricky, since each row is a different list, but we can do it with a for loop. Let's say we're interested in **DISC1**, <a href=\"https://www.nature.com/articles/tp2016282\">a gene that is associated with schizophrenia</a>.\n",
    "\n",
    "Write a `for` loop that loops through each row (list) of our data, and checks if the first entry in that list is DISC1. When it finds DISC1, assign the entire list of values (including the DISC1 label) to `DISC1_data`."
   ]
  },
  {
   "cell_type": "code",
   "execution_count": 15,
   "metadata": {},
   "outputs": [],
   "source": [
    "#alternative code from section\n",
    "#for i in range(len(gene_data)):\n",
    "    #if gene_data[i][0] == 'DISC1':\n",
    "        #DISC1_data = gene_data[i]"
   ]
  },
  {
   "cell_type": "code",
   "execution_count": 16,
   "metadata": {},
   "outputs": [],
   "source": [
    "#with pandas:\n",
    "#import pandas a pd\n",
    "#gene_df = pd.DataFrame(gene_data[1:]), columns=gene_data[0])\n",
    "#print(gene_df[gene_df.gene_symbol] == 'DISC1')\n",
    "#(gene_df)"
   ]
  },
  {
   "cell_type": "code",
   "execution_count": 17,
   "metadata": {
    "deletable": false,
    "nbgrader": {
     "cell_type": "code",
     "checksum": "aaf1d653efddcb69f625902de37c77d2",
     "grade": false,
     "grade_id": "cell-e418f5791187648a",
     "locked": false,
     "schema_version": 3,
     "solution": true
    }
   },
   "outputs": [
    {
     "name": "stdout",
     "output_type": "stream",
     "text": [
      "['DISC1', '0.10234691591552625', '-0.03514271503436392', '-0.1401600298036149', '0.3775630586767744', '-1.2882414643804967', '-1.3094793280338128', '-1.321081067381541', '-1.2227949526118158', '0.4297003329547636', '-0.7233433273426383', '-0.9999244303785609', '-1.2947545996841554', '-1.4535047620087718', '-1.250810252656762', '-1.4284068797498208', '-1.0874345022171286', '-1.4658415260005528', '-1.3412531621006796', '-1.1369964333437053', '-1.3363596064048082', '-1.3379675195527359', '-1.2845296167176528', '-1.3796592898878244', '-1.309981840450498', '-1.3213225935388897', '-1.3450631641372934', '-1.1854714436434552', '-1.2727282312004522', '-1.2574989948682755', '-1.1682984533338725', '-1.398199788895754', '-1.4349175925478355', '-1.3990678197360165', '-1.4609798761032304', '-1.2541422533740274', '-1.4941270352249414', '-1.2128098289423688', '-1.327699344682325', '-1.4042060649366492', '-1.0550488573934775', '0.48354135981845064', '0.7282340091841847', '-0.6605225891587009', '-0.6386025239018396', '1.353222072484117', '0.4883979961014043', '-0.47863781695371266', '0.5544609869459212', '0.06792108056120261', '0.4790171357112952', '1.0664330883340896', '1.1160101464063323', '0.6368855846251547', '0.18741125423577842', '0.7058990963550037', '0.1017058210883639', '1.4515140283461174', '0.8309205848225016', '1.3675373422373946', '1.2501514178107467', '-0.509532809440512', '-0.1381631625379783', '-0.6681375884205479', '-0.5234651714555133', '-0.6827399666058968', '-0.7899032522497512', '-0.21764744736927966', '1.9668201133668688', '0.3212240369728032', '0.737747524155753', '2.1738657394159584', '1.2601765355855585', '1.2225090814516846', '1.450873009203686', '-0.9777100144742676', '-1.2180159626326377', '0.5832867470881359', '1.3190202277432794', '-0.08301954091461446', '0.18086851407012244', '0.28172715094924766', '1.6313509675239846', '0.6182110530897853', '1.8916450939947553', '-0.6023398347888683', '-0.5315317420016384', '-1.1757968808487833', '-0.6287024392949376', '-0.33994154779434016', '-0.4530083564455123', '-0.45140534084319694', '1.0873937080726834', '1.9190810604940216', '1.8893691499481815', '1.8132214220335838', '1.2733428507527078', '-0.46225617057773355', '0.26988213003054967', '1.08575107301387', '0.8599000214643894', '-0.8624654727754785', '-0.5501728439951077', '-0.5526805063660035', '-0.8403668937686678', '-0.957061834945369', '0.8710584960032883', '-0.5796531774859984', '-0.4032405744723017', '-0.5669840284156801', '-0.4816792915159482', '0.7947145334310779', '1.153946639468076', '0.8039532044537111', '1.7617931264657807', '0.40485687437377066', '0.838804460189817', '0.9833966876969392', '0.02060794215026948', '1.399125100486777', '1.0110198345071824', '-0.5525343948004297', '1.8117790415530357', '1.4656281851967288', '-0.8036591153821148', '-1.2263984422075282', '0.11175229615689189', '-0.6252542075284745', '1.021651737786472', '0.8263807513944933', '0.6905072178686226', '1.5633631886458077', '0.8348644130667435', '-0.4860549423423495', '1.388631643751134', '0.658398791212915', '0.6498851480849218', '-0.6591490502041625', '-0.6611993077355267', '-0.40248664016461383', '-0.4328061790582621', '0.9204002457113202', '-0.10060226695416191', '0.6199119716026364', '0.9468821537172758', '0.9016934037239411', '0.9232216233642621', '-1.5213917955144294', '-1.4182545231163308', '-1.572527081829453', '-0.5692779986783271', '-0.6971743887424905', '0.8738322961015694', '0.30188636910632005', '0.908853186258114', '-0.717153568990895', '-0.7924403876232883', '-0.5757062446530302', '-1.3724565296824243', '-0.9405315326291517', '-0.2879267612512919', '0.19211575581666507', '-0.5116827518446019', '0.029082394358662816', '0.05075435599764436', '0.07857564971837812', '-0.2031797358756971', '0.6704724981377821', '0.06633470706156526', '0.9837834743631965', '-0.3280809464870052', '-0.5877798364183516', '0.19499462124043584', '0.9203078093605301', '1.0497491503012355', '-0.7672946563675631', '-0.6587992032596468', '-0.5685010591878179', '-0.8157025038601384', '0.5637996702627353', '0.09425599170607596', '-0.33636674361441327', '-0.6387035945373969', '-0.4958785294602667', '-0.8251979671118753', '-0.6420102326456761', '-0.8586261687311872', '-0.8001537204715987', '0.24224332954038275', '0.8058868700013919', '0.9113792509695675', '0.566892387622498', '1.041708786083914', '1.9148850327958866', '1.6297577390315021', '0.4485693172742977', '1.1095278031771605', '-0.5370263194383665', '1.1283606531187258', '-0.027793529323631317', '1.389774043196645', '-0.04173912903156526', '0.3260042095531036', '0.7151645972394051', '1.9508690384350416', '1.2010291253029497', '1.0669682977646908', '-0.1260051689519209', '-0.5773929098954841', '-0.5417842261085669', '-0.7153193119715224', '-0.7143771402999114', '0.9704264986597021', '-0.5745243003205766', '-0.6973126027843973', '-0.8343580053249798', '-0.6152872639853605', '-0.5749977406972898', '0.22147229358480736', '-0.5631662969139745', '-0.3792803095084902', '0.691609318465579', '0.49234324900007304', '-0.11770940819551731', '-0.1468262144864234', '-0.42352341875549077', '-0.7219644660545245', '1.111628624095495', '-0.38978500631086166', '1.3939814244921873', '0.26983111998375636', '1.3811966144533043', '1.5159206814944175']\n"
     ]
    }
   ],
   "source": [
    "# YOUR CODE HERE\n",
    "for row in gene_data:\n",
    "    if row[0] == 'DISC1':\n",
    "        DISC1_data = row\n",
    "        \n",
    "\n",
    "print(DISC1_data)"
   ]
  },
  {
   "cell_type": "code",
   "execution_count": 18,
   "metadata": {
    "deletable": false,
    "editable": false,
    "nbgrader": {
     "cell_type": "code",
     "checksum": "8acc414977d5ca35ae1d338a1e833459",
     "grade": true,
     "grade_id": "cell-494deb61f965472c",
     "locked": true,
     "points": 5,
     "schema_version": 3,
     "solution": false
    }
   },
   "outputs": [],
   "source": [
    "# Tests for Q5, worth 5 points.\n",
    "assert isinstance(DISC1_data,list)"
   ]
  },
  {
   "cell_type": "code",
   "execution_count": 19,
   "metadata": {
    "deletable": false,
    "editable": false,
    "nbgrader": {
     "cell_type": "code",
     "checksum": "22c96d43fbf34bf0053bceb4276d231a",
     "grade": true,
     "grade_id": "cell-765fda140a78c850",
     "locked": true,
     "points": 5,
     "schema_version": 3,
     "solution": false,
     "task": false
    }
   },
   "outputs": [],
   "source": [
    "# Hidden Tests for Q5, worth 5 points."
   ]
  },
  {
   "cell_type": "markdown",
   "metadata": {
    "deletable": false,
    "editable": false,
    "nbgrader": {
     "cell_type": "markdown",
     "checksum": "e2820dcace8f5ca01cd101cacdf69ffe",
     "grade": false,
     "grade_id": "cell-3a022416d2152970",
     "locked": true,
     "schema_version": 3,
     "solution": false
    }
   },
   "source": [
    "## Q6\n",
    "Using the indices we saved above, now we can look to see whether expression of DISC1 is higher in the superior colliculus or in the occipital lobe.\n",
    "\n",
    "1. Save the gene expression values for superior colliculus and the occiptal lobe as `SC_DISC1` and `LG_DISC1` respectively, by using the indices you saved in the previous step.\n",
    "2. Check the type of these. If they're not a float, convert each of them into a float (still assigned to `SC_DISC1` and `LG_DISC1`."
   ]
  },
  {
   "cell_type": "code",
   "execution_count": 20,
   "metadata": {
    "deletable": false,
    "nbgrader": {
     "cell_type": "code",
     "checksum": "5841305e16d1273ba1aeea9db879ef93",
     "grade": false,
     "grade_id": "cell-aa1098e09c74b91f",
     "locked": false,
     "schema_version": 3,
     "solution": true
    }
   },
   "outputs": [
    {
     "name": "stdout",
     "output_type": "stream",
     "text": [
      "1.0669682977646908\n",
      "-1.2263984422075282\n"
     ]
    }
   ],
   "source": [
    "# YOUR CODE HERE\n",
    "SC_DISC1 = float(DISC1_data[SC_index])\n",
    "LG_DISC1 = float(DISC1_data[LG_index])\n",
    "print(SC_DISC1)\n",
    "print(LG_DISC1)\n",
    "#these values are z scores so actually saying the gene expression is 1 standard deviation above/below the mean "
   ]
  },
  {
   "cell_type": "code",
   "execution_count": 21,
   "metadata": {
    "deletable": false,
    "editable": false,
    "nbgrader": {
     "cell_type": "code",
     "checksum": "16d2c59a40e354038f1ccda67e2bd921",
     "grade": true,
     "grade_id": "cell-ca28c95f0aa3d782",
     "locked": true,
     "points": 5,
     "schema_version": 3,
     "solution": false
    }
   },
   "outputs": [],
   "source": [
    "# Tests for Q6, worth 5 points (note: includes hidden tests).\n",
    "\n",
    "assert isinstance(SC_DISC1,float)\n",
    "assert isinstance(LG_DISC1,float)\n"
   ]
  },
  {
   "cell_type": "markdown",
   "metadata": {},
   "source": [
    "## Q7\n",
    "\n",
    "Given the data points that we have here in `SC_DISC1` and `LG_DISC1`, what could we reasonably claim?\n",
    "\n",
    "**Note:** Remember that you can indicate your response on a multiple choice by assigning a string with your one letter response to `answer`.\n",
    "\n",
    "* `A` : superior colliculus has greater expression of DISC1 than other genes\n",
    "* `B` : superior colliculus has less expression of DISC1 than other genes\n",
    "* `C` : superior colliculus has greater expression of DISC1 than the lingual gyrus\n",
    "* `D` : superior colliculus has less expression of DISC1 than the lingual gyrus"
   ]
  },
  {
   "cell_type": "code",
   "execution_count": 22,
   "metadata": {
    "deletable": false,
    "nbgrader": {
     "cell_type": "code",
     "checksum": "1affa5a4b846a22b9881aed45f75fa54",
     "grade": false,
     "grade_id": "cell-4d28ec3218b5eca3",
     "locked": false,
     "schema_version": 3,
     "solution": true,
     "task": false
    }
   },
   "outputs": [],
   "source": [
    "# YOUR CODE HERE\n",
    "answer = 'C'"
   ]
  },
  {
   "cell_type": "code",
   "execution_count": 23,
   "metadata": {
    "deletable": false,
    "editable": false,
    "nbgrader": {
     "cell_type": "code",
     "checksum": "db3b7076c14ff7585dde83d70fd0d9ec",
     "grade": true,
     "grade_id": "cell-5455982a793bf006",
     "locked": true,
     "points": 2.5,
     "schema_version": 3,
     "solution": false,
     "task": false
    }
   },
   "outputs": [],
   "source": [
    "# Tests for Q7, worth 2.5 points (note: includes hidden tests).\n",
    "\n",
    "assert answer in ['A','B','C','D']\n"
   ]
  },
  {
   "cell_type": "markdown",
   "metadata": {
    "deletable": false,
    "editable": false,
    "nbgrader": {
     "cell_type": "markdown",
     "checksum": "46a30cc67eb48dada9411ea1aba95265",
     "grade": false,
     "grade_id": "cell-574b33b30e0058d9",
     "locked": true,
     "schema_version": 3,
     "solution": false
    }
   },
   "source": [
    "## Q8\n",
    "\n",
    "We could also decide to guide our interest in brain regions based on higher expression of DISC1. For all of the values of DISC1, look for expression values that are greater than **1.5**, and save these as a list called `high_DISC1`. In the end, `high_DISC1` should contain a list of brain areas with expression values higher than 1.5.\n",
    "\n",
    "**Note**: Remember that the first value in each list is the name of the gene; you might need to skip it."
   ]
  },
  {
   "cell_type": "code",
   "execution_count": 24,
   "metadata": {},
   "outputs": [],
   "source": [
    "#high_DISC1 = []\n",
    "\n",
    "#for in in range [1, DISC1_data]:\n",
    "    #if i ==0:\n",
    "        #continue\n",
    "    #if float(DISC1_data[i]) >1.5\n",
    "        #high_DISC1.apped(brain_regions[i])"
   ]
  },
  {
   "cell_type": "code",
   "execution_count": 25,
   "metadata": {
    "deletable": false,
    "nbgrader": {
     "cell_type": "code",
     "checksum": "9fa995fc18fad81c06de60ce16c93e3d",
     "grade": false,
     "grade_id": "cell-7649027213fce9d6",
     "locked": false,
     "schema_version": 3,
     "solution": true
    }
   },
   "outputs": [
    {
     "name": "stdout",
     "output_type": "stream",
     "text": [
      "['cingulum bundle', 'corpus callosum', 'emboliform nucleus', 'fastigial nucleus', 'globose nucleus', 'globus pallidus, external segment', 'globus pallidus, internal segment', 'lateral habenular nucleus', 'lateral parabrachial nucleus', 'medial habenular nucleus', 'red nucleus', 'reticular nucleus of thalamus', 'substantia nigra, pars reticulata', 'zona incerta']\n"
     ]
    }
   ],
   "source": [
    "# YOUR CODE HERE\n",
    "high_DISC1 = []\n",
    "\n",
    "for value in DISC1_data[1:]:\n",
    "    \n",
    "    if value > '1.5':\n",
    "        regions = DISC1_data.index(value)\n",
    "        region_name = brain_regions[regions]\n",
    "        high_DISC1.append(region_name)\n",
    "        \n",
    "print(high_DISC1)"
   ]
  },
  {
   "cell_type": "code",
   "execution_count": 27,
   "metadata": {},
   "outputs": [
    {
     "data": {
      "text/plain": [
       "232"
      ]
     },
     "execution_count": 27,
     "metadata": {},
     "output_type": "execute_result"
    }
   ],
   "source": [
    "DISC1_data.index(value)"
   ]
  },
  {
   "cell_type": "code",
   "execution_count": null,
   "metadata": {
    "deletable": false,
    "editable": false,
    "nbgrader": {
     "cell_type": "code",
     "checksum": "56ef093c95378f7dc4ddc72b9fed33f0",
     "grade": true,
     "grade_id": "cell-af3b73b4f7f7044e",
     "locked": true,
     "points": 10,
     "schema_version": 3,
     "solution": false
    }
   },
   "outputs": [],
   "source": [
    "# Tests for Q8, worth 10 points (note: includes hidden tests).\n",
    "\n",
    "assert isinstance(high_DISC1,list)\n"
   ]
  },
  {
   "cell_type": "code",
   "execution_count": null,
   "metadata": {},
   "outputs": [],
   "source": []
  }
 ],
 "metadata": {
  "kernelspec": {
   "display_name": "Python 3",
   "language": "python",
   "name": "python3"
  },
  "language_info": {
   "codemirror_mode": {
    "name": "ipython",
    "version": 3
   },
   "file_extension": ".py",
   "mimetype": "text/x-python",
   "name": "python",
   "nbconvert_exporter": "python",
   "pygments_lexer": "ipython3",
   "version": "3.6.7"
  }
 },
 "nbformat": 4,
 "nbformat_minor": 2
}
