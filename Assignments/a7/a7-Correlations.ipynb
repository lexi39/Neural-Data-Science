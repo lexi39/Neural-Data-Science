{
 "cells": [
  {
   "cell_type": "markdown",
   "metadata": {
    "deletable": false,
    "editable": false,
    "nbgrader": {
     "cell_type": "markdown",
     "checksum": "eb6773f4c433444cd8dd3434470cef84",
     "grade": false,
     "grade_id": "cell-cbcf6d0722b4332d",
     "locked": true,
     "schema_version": 3,
     "solution": false,
     "task": false
    }
   },
   "source": [
    "# Assignment 7: Correlations\n",
    "\n",
    "This assignment will demonstrate the strengths of weaknesses of correlations, and especially inferring causation from them in the neuroscience literature.\n",
    "\n",
    "This assignment is worth 5 points (5% of your grade). \n",
    "\n",
    "**PLEASE DO NOT CHANGE THE NAME OF THIS FILE.**\n",
    "\n",
    "**PLEASE DO NOT COPY & PASTE OR DELETE CELLS INCLUDED IN THE ASSIGNMENT.**\n",
    "\n",
    "\n",
    "## How to complete assignments\n",
    "\n",
    "Whenever you see:\n",
    "\n",
    "```\n",
    "# YOUR CODE HERE\n",
    "raise NotImplementedError()\n",
    "```\n",
    "\n",
    "You need to **replace (meaning, delete) these lines of code with code that answers the questions** and meets the specified criteria. Make sure you remove the 'raise' line when you do this (or your notebook will raise an error, regardless of any other code, and thus fail the grading tests).\n",
    "\n",
    "You should write the answer to the questions in those cells (the ones with `# YOUR CODE HERE`), but you can also add extra cells to explore / investigate things if you need / want to. \n",
    "\n",
    "Any cell with `assert` statements in it is a test cell. You should not try to change or delete these cells. Note that there might be more than one assert that tests a particular question. \n",
    "\n",
    "If a test does fail, reading the error that is printed out should let you know which test failed, which may be useful for fixing it.\n",
    "\n",
    "Note that some cells, including the test cells, may be read only, which means they won't let you edit them. If you cannot edit a cell - that is normal, and you shouldn't need to edit that cell.\n",
    "\n",
    "\n",
    "## Tips & Tricks\n",
    "\n",
    "The following are a couple tips & tricks that may help you if you get stuck on anything.\n",
    "\n",
    "#### Printing Variables\n",
    "You can (and should) print and check variables as you go. This allows you to check what values they hold, and fix things if anything unexpected happens.\n",
    "\n",
    "#### Restarting the Kernel\n",
    "- If you run cells out of order, you can end up overwriting things in your namespace. \n",
    "- If things seem to go weird, a good first step is to restart the kernel, which you can do from the kernel menu above.\n",
    "- Even if everything seems to be working, it's a nice check to 'Restart & Run All', to make sure everything runs properly in order."
   ]
  },
  {
   "cell_type": "code",
   "execution_count": 1,
   "metadata": {},
   "outputs": [],
   "source": [
    "# basic plotting imports\n",
    "%matplotlib inline\n",
    "%config InlineBackend.figure_format = 'retina' # high res plotting\n",
    "\n",
    "import matplotlib\n",
    "import matplotlib.pyplot as plt\n",
    "import seaborn as sns\n",
    "sns.set_style('whitegrid')\n",
    "sns.set_style(\"whitegrid\", {'axes.grid' : False})"
   ]
  },
  {
   "cell_type": "markdown",
   "metadata": {
    "deletable": false,
    "editable": false,
    "nbgrader": {
     "cell_type": "markdown",
     "checksum": "8091a9abf8e93417640c5260eed412ec",
     "grade": false,
     "grade_id": "cell-9a80f9f3295cb2ab",
     "locked": true,
     "schema_version": 3,
     "solution": false,
     "task": false
    }
   },
   "source": [
    "# Part 1: Correlation basics\n",
    "\n",
    "This section serves as a reminder for the basics of how correlation works. A Pearson correlation simply quatifies how linear the relationship is between two variables (features).\n",
    "\n",
    "Below, we will walk you through the powers, pitfalls, and idiosyncrasies of correlations.\n",
    "\n",
    "\n",
    "## Question 1: Random data\n",
    "\n",
    "To begin, use numpy.random.normal to create two random variables: <code>random_data1 and random_data2</code>\n",
    "\n",
    "<code>random_data1</code> should have mean=1.0, std=1.0\n",
    "<code>random_data2</code> should have mean=6.0, std=2.5\n",
    "\n",
    "Both should have 1000 samples.\n"
   ]
  },
  {
   "cell_type": "code",
   "execution_count": 2,
   "metadata": {
    "deletable": false,
    "nbgrader": {
     "cell_type": "code",
     "checksum": "fdfa54a3c6717291c6635afea1b60aa2",
     "grade": false,
     "grade_id": "cell-2c1f5c27f99bc71e",
     "locked": false,
     "schema_version": 3,
     "solution": true,
     "task": false
    }
   },
   "outputs": [],
   "source": [
    "import numpy as np\n",
    "\n",
    "number_of_samples = 1000\n",
    "\n",
    "# YOUR CODE HERE\n",
    "random_data1 = np.random.normal(1.0, 1.0, 1000) \n",
    "random_data2 = np.random.normal(6.0, 2.5, 1000)\n"
   ]
  },
  {
   "cell_type": "code",
   "execution_count": 3,
   "metadata": {
    "deletable": false,
    "editable": false,
    "nbgrader": {
     "cell_type": "code",
     "checksum": "6f679ad8ea250a329a118d6c565177a6",
     "grade": true,
     "grade_id": "cell-e80e9bb810226a8f",
     "locked": true,
     "points": 5,
     "schema_version": 3,
     "solution": false,
     "task": false
    }
   },
   "outputs": [],
   "source": [
    "# Hidden tests (worth 5 points)"
   ]
  },
  {
   "cell_type": "markdown",
   "metadata": {
    "deletable": false,
    "editable": false,
    "nbgrader": {
     "cell_type": "markdown",
     "checksum": "92bd3f2b4ab894a414c8d94ce8731ca8",
     "grade": false,
     "grade_id": "cell-233c9bf7b5b03e69",
     "locked": true,
     "schema_version": 3,
     "solution": false,
     "task": false
    }
   },
   "source": [
    "## Q2: Random data correlation significance\n",
    "\n",
    "Now let's look at the Pearson correlation between the two random datasets.\n",
    "\n",
    "But first, given that these are two random variables, will they be correlated?\n",
    "\n",
    "* `A`: They will definitely be significantly correlated (<em>p</em> < 0.05)\n",
    "* `B`: They will definitely <em>not</em> be significantly correlated (<em>p</em> > 0.05) \n",
    "* `C`: The correlation between them cannot be assessed\n",
    "* `D`: The correlation will probably be non-significant (<em>p</em> > 0.05) but will sometimes be significant (<em>p</em> < 0.05)\n",
    "\n",
    "Write your answer below as a new variable, <code>q2_answer</code>. So if the answer was a hypothetical option <code>E</code>, you would write:\n",
    "\n",
    "<code>q2_answer = 'E'</code>"
   ]
  },
  {
   "cell_type": "code",
   "execution_count": 4,
   "metadata": {
    "deletable": false,
    "nbgrader": {
     "cell_type": "code",
     "checksum": "48203ff5549aaa139a834fdce4ee3bfa",
     "grade": false,
     "grade_id": "cell-0a742e3f3895f1fb",
     "locked": false,
     "schema_version": 3,
     "solution": true,
     "task": false
    }
   },
   "outputs": [],
   "source": [
    "# YOUR CODE HERE\n",
    "q2_answer = 'B' "
   ]
  },
  {
   "cell_type": "code",
   "execution_count": 5,
   "metadata": {
    "deletable": false,
    "editable": false,
    "nbgrader": {
     "cell_type": "code",
     "checksum": "3808950915a9f69c3df5e55bacf1bbb3",
     "grade": true,
     "grade_id": "cell-70b4310f5dd968f6",
     "locked": true,
     "points": 3,
     "schema_version": 3,
     "solution": false,
     "task": false
    }
   },
   "outputs": [],
   "source": [
    "# Tests for Q2 (worth 3 points)\n",
    "assert isinstance(q2_answer, str)\n"
   ]
  },
  {
   "cell_type": "markdown",
   "metadata": {
    "deletable": false,
    "editable": false,
    "nbgrader": {
     "cell_type": "markdown",
     "checksum": "9caa73e4c1a594389041d87f6bac7114",
     "grade": false,
     "grade_id": "cell-e18c7438bdf22a7b",
     "locked": true,
     "schema_version": 3,
     "solution": false,
     "task": false
    }
   },
   "source": [
    "## Q3: Correlating random data\n",
    "\n",
    "Now let's look at the actual Pearson correlation.\n",
    "\n",
    "To do this, call <code>scipy.stats.pearsonr</code> and store the Pearson correlation coefficient as <code>r_random</code> and the associated <em>p</em>-value as <code>p_random</code>.\n",
    "\n",
    "Then plot the relationship with <code>random_data1</code> as the x-axis and <code>random_data2</code> as the y-axis, using a scatterplot."
   ]
  },
  {
   "cell_type": "code",
   "execution_count": 6,
   "metadata": {
    "deletable": false,
    "nbgrader": {
     "cell_type": "code",
     "checksum": "4ea27d3db418ae7a177207c4038fcced",
     "grade": false,
     "grade_id": "cell-d446a4f129f5e0f9",
     "locked": false,
     "schema_version": 3,
     "solution": true,
     "task": false
    }
   },
   "outputs": [
    {
     "name": "stdout",
     "output_type": "stream",
     "text": [
      "pearson's r: 0.013877    pearson's p: 0.661164\n"
     ]
    },
    {
     "data": {
      "text/plain": [
       "<matplotlib.collections.PathCollection at 0x7fa83cea10f0>"
      ]
     },
     "execution_count": 6,
     "metadata": {},
     "output_type": "execute_result"
    },
    {
     "data": {
      "image/png": "[encoded data removed]",
      "text/plain": [
       "<Figure size 432x288 with 1 Axes>"
      ]
     },
     "metadata": {
      "image/png": {
       "height": 248,
       "width": 370
      },
      "needs_background": "light"
     },
     "output_type": "display_data"
    }
   ],
   "source": [
    "import scipy as sp\n",
    "\n",
    "# YOUR CODE HERE\n",
    "r_random, p_random = sp.stats.pearsonr(random_data1, random_data2)\n",
    "print(\"pearson's r: %f    pearson's p: %f\" % (r_random, p_random))\n",
    "plt.scatter(random_data1, random_data2)\n"
   ]
  },
  {
   "cell_type": "code",
   "execution_count": 7,
   "metadata": {
    "deletable": false,
    "editable": false,
    "nbgrader": {
     "cell_type": "code",
     "checksum": "2878054b65078f61d680190dd132ca8f",
     "grade": true,
     "grade_id": "cell-e6a9885757a4a4fe",
     "locked": true,
     "points": 5,
     "schema_version": 3,
     "solution": false,
     "task": false
    }
   },
   "outputs": [],
   "source": [
    "# Hidden tests (worth 5 points)"
   ]
  },
  {
   "cell_type": "markdown",
   "metadata": {
    "deletable": false,
    "editable": false,
    "nbgrader": {
     "cell_type": "markdown",
     "checksum": "3af565f1cb08494f49651bec98fb3329",
     "grade": false,
     "grade_id": "cell-974af09e3abac364",
     "locked": true,
     "schema_version": 3,
     "solution": false,
     "task": false
    }
   },
   "source": [
    "## Q4: Making a linear correlation\n",
    "\n",
    "Okay, so  we know that a Pearson correlation quatifies how linear the relationship is between two variables (features).\n",
    "\n",
    "Now, let's create a new variable, <code>correlated_data1</code>, that is explicitly a linear function of <code>random_data1</code>, plus some noise.\n",
    "\n",
    "To do this, set <code>correlated_data1</code> equal to <code>random_data1</code> plus 20., and add normally-distributed noise of mean=0., std=0.5\n",
    "\n",
    "Calculate the Pearson correlation coefficient between them as <code>r_corr</code> and the associated <em>p</em>-value as <code>p_corr</code>.\n",
    "\n",
    "Plot the results."
   ]
  },
  {
   "cell_type": "code",
   "execution_count": 8,
   "metadata": {
    "deletable": false,
    "nbgrader": {
     "cell_type": "code",
     "checksum": "3ea57fc43fdb8636586bb17d00b85679",
     "grade": false,
     "grade_id": "cell-1f056a5ab429c813",
     "locked": false,
     "schema_version": 3,
     "solution": true,
     "task": false
    }
   },
   "outputs": [
    {
     "name": "stdout",
     "output_type": "stream",
     "text": [
      "pearson's r: 1.000000    pearson's p: 0.000000\n"
     ]
    }
   ],
   "source": [
    "# YOUR CODE HERE\n",
    "correlated_data1 = random_data1 + 20. + np.random.normal(0., 0.5)\n",
    "r_corr, p_corr = sp.stats.pearsonr(correlated_data1, random_data1)\n",
    "print(\"pearson's r: %f    pearson's p: %f\" % (r_corr, p_corr))"
   ]
  },
  {
   "cell_type": "code",
   "execution_count": 9,
   "metadata": {
    "deletable": false,
    "editable": false,
    "nbgrader": {
     "cell_type": "code",
     "checksum": "dc2740ec12ce6d8b84a4e757b530bf7e",
     "grade": true,
     "grade_id": "cell-2206a4642f630d2f",
     "locked": true,
     "points": 5,
     "schema_version": 3,
     "solution": false,
     "task": false
    }
   },
   "outputs": [],
   "source": [
    "# Hidden tests (worth 5 points)"
   ]
  },
  {
   "cell_type": "markdown",
   "metadata": {
    "deletable": false,
    "editable": false,
    "nbgrader": {
     "cell_type": "markdown",
     "checksum": "e3524f7b72220f5dda2ab01daf15a16a",
     "grade": false,
     "grade_id": "cell-8a8f224208708e66",
     "locked": true,
     "schema_version": 3,
     "solution": false,
     "task": false
    }
   },
   "source": [
    "# Part 2: Correlation cautions\n",
    "\n",
    "\n",
    "## Q5: Assessing correlation significance\n",
    "\n",
    "Now we're going to switch gears and give you four sets of data:\n",
    "\n",
    "* <code>(x1, y1)</code>\n",
    "* <code>(x2, y2)</code>\n",
    "* <code>(x3, y3)</code>\n",
    "* <code>(x4, y4)</code>\n",
    "\n",
    "Calculate the means and variances for each of the eight variables.\n",
    "\n",
    "To do this, make a list of the <code>x</code> variables, called <code>xs</code>; do the same for the <code>y</code> variables, called <code>ys</code>.\n",
    "\n",
    "Then create a variable called <code>x_stats</code> that has two arrays: the means for each <code>x</code> variable, and the vars for each <code>x</code> variable; do the same for the <code>y</code> variables, called <code>y_stats</code>\n",
    "\n",
    "Calculate the Pearson correlation coefficients and the associated <em>p</em>-values. Store the correlation coefficients as an array called <code>rs</code>, and the <em>p</em>-values as an array called <code>ps</code>.\n"
   ]
  },
  {
   "cell_type": "code",
   "execution_count": 10,
   "metadata": {
    "deletable": false,
    "nbgrader": {
     "cell_type": "code",
     "checksum": "a0b7eb8068abfd30b1f6c8bdeca0962b",
     "grade": false,
     "grade_id": "cell-7acaaf57f7bb9d97",
     "locked": false,
     "schema_version": 3,
     "solution": true,
     "task": false
    }
   },
   "outputs": [
    {
     "name": "stdout",
     "output_type": "stream",
     "text": [
      "[[array([9., 9., 9., 9.])], [array([10., 10., 10., 10.])]]\n",
      "[[array([7.50090909, 7.50090909, 7.5       , 7.50090909])], [array([3.75206281, 3.75239008, 3.74783636, 3.74840826])]]\n",
      "[0.81623651 0.81623651 0.81628674 0.81652144]\n",
      "[0.00217882 0.00217882 0.00217631 0.0021646 ]\n"
     ]
    }
   ],
   "source": [
    "# Given arrays (don't change these!)\n",
    "x1 = np.array([10, 8, 13, 9, 11, 14, 6, 4, 12, 7, 5])\n",
    "y1 = np.array([8.04, 6.95, 7.58, 8.81, 8.33, 9.96, 7.24, 4.26, 10.84, 4.82, 5.68])\n",
    "x2 = np.array([10, 8, 13, 9, 11, 14, 6, 4, 12, 7, 5])\n",
    "y2 = np.array([9.14, 8.14, 8.74, 8.77, 9.26, 8.10, 6.13, 3.10, 9.13, 7.26, 4.74])\n",
    "x3 = np.array([10, 8, 13, 9, 11, 14, 6, 4, 12, 7, 5])\n",
    "y3 = np.array([7.46, 6.77, 12.74, 7.11, 7.81, 8.84, 6.08, 5.39, 8.15, 6.42, 5.73])\n",
    "x4 = np.array([8, 8, 8, 8, 8, 8, 8, 19, 8, 8, 8])\n",
    "y4 = np.array([6.58, 5.76, 7.71, 8.84, 8.47, 7.04, 5.25, 12.50, 5.56, 7.91, 6.89])\n",
    "\n",
    "# YOUR CODE HERE\n",
    "xs = [x1, x2, x3, x4]\n",
    "ys = [y1, y2, y3, y4]\n",
    "\n",
    "x_stats = [[np.mean(xs, axis=1)], [np.var(xs, axis=1)]]\n",
    "y_stats = [[np.mean(ys, axis=1)], [np.var(ys, axis=1)]]\n",
    "\n",
    "print(x_stats)\n",
    "print(y_stats)\n",
    "\n",
    "r1, p1 = sp.stats.pearsonr(x1, y2)\n",
    "r2, p2 = sp.stats.pearsonr(x2, y2)\n",
    "r3, p3 = sp.stats.pearsonr(x3, y3)\n",
    "r4, p4 = sp.stats.pearsonr(x4, y4)\n",
    "rs = np.array([r1, r2, r3, r4])\n",
    "ps = np.array([p1, p2, p3, p4])\n",
    "\n",
    "print(rs)\n",
    "print(ps)"
   ]
  },
  {
   "cell_type": "code",
   "execution_count": 11,
   "metadata": {
    "deletable": false,
    "editable": false,
    "nbgrader": {
     "cell_type": "code",
     "checksum": "adfd03593e9bdd98cc02752cfa7adb3a",
     "grade": true,
     "grade_id": "cell-91d11144709c1a19",
     "locked": true,
     "points": 10,
     "schema_version": 3,
     "solution": false,
     "task": false
    }
   },
   "outputs": [],
   "source": [
    "# Hidden tests (worth 10 points)"
   ]
  },
  {
   "cell_type": "markdown",
   "metadata": {
    "deletable": false,
    "editable": false,
    "nbgrader": {
     "cell_type": "markdown",
     "checksum": "0f6fb56a19b6e2fa644d8f0fdf0651a2",
     "grade": false,
     "grade_id": "cell-5828fa5c6e373d98",
     "locked": true,
     "schema_version": 3,
     "solution": false,
     "task": false
    }
   },
   "source": [
    "## Q6: Interpreting these results\n",
    "\n",
    "Okay, so given the means, variances, and Pearson correlation coefficients (collectively, \"summary statistics\") for the four above datasets, what inference do you make about them?\n",
    "\n",
    "* `A`: The summary statistics are all very close to the same\n",
    "* `B`: The means and variances are close to the same, but the Pearson correlations are different\n",
    "* `C`: The means and variances are very different, but the Pearson correlations are very similar\n",
    "* `D`: All the summary statistics are very different from one another\n",
    "\n",
    "Write your answer below as a new variable, <code>q6_answer</code>. So if the answer was a hypothetical option <code>E</code>, you would write:\n",
    "\n",
    "<code>q6_answer = 'E'</code> "
   ]
  },
  {
   "cell_type": "code",
   "execution_count": 12,
   "metadata": {
    "deletable": false,
    "nbgrader": {
     "cell_type": "code",
     "checksum": "ca901b8e4dc97922bd98ef9fa92737be",
     "grade": false,
     "grade_id": "cell-ee491b37d9d163d4",
     "locked": false,
     "schema_version": 3,
     "solution": true,
     "task": false
    }
   },
   "outputs": [],
   "source": [
    "# YOUR CODE HERE\n",
    "q6_answer = 'E'"
   ]
  },
  {
   "cell_type": "code",
   "execution_count": 13,
   "metadata": {
    "deletable": false,
    "editable": false,
    "nbgrader": {
     "cell_type": "code",
     "checksum": "a91019c0a10c66232fd50f237f54f53c",
     "grade": true,
     "grade_id": "cell-0c4b0bd614377625",
     "locked": true,
     "points": 3,
     "schema_version": 3,
     "solution": false,
     "task": false
    }
   },
   "outputs": [],
   "source": [
    "# Tests for Q6 (worth 3 points)\n",
    "assert isinstance(q6_answer, str)\n"
   ]
  },
  {
   "cell_type": "markdown",
   "metadata": {
    "deletable": false,
    "editable": false,
    "nbgrader": {
     "cell_type": "markdown",
     "checksum": "afa986819c897377e3af509193431d91",
     "grade": false,
     "grade_id": "cell-6a55e2346d3ff2bd",
     "locked": true,
     "schema_version": 3,
     "solution": false,
     "task": false
    }
   },
   "source": [
    "## Q7: Summary statistics: a cautionary tale\n",
    "\n",
    "Now plot the four <code>(x, y)</code> pairs. What inference do you make about them, now?\n",
    "\n",
    "* `A`: The <code>(x, y)</code> pairs all look very similar\n",
    "* `B`: The <code>(x, y)</code> pairs all look linear\n",
    "* `C`: The <code>(x, y)</code> pairs all look very different\n",
    "* `D`: The <code>(x, y)</code> pairs all look quadratic\n",
    "\n",
    "Write your answer below as a new variable, <code>q7_answer</code>. So if the answer was a hypothetical option <code>E</code>, you would write:\n",
    "\n",
    "<code>q7_answer = 'E'</code> "
   ]
  },
  {
   "cell_type": "code",
   "execution_count": 14,
   "metadata": {
    "deletable": false,
    "nbgrader": {
     "cell_type": "code",
     "checksum": "7fc7549c7644881259d4e6acdf3dca05",
     "grade": true,
     "grade_id": "cell-b0242660c36fe0b9",
     "locked": false,
     "points": 1,
     "schema_version": 3,
     "solution": true,
     "task": false
    }
   },
   "outputs": [
    {
     "data": {
      "text/plain": [
       "<matplotlib.collections.PathCollection at 0x7fa83cceccc0>"
      ]
     },
     "execution_count": 14,
     "metadata": {},
     "output_type": "execute_result"
    },
    {
     "data": {
      "image/png": "[encoded data removed]",
      "text/plain": [
       "<Figure size 432x288 with 4 Axes>"
      ]
     },
     "metadata": {
      "image/png": {
       "height": 248,
       "width": 378
      },
      "needs_background": "light"
     },
     "output_type": "display_data"
    }
   ],
   "source": [
    "fig, axs = plt.subplots(2, 2)\n",
    "\n",
    "# YOUR CODE HERE\n",
    "axs[0,0].scatter(x1, y1)\n",
    "axs[0,1].scatter(x2, y2)\n",
    "axs[1,0].scatter(x3, y3)\n",
    "axs[1,1].scatter(x4, y4)\n",
    "\n"
   ]
  },
  {
   "cell_type": "code",
   "execution_count": 15,
   "metadata": {
    "deletable": false,
    "nbgrader": {
     "cell_type": "code",
     "checksum": "8340b013c0b3a8ae6110d3f74a230bca",
     "grade": false,
     "grade_id": "cell-9e4096f835eefb51",
     "locked": false,
     "schema_version": 3,
     "solution": true,
     "task": false
    }
   },
   "outputs": [],
   "source": [
    "# YOUR CODE HERE\n",
    "q7_answer = 'C'"
   ]
  },
  {
   "cell_type": "code",
   "execution_count": 16,
   "metadata": {
    "deletable": false,
    "editable": false,
    "nbgrader": {
     "cell_type": "code",
     "checksum": "5c6eda478f709afe68b3964eb0b6510f",
     "grade": true,
     "grade_id": "cell-041db26acd669a14",
     "locked": true,
     "points": 3,
     "schema_version": 3,
     "solution": false,
     "task": false
    }
   },
   "outputs": [],
   "source": [
    "# Tests for Q7 (worth 3 points)\n",
    "assert isinstance(q6_answer, str)\n"
   ]
  },
  {
   "cell_type": "markdown",
   "metadata": {
    "deletable": false,
    "editable": false,
    "nbgrader": {
     "cell_type": "markdown",
     "checksum": "dd95df71bfcaead837ce8c0282f91115",
     "grade": false,
     "grade_id": "cell-ba94ac01e332a19d",
     "locked": true,
     "schema_version": 3,
     "solution": false,
     "task": false
    }
   },
   "source": [
    "## Q8: Alternative correlation approaches\n",
    "\n",
    "Having plot the data, you may have noticed certain features that might lead the Pearson correlation to return results that don't match with your intuitive relationship between the variables.\n",
    "\n",
    "Let's figure out some ways of addressing that.\n",
    "\n",
    "We're going to create two variables. The first, <code>x_axis</code>, is supplied below. It is simply 10 numbers, evenly spaced, between 1 and 100.\n",
    "\n",
    "The second should be a function of <code>x_axis</code>. Specifically, create a new variable, <code>nonlinear_data</code> that is <code>x_axis</code> divided by <code>x_axis**2</code>. Plot the results.\n",
    "\n",
    "Last, calculate the Pearson correlation and associated <em>p</em>-value as <code>r_nonlinear</code> and <code>p_nonlinear</code>, respectively."
   ]
  },
  {
   "cell_type": "code",
   "execution_count": 23,
   "metadata": {
    "deletable": false,
    "nbgrader": {
     "cell_type": "code",
     "checksum": "81301470bdeff1f2330e4b87ef7e47ad",
     "grade": false,
     "grade_id": "cell-ed2a867c0bd42af4",
     "locked": false,
     "schema_version": 3,
     "solution": true,
     "task": false
    }
   },
   "outputs": [
    {
     "name": "stdout",
     "output_type": "stream",
     "text": [
      "pearson's r: -0.572108    pearson's p: 0.083960\n"
     ]
    },
    {
     "data": {
      "image/png": "[encoded data removed]",
      "text/plain": [
       "<Figure size 432x288 with 1 Axes>"
      ]
     },
     "metadata": {
      "image/png": {
       "height": 248,
       "width": 372
      },
      "needs_background": "light"
     },
     "output_type": "display_data"
    }
   ],
   "source": [
    "x_axis = np.linspace(1, 100, 10)\n",
    "\n",
    "# YOUR CODE HERE\n",
    "nonlinear_data = x_axis / (x_axis**2)\n",
    "plt.scatter(x_axis, nonlinear_data)\n",
    "\n",
    "r_nonlinear, p_nonlinear = sp.stats.pearsonr(x_axis, nonlinear_data)\n",
    "print(\"pearson's r: %f    pearson's p: %f\" % (r_nonlinear, p_nonlinear))\n"
   ]
  },
  {
   "cell_type": "code",
   "execution_count": 18,
   "metadata": {
    "deletable": false,
    "editable": false,
    "nbgrader": {
     "cell_type": "code",
     "checksum": "ee2750873e96ca1f160d9258e7092e59",
     "grade": true,
     "grade_id": "cell-e9342f30ae7182e3",
     "locked": true,
     "points": 5,
     "schema_version": 3,
     "solution": false,
     "task": false
    }
   },
   "outputs": [],
   "source": [
    "# Hidden tests (worth 5 points)"
   ]
  },
  {
   "cell_type": "markdown",
   "metadata": {
    "deletable": false,
    "editable": false,
    "nbgrader": {
     "cell_type": "markdown",
     "checksum": "cab8e5df6aab4f58ca4a860490accb52",
     "grade": false,
     "grade_id": "cell-9ac6bdeb93c03e6e",
     "locked": true,
     "schema_version": 3,
     "solution": false,
     "task": false
    }
   },
   "source": [
    "## Q9: Summary statistics: a cautionary tale\n",
    "\n",
    "From the plot above (and from the equation), you can see that <code>nonlinear_data</code> is monotonically related to <code>x_axis</code>, such that each successive value of <code>nonlinear_data</code> is smaller than the previous. But the <em>p</em>-value from the Pearson correlation significance test is non-significant (<em>p</em> > 0.05).\n",
    "\n",
    "A non-parameteric alternative to the Pearson correlation is the Spearman correlation (<code>scipy.stats.spearman</code>). This correlation approach examines the monotonicity of the relationship between the two variables. That is, rather than asking if they're linearly related, it asks how much one variable regularly increases (or decreases) in relation to the other.\n",
    "\n",
    "For this question, calculate the Spearman correlation between <code>x_axis</code> and <code>nonlinear_data</code>, and the associated <em>p</em>-value, as <code>rho_nonlinear</code> and <code>pho_nonlinear</code>, respectively.\n",
    "\n",
    "Do the same for all <code>(x, y)</code> pairs above. Store the correlation coefficients as an array called <code>rho_spearman</code>, and the <em>p</em>-values as an array called <code>p_spearman</code>.\n",
    "\n",
    "Note how the Spearman correlation coefficiencts ($\\rho$) and <em>p</em>-values differ from the Pearson ones."
   ]
  },
  {
   "cell_type": "code",
   "execution_count": 24,
   "metadata": {
    "deletable": false,
    "nbgrader": {
     "cell_type": "code",
     "checksum": "d5004012a4507cd99c5a691afe09ec81",
     "grade": false,
     "grade_id": "cell-f0bf1f90dfa785ee",
     "locked": false,
     "schema_version": 3,
     "solution": true,
     "task": false
    }
   },
   "outputs": [
    {
     "name": "stdout",
     "output_type": "stream",
     "text": [
      "spearman's r: -0.572108    spearman's p: 0.083960\n",
      "[0.69090909 0.69090909 0.99090909 0.5       ]\n",
      "[1.85650334e-02 1.85650334e-02 3.76257181e-09 1.17306803e-01]\n"
     ]
    }
   ],
   "source": [
    "# YOUR CODE HERE\n",
    "rho_nonlinear, pho_nonlinear = sp.stats.spearmanr(x_axis, nonlinear_data)\n",
    "print(\"spearman's r: %f    spearman's p: %f\" % (r_nonlinear, p_nonlinear))\n",
    "\n",
    "#rho_spearman, pho_spearman = sp.stats.spearmanr(xs, ys)\n",
    "#print(\"spearman's r: %f    spearman's p: %f\" % (rho_spearman, pho_spearman))\n",
    "\n",
    "rs1, ps1 = sp.stats.spearmanr(x1, y2)\n",
    "rs2, ps2 = sp.stats.spearmanr(x2, y2)\n",
    "rs3, ps3 = sp.stats.spearmanr(x3, y3)\n",
    "rs4, ps4 = sp.stats.spearmanr(x4, y4)\n",
    "rho_spearman = np.array([rs1, rs2, rs3, rs4])\n",
    "p_spearman = np.array([ps1, ps2, ps3, ps4])\n",
    "\n",
    "print(rho_spearman)\n",
    "print(p_spearman)\n"
   ]
  },
  {
   "cell_type": "code",
   "execution_count": 25,
   "metadata": {
    "deletable": false,
    "editable": false,
    "nbgrader": {
     "cell_type": "code",
     "checksum": "58b2b566d0569d29e2b4f6455028c5d1",
     "grade": true,
     "grade_id": "cell-dc76cfae32631e09",
     "locked": true,
     "points": 10,
     "schema_version": 3,
     "solution": false,
     "task": false
    }
   },
   "outputs": [],
   "source": [
    "# Hidden tests (worth 10 points)"
   ]
  },
  {
   "cell_type": "code",
   "execution_count": null,
   "metadata": {},
   "outputs": [],
   "source": []
  }
 ],
 "metadata": {
  "kernelspec": {
   "display_name": "Python 3",
   "language": "python",
   "name": "python3"
  },
  "language_info": {
   "codemirror_mode": {
    "name": "ipython",
    "version": 3
   },
   "file_extension": ".py",
   "mimetype": "text/x-python",
   "name": "python",
   "nbconvert_exporter": "python",
   "pygments_lexer": "ipython3",
   "version": "3.6.7"
  }
 },
 "nbformat": 4,
 "nbformat_minor": 2
}
