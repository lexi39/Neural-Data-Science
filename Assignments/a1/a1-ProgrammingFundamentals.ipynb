{
 "cells": [
  {
   "cell_type": "markdown",
   "metadata": {
    "deletable": false,
    "editable": false,
    "nbgrader": {
     "cell_type": "markdown",
     "checksum": "3a6e4a01380664ab44a5fe05741c3cc9",
     "grade": false,
     "grade_id": "cell-4be53d3332b4be9b",
     "locked": true,
     "schema_version": 3,
     "solution": false
    }
   },
   "source": [
    "# Assignment 1: Programming Fundamentals\n",
    "\n",
    "This assignment covers the material in Programming Fundamentals I & II.\n",
    "\n",
    "This assignment is worth 5 points (5% of your grade). \n",
    "\n",
    "**PLEASE DO NOT CHANGE THE NAME OF THIS FILE.**\n",
    "\n",
    "**PLEASE DO NOT COPY & PASTE OR DELETE CELLS INCLUDED IN THE ASSIGNMENT.**\n",
    "\n",
    "\n",
    "## How to complete assignments\n",
    "\n",
    "Whenever you see:\n",
    "\n",
    "```\n",
    "# YOUR CODE HERE\n",
    "raise NotImplementedError()\n",
    "```\n",
    "\n",
    "You need to **replace (meaning, delete) these lines of code with code that answers the questions** and meets the specified criteria. Make sure you remove the 'raise' line when you do this (or your notebook will raise an error, regardless of any other code, and thus fail the grading tests).\n",
    "\n",
    "You should write the answer to the questions in those cells (the ones with `# YOUR CODE HERE`), but you can also add extra cells to explore / investigate things if you need / want to. \n",
    "\n",
    "Any cell with `assert` statements in it is a test cell. You should not try to change or delete these cells. Note that there might be more than one assert that tests a particular question. \n",
    "\n",
    "If a test does fail, reading the error that is printed out should let you know which test failed, which may be useful for fixing it.\n",
    "\n",
    "Note that some cells, including the test cells, may be read only, which means they won't let you edit them. If you cannot edit a cell - that is normal, and you shouldn't need to edit that cell.\n",
    "\n",
    "\n",
    "## Tips & Tricks\n",
    "\n",
    "The following are a couple tips & tricks that may help you if you get stuck on anything.\n",
    "\n",
    "#### Printing Variables\n",
    "You can (and should) print and check variables as you go. This allows you to check what values they hold, and fix things if anything unexpected happens.\n",
    "\n",
    "#### Restarting the Kernel\n",
    "- If you run cells out of order, you can end up overwriting things in your namespace. \n",
    "- If things seem to go weird, a good first step is to restart the kernel, which you can do from the kernel menu above.\n",
    "- Even if everything seems to be working, it's a nice check to 'Restart & Run All', to make sure everything runs properly in order."
   ]
  },
  {
   "cell_type": "markdown",
   "metadata": {
    "deletable": false,
    "editable": false,
    "nbgrader": {
     "cell_type": "markdown",
     "checksum": "a53512baf0c1745613722ed937d98ab5",
     "grade": false,
     "grade_id": "cell-2379195456db25ad",
     "locked": true,
     "schema_version": 3,
     "solution": false
    }
   },
   "source": [
    "# Part I: Defining & manipulating variables\n",
    "\n",
    "## Q1\n",
    "Create the following variables:\n",
    "- a variable called `number` that stores the value 57\n",
    "- a variable called `decimal` that stores the value 9.32\n",
    "- a variable called `word` that stores the value 'BIPN162'\n",
    "- a variable called `int_dec`, created by casting `decimal` into an int"
   ]
  },
  {
   "cell_type": "code",
   "execution_count": 1,
   "metadata": {
    "deletable": false,
    "nbgrader": {
     "cell_type": "code",
     "checksum": "277230df716050132e7f73fb8033dd25",
     "grade": false,
     "grade_id": "cell-0ef9f3314e11ed42",
     "locked": false,
     "schema_version": 3,
     "solution": true
    }
   },
   "outputs": [
    {
     "name": "stdout",
     "output_type": "stream",
     "text": [
      "57\n",
      "9.32\n",
      "BIPN162\n",
      "9\n"
     ]
    }
   ],
   "source": [
    "# Create the variables\n",
    "\n",
    "# YOUR CODE HERE\n",
    "number = 57\n",
    "decimal = 9.32\n",
    "word = 'BIPN162'\n",
    "int_dec = int(decimal)\n",
    "print(number)\n",
    "print(decimal)\n",
    "print(word)\n",
    "print(int_dec)"
   ]
  },
  {
   "cell_type": "code",
   "execution_count": 2,
   "metadata": {
    "deletable": false,
    "editable": false,
    "nbgrader": {
     "cell_type": "code",
     "checksum": "0a47bc5f108ca0064c459b95cd54193b",
     "grade": true,
     "grade_id": "cell-ad80ab07f7755947",
     "locked": true,
     "points": 5,
     "schema_version": 3,
     "solution": false
    }
   },
   "outputs": [],
   "source": [
    "## Tests for Q1, worth 0.5 points\n",
    "\n",
    "# Check that variable `number` is an int, and has the correct value\n",
    "assert isinstance(number, int)\n",
    "assert number == 57\n",
    "\n",
    "# Check that variable `decimal` is a float, and has the correct value\n",
    "assert isinstance(decimal, float)\n",
    "assert decimal == 9.32\n",
    "\n",
    "# Check that variable `words` is a string, and has the correct value\n",
    "assert isinstance(word, str)\n",
    "assert word == \"BIPN162\"\n",
    "\n",
    "# Check that variable `int_dec is an int, and has the correct value\n",
    "assert isinstance(int_dec, int)\n",
    "assert int_dec == 9"
   ]
  },
  {
   "cell_type": "markdown",
   "metadata": {
    "deletable": false,
    "editable": false,
    "nbgrader": {
     "cell_type": "markdown",
     "checksum": "ff03b80fe52ef477dd72eb2d0e44ccb6",
     "grade": false,
     "grade_id": "cell-0f1da66e83a7e76e",
     "locked": true,
     "schema_version": 3,
     "solution": false
    }
   },
   "source": [
    "## Q2\n",
    "\n",
    "Create three different lists:\n",
    "\n",
    "- A list called string_list that contains three strings (can be any strings)\n",
    "- A list called float_list that contains three float numbers (can by any floats)\n",
    "- A list called int_list that contains three integers (can be any integers)\n",
    "- Then, create a new list, called nested_list which contains the three lists you created above."
   ]
  },
  {
   "cell_type": "code",
   "execution_count": 3,
   "metadata": {
    "deletable": false,
    "nbgrader": {
     "cell_type": "code",
     "checksum": "233db31f5691cd0be41849371adba838",
     "grade": false,
     "grade_id": "cell-951cc83732d3279e",
     "locked": false,
     "schema_version": 3,
     "solution": true
    }
   },
   "outputs": [
    {
     "name": "stdout",
     "output_type": "stream",
     "text": [
      "['lice', 'free', 'livin']\n",
      "[3.3, 9.9, 3.9]\n",
      "[3, 9, 39]\n",
      "[['lice', 'free', 'livin'], [3.3, 9.9, 3.9], [3, 9, 39]]\n"
     ]
    }
   ],
   "source": [
    "# YOUR CODE HERE\n",
    "string_list = ['lice','free','livin']\n",
    "float_list = [3.3, 9.9, 3.9]\n",
    "int_list = [3,9,39]\n",
    "nested_list = [string_list, float_list, int_list]\n",
    "print(string_list)\n",
    "print(float_list)\n",
    "print(int_list)\n",
    "print(nested_list)"
   ]
  },
  {
   "cell_type": "code",
   "execution_count": 4,
   "metadata": {
    "deletable": false,
    "editable": false,
    "nbgrader": {
     "cell_type": "code",
     "checksum": "16d91358dda72bade2af09f86d7bdaf2",
     "grade": true,
     "grade_id": "cell-b456dc57e71863e9",
     "locked": true,
     "points": 5,
     "schema_version": 3,
     "solution": false
    }
   },
   "outputs": [],
   "source": [
    "# Tests for Q2, worth 0.5 points\n",
    "\n",
    "assert isinstance(string_list, list)\n",
    "assert len(string_list) == 3\n",
    "assert isinstance(string_list[0], str)\n",
    "\n",
    "assert isinstance(float_list, list)\n",
    "assert len(float_list) == 3\n",
    "assert isinstance(float_list[0], float)\n",
    "\n",
    "assert isinstance(int_list, list)\n",
    "assert len(int_list) == 3\n",
    "assert isinstance(int_list[0], int)"
   ]
  },
  {
   "cell_type": "code",
   "execution_count": 5,
   "metadata": {
    "deletable": false,
    "editable": false,
    "nbgrader": {
     "cell_type": "code",
     "checksum": "95d03e068de7a836f762999c3c31e517",
     "grade": true,
     "grade_id": "cell-95c2533a89d58338",
     "locked": true,
     "points": 5,
     "schema_version": 3,
     "solution": false
    }
   },
   "outputs": [],
   "source": [
    "assert isinstance(nested_list, list)\n",
    "assert len(nested_list) == 3\n",
    "assert isinstance(nested_list[0], list)"
   ]
  },
  {
   "cell_type": "markdown",
   "metadata": {},
   "source": [
    "# Part II: Indexing & slicing lists\n",
    "\n",
    "For Part II, the following lists are provided for you. Make sure you run the following cell."
   ]
  },
  {
   "cell_type": "code",
   "execution_count": 6,
   "metadata": {},
   "outputs": [],
   "source": [
    "list_1 = [10, 20, 30, 40]\n",
    "list_2 = [13, 15, 17, 19, 21, 23]\n",
    "list_3 = [1, 2, 3, 4, 5, 6, 7, 8, 9, 10, 11]\n",
    "list_4 = [21, 9, 98, 289, 938]"
   ]
  },
  {
   "cell_type": "markdown",
   "metadata": {
    "deletable": false,
    "editable": false,
    "nbgrader": {
     "cell_type": "markdown",
     "checksum": "560021f2df7dec7b91185140af5d4e09",
     "grade": false,
     "grade_id": "cell-dec7f3e5ec4810a1",
     "locked": true,
     "schema_version": 3,
     "solution": false
    }
   },
   "source": [
    "## Q3\n",
    "\n",
    "Do the following using indexing:\n",
    "\n",
    "- Store the first value in list_1 a variable called index_1\n",
    "- Store the last value in list_2 to a variable called index_2\n",
    "- Store the first four values of list_3 to a variable called index_3\n",
    "- Store the last four values of list_4 to a variable called index_4"
   ]
  },
  {
   "cell_type": "code",
   "execution_count": 7,
   "metadata": {
    "deletable": false,
    "nbgrader": {
     "cell_type": "code",
     "checksum": "a2d9e285ce4917ce68a0b6bd6618a190",
     "grade": false,
     "grade_id": "cell-eed94ec7e065c79f",
     "locked": false,
     "schema_version": 3,
     "solution": true
    }
   },
   "outputs": [
    {
     "name": "stdout",
     "output_type": "stream",
     "text": [
      "10\n",
      "23\n",
      "[1, 2, 3, 4]\n",
      "[9, 98, 289, 938]\n"
     ]
    }
   ],
   "source": [
    "# YOUR CODE HERE\n",
    "index_1 = list_1[0]\n",
    "index_2 = list_2[-1]\n",
    "index_3 = list_3[0:4]\n",
    "index_4 = list_4[1:]\n",
    "print(index_1)\n",
    "print(index_2)\n",
    "print(index_3)\n",
    "print(index_4)"
   ]
  },
  {
   "cell_type": "code",
   "execution_count": 8,
   "metadata": {
    "deletable": false,
    "editable": false,
    "nbgrader": {
     "cell_type": "code",
     "checksum": "7baf6263dcdc76fdaeb808c1f1e1289c",
     "grade": true,
     "grade_id": "cell-5bcb79cb6e723b00",
     "locked": true,
     "points": 5,
     "schema_version": 3,
     "solution": false
    }
   },
   "outputs": [],
   "source": [
    "# Tests for Q3, worth 2 points total.\n",
    "\n",
    "assert isinstance(index_1, int)\n"
   ]
  },
  {
   "cell_type": "code",
   "execution_count": 9,
   "metadata": {
    "deletable": false,
    "editable": false,
    "nbgrader": {
     "cell_type": "code",
     "checksum": "aaf38aa6c93f7f20a0ea3896a2c9e48e",
     "grade": true,
     "grade_id": "cell-484ae049c7ae1620",
     "locked": true,
     "points": 5,
     "schema_version": 3,
     "solution": false
    }
   },
   "outputs": [],
   "source": [
    "assert isinstance(index_2, int)\n"
   ]
  },
  {
   "cell_type": "code",
   "execution_count": 10,
   "metadata": {
    "deletable": false,
    "editable": false,
    "nbgrader": {
     "cell_type": "code",
     "checksum": "660331203b74dc9bcf01e01f7f82152a",
     "grade": true,
     "grade_id": "cell-f3b62401bfedf7ca",
     "locked": true,
     "points": 5,
     "schema_version": 3,
     "solution": false
    }
   },
   "outputs": [],
   "source": [
    "assert isinstance(index_3, list)\n",
    "assert len(index_3) == 4\n"
   ]
  },
  {
   "cell_type": "code",
   "execution_count": 11,
   "metadata": {
    "deletable": false,
    "editable": false,
    "nbgrader": {
     "cell_type": "code",
     "checksum": "57319d8cb6118ad6dd1f600a6c6954d4",
     "grade": true,
     "grade_id": "cell-8f453f7b2d2513fa",
     "locked": true,
     "points": 5,
     "schema_version": 3,
     "solution": false
    }
   },
   "outputs": [],
   "source": [
    "assert isinstance(index_4, list)\n",
    "assert len(index_4) == 4\n"
   ]
  },
  {
   "cell_type": "markdown",
   "metadata": {
    "deletable": false,
    "editable": false,
    "nbgrader": {
     "cell_type": "markdown",
     "checksum": "acf0e314d388df76fc86658ebd8721dd",
     "grade": false,
     "grade_id": "cell-cec3af9dc8b60275",
     "locked": true,
     "schema_version": 3,
     "solution": false
    }
   },
   "source": [
    "# Part III: Create a gene dictionary\n",
    "Here, we'll create a dictionary of genes that are expressed in the brain. Choose any of the genes above to put into your dictionary:\n",
    "\n",
    "| Symbol | Full name                                |\n",
    "|--------|------------------------------------------|\n",
    "| BDNF   | brain derived neurotropic factor         |\n",
    "| DISC1  | disrupted in schizophrenia 1             |\n",
    "| PAX5   | paired box 5                             |\n",
    "| MECP2  | methyl CpG binding protein 2             |\n",
    "| SNAP25 | synaptosomal nerve-associated protein 25 |\n",
    "\n",
    "\n",
    "## Q4\n",
    "In the cell below, create a gene dictionary called `gene_dict` for three different genes from the list above. For each entry, the `key` should be a string that is the gene symbol, and the `value` should be the full name."
   ]
  },
  {
   "cell_type": "code",
   "execution_count": 12,
   "metadata": {
    "deletable": false,
    "nbgrader": {
     "cell_type": "code",
     "checksum": "a30a0228c36923a8c0b2b2ceb0394296",
     "grade": false,
     "grade_id": "cell-2328a4cfec50de9d",
     "locked": false,
     "schema_version": 3,
     "solution": true
    }
   },
   "outputs": [
    {
     "name": "stdout",
     "output_type": "stream",
     "text": [
      "{'BDNF': 'brain derived neurotrophic factor', 'DISC1': 'disrupted in schizophrenia 1', 'PAX5': 'paired box 5'}\n"
     ]
    }
   ],
   "source": [
    "# YOUR CODE HERE\n",
    "gene_dict = ({'BDNF':'brain derived neurotrophic factor', 'DISC1':'disrupted in schizophrenia 1', 'PAX5':'paired box 5'})\n",
    "print(gene_dict)"
   ]
  },
  {
   "cell_type": "code",
   "execution_count": 13,
   "metadata": {
    "deletable": false,
    "editable": false,
    "nbgrader": {
     "cell_type": "code",
     "checksum": "a2dabb979229f18be0be3531c6153169",
     "grade": true,
     "grade_id": "cell-8a3567cf1d345142",
     "locked": true,
     "points": 5,
     "schema_version": 3,
     "solution": false
    }
   },
   "outputs": [],
   "source": [
    "# Tests for Q4, worth 1.5 points total\n",
    "\n",
    "assert isinstance(gene_dict, dict)"
   ]
  },
  {
   "cell_type": "code",
   "execution_count": 14,
   "metadata": {
    "deletable": false,
    "editable": false,
    "nbgrader": {
     "cell_type": "code",
     "checksum": "73b89d0a025b65e4f0bfa2b5d67333d8",
     "grade": true,
     "grade_id": "cell-0e2562c1a5be1d9d",
     "locked": true,
     "points": 10,
     "schema_version": 3,
     "solution": false
    }
   },
   "outputs": [],
   "source": [
    "# Hidden tests for Q4 (no need to do anything here)"
   ]
  },
  {
   "cell_type": "code",
   "execution_count": 2,
   "metadata": {},
   "outputs": [
    {
     "data": {
      "text/plain": [
       "[0, 20, 2]"
      ]
     },
     "execution_count": 2,
     "metadata": {},
     "output_type": "execute_result"
    }
   ],
   "source": [
    "x = [0,20,2]"
   ]
  },
  {
   "cell_type": "code",
   "execution_count": null,
   "metadata": {},
   "outputs": [],
   "source": []
  }
 ],
 "metadata": {
  "kernelspec": {
   "display_name": "Python 3",
   "language": "python",
   "name": "python3"
  },
  "language_info": {
   "codemirror_mode": {
    "name": "ipython",
    "version": 3
   },
   "file_extension": ".py",
   "mimetype": "text/x-python",
   "name": "python",
   "nbconvert_exporter": "python",
   "pygments_lexer": "ipython3",
   "version": "3.6.7"
  }
 },
 "nbformat": 4,
 "nbformat_minor": 2
}
