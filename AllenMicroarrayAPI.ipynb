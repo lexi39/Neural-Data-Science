{
 "cells": [
  {
   "cell_type": "markdown",
   "metadata": {},
   "source": [
    "# Interacting with Microarray Data Through the Allen RMA/API\n",
    "\n",
    "The Allen Institute has an API to interact with their gene expression datasets. It runs through an RMA query, which is a little involved, but workable. There are sample RMA queries below, but you can also build a fully custom one <a href=\"http://api.brain-map.org/examples/rma_builder/rma_builder.html\">here</a>.\n",
    "\n",
    "Ultimately, this is a really useful way to interact with the data programmatically, without having to download it to your computer.\n",
    "\n",
    "<a href=\"http://help.brain-map.org/display/humanbrain/API\">Full documentation on the API here.</a>"
   ]
  },
  {
   "cell_type": "markdown",
   "metadata": {},
   "source": [
    "Using a package called `requests`, it's possible to interact directly with a website. As an example, here is a bit of code to get information from the Allen Brain Map:"
   ]
  },
  {
   "cell_type": "code",
   "execution_count": null,
   "metadata": {},
   "outputs": [],
   "source": [
    "import requests\n",
    "import json\n",
    "\n",
    "service = 'http://api.brain-map.org/api/v2/data/query.json?criteria=' \n",
    "\n",
    "#To get the donor ID\n",
    "specimen_name = 'H0351.1015'\n",
    "\n",
    "donor_result = requests.get('%smodel::Donor[name$eq\\'%s\\']' % (service,specimen_name)).json()\n",
    "\n",
    "donor_id = donor_result['msg'][0]['id']"
   ]
  },
  {
   "cell_type": "code",
   "execution_count": null,
   "metadata": {},
   "outputs": [],
   "source": [
    "# To get the ID for a brain area\n",
    "brain_area = 'locus ceruleus'\n",
    "ontology_id = 'Human Brain Atlas'\n",
    "\n",
    "structure_result = requests.get('%smodel::Structure,\\\n",
    "    rma::criteria,[name$il\\'%s\\'],ontology[name$eq\\'%s\\']' % (service,brain_area,ontology_id)).json()\n",
    "\n",
    "structure_id = structure_result['msg'][0]['id']"
   ]
  },
  {
   "cell_type": "code",
   "execution_count": null,
   "metadata": {},
   "outputs": [],
   "source": [
    "# To get the ID for a probe\n",
    "\n",
    "gene_acronym = 'SLC6A2'\n",
    "probe_type = 'DNA'\n",
    "product_abbrev = 'HumanMA'\n",
    "\n",
    "result = requests.get('%smodel::Probe, \\\n",
    "    rma::criteria,[probe_type$eq\\'%s\\'],products[abbreviation$eq\\'%s\\'],gene[acronym$eq\\'%s\\']' \\\n",
    "                      % (service,probe_type,product_abbrev,gene_acronym)).json()\n",
    "\n",
    "probe_id = [] \n",
    "for i in range(len(result['msg'])):\n",
    "    probe_id.append(result['msg'][i]['id'])\n",
    "\n",
    "print(probe_id)"
   ]
  },
  {
   "cell_type": "code",
   "execution_count": null,
   "metadata": {
    "scrolled": true
   },
   "outputs": [],
   "source": [
    "# To pull all this together to get the combination we want\n",
    "# Make sure you enter your probe ids below after 'probes$eq'\n",
    "results = requests.get('%sservice::human_microarray_expression \\\n",
    "[probes$eq1023147, 1023146][donors$eq\\'%s\\'][structures$eq\\'%s\\']' % (service,donor_id,structure_id)).json()\n",
    "\n",
    "# Results for all of the probes we tested for our donor. The data we want is 'z-score'.\n",
    "results['msg']['probes']"
   ]
  },
  {
   "cell_type": "markdown",
   "metadata": {},
   "source": [
    "With the ability to pull from the API like this, it's easy to say, create functions & transform the data into MNI coordinates! <a href=\"https://github.com/nicain/mni_example/blob/master/mni_transform.ipynb\">See an example here.</a>\n",
    "\n",
    "This isn't the smoothest API, and it's not too difficult to download data for each subject individually. The Allen has some <a href=\"https://github.com/AllenBrainAtlas/human-analysis-examples\">example tools</a> for what to do with the data, once you've downloaded it. "
   ]
  }
 ],
 "metadata": {
  "kernelspec": {
   "display_name": "Python 3",
   "language": "python",
   "name": "python3"
  },
  "language_info": {
   "codemirror_mode": {
    "name": "ipython",
    "version": 3
   },
   "file_extension": ".py",
   "mimetype": "text/x-python",
   "name": "python",
   "nbconvert_exporter": "python",
   "pygments_lexer": "ipython3",
   "version": "3.7.3"
  }
 },
 "nbformat": 4,
 "nbformat_minor": 2
}
